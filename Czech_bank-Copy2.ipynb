{
 "cells": [
  {
   "cell_type": "code",
   "execution_count": 1,
   "id": "5525e8d3",
   "metadata": {},
   "outputs": [],
   "source": [
    "import pandas as pd\n",
    "import numpy as np\n",
    "import matplotlib.pyplot as plt\n",
    "import seaborn as sns\n",
    "import pyodbc"
   ]
  },
  {
   "cell_type": "code",
   "execution_count": 2,
   "id": "a3c95c1b",
   "metadata": {},
   "outputs": [],
   "source": [
    "conn = pyodbc.connect('Driver={SQL Server};'\n",
    "                      'Server=CHINEDUEZEADI10\\MSSQLSERVER01;'\n",
    "                      'Database=BankCredit;'\n",
    "                      'Trusted_Connection=yes;')\n",
    "cursor = conn.cursor()"
   ]
  },
  {
   "cell_type": "code",
   "execution_count": 5,
   "id": "cb6b458b",
   "metadata": {},
   "outputs": [],
   "source": [
    "query = '''select g.client_id, a.account_id,b.trans_id, a.district_id, c.order_id, d.loan_id, \n",
    "(select max(date) from [dbo].[trans]) 'max_trnx_date',\n",
    "a.frequency as 'statement_freq', a.date as 'acct_open_date', b.amount as 'trnx_amount', b.balance, \n",
    "b.date as 'trnx_date', b.type as 'trnx_type', \n",
    "c.account_to, c.amount as 'order_amount', c.bank_to, c.k_symbol as 'order_ksymbol',\n",
    "d.amount as 'loan_amount', d.date as 'loan_date', d.duration as 'loan_duration', \n",
    "d.payments as 'loan_payments', d.status as 'loan_status',\n",
    "e.*, f.disp_id, f.type as 'disp_type', g.birth_number, \n",
    "h.card_id, h.type as 'card_type', h.issued as 'card_issued'\n",
    "from [dbo].[account] a\n",
    "left join [dbo].[trans] b\n",
    "on a.account_id=b.account_id\n",
    "left join [dbo].[order] c\n",
    "on a.account_id=c.account_id\n",
    "right join [dbo].[loan] d\n",
    "on a.account_id=d.account_id\n",
    "right join [dbo].[district] e\n",
    "on a.district_id=e.A1\n",
    "left join [dbo].[disp] f\n",
    "on a.account_id=f.account_id\n",
    "left join [dbo].[client] g\n",
    "on f.client_id=g.client_id\n",
    "inner join [dbo].[card] h\n",
    "on f.disp_id=h.disp_id;\n",
    "'''"
   ]
  },
  {
   "cell_type": "code",
   "execution_count": 6,
   "id": "45c13847",
   "metadata": {
    "scrolled": true
   },
   "outputs": [
    {
     "data": {
      "text/html": [
       "<div>\n",
       "<style scoped>\n",
       "    .dataframe tbody tr th:only-of-type {\n",
       "        vertical-align: middle;\n",
       "    }\n",
       "\n",
       "    .dataframe tbody tr th {\n",
       "        vertical-align: top;\n",
       "    }\n",
       "\n",
       "    .dataframe thead th {\n",
       "        text-align: right;\n",
       "    }\n",
       "</style>\n",
       "<table border=\"1\" class=\"dataframe\">\n",
       "  <thead>\n",
       "    <tr style=\"text-align: right;\">\n",
       "      <th></th>\n",
       "      <th>client_id</th>\n",
       "      <th>account_id</th>\n",
       "      <th>trans_id</th>\n",
       "      <th>district_id</th>\n",
       "      <th>order_id</th>\n",
       "      <th>loan_id</th>\n",
       "      <th>max_trnx_date</th>\n",
       "      <th>statement_freq</th>\n",
       "      <th>acct_open_date</th>\n",
       "      <th>trnx_amount</th>\n",
       "      <th>...</th>\n",
       "      <th>A13</th>\n",
       "      <th>A14</th>\n",
       "      <th>A15</th>\n",
       "      <th>A16</th>\n",
       "      <th>disp_id</th>\n",
       "      <th>disp_type</th>\n",
       "      <th>birth_number</th>\n",
       "      <th>card_id</th>\n",
       "      <th>card_type</th>\n",
       "      <th>card_issued</th>\n",
       "    </tr>\n",
       "  </thead>\n",
       "  <tbody>\n",
       "    <tr>\n",
       "      <th>104804</th>\n",
       "      <td>11497</td>\n",
       "      <td>9337</td>\n",
       "      <td>3682704</td>\n",
       "      <td>30</td>\n",
       "      <td>43228</td>\n",
       "      <td>6903</td>\n",
       "      <td>1998-12-31</td>\n",
       "      <td>POPLATEK MESICNE</td>\n",
       "      <td>930913</td>\n",
       "      <td>16.9</td>\n",
       "      <td>...</td>\n",
       "      <td>3.67</td>\n",
       "      <td>100</td>\n",
       "      <td>2985</td>\n",
       "      <td>2804</td>\n",
       "      <td>11189</td>\n",
       "      <td>OWNER</td>\n",
       "      <td>595717</td>\n",
       "      <td>1103</td>\n",
       "      <td>classic</td>\n",
       "      <td>951104 00:00:00</td>\n",
       "    </tr>\n",
       "    <tr>\n",
       "      <th>104805</th>\n",
       "      <td>11497</td>\n",
       "      <td>9337</td>\n",
       "      <td>3682705</td>\n",
       "      <td>30</td>\n",
       "      <td>43228</td>\n",
       "      <td>6903</td>\n",
       "      <td>1998-12-31</td>\n",
       "      <td>POPLATEK MESICNE</td>\n",
       "      <td>930913</td>\n",
       "      <td>2.4</td>\n",
       "      <td>...</td>\n",
       "      <td>3.67</td>\n",
       "      <td>100</td>\n",
       "      <td>2985</td>\n",
       "      <td>2804</td>\n",
       "      <td>11189</td>\n",
       "      <td>OWNER</td>\n",
       "      <td>595717</td>\n",
       "      <td>1103</td>\n",
       "      <td>classic</td>\n",
       "      <td>951104 00:00:00</td>\n",
       "    </tr>\n",
       "    <tr>\n",
       "      <th>104806</th>\n",
       "      <td>11497</td>\n",
       "      <td>9337</td>\n",
       "      <td>3682706</td>\n",
       "      <td>30</td>\n",
       "      <td>43228</td>\n",
       "      <td>6903</td>\n",
       "      <td>1998-12-31</td>\n",
       "      <td>POPLATEK MESICNE</td>\n",
       "      <td>930913</td>\n",
       "      <td>28.2</td>\n",
       "      <td>...</td>\n",
       "      <td>3.67</td>\n",
       "      <td>100</td>\n",
       "      <td>2985</td>\n",
       "      <td>2804</td>\n",
       "      <td>11189</td>\n",
       "      <td>OWNER</td>\n",
       "      <td>595717</td>\n",
       "      <td>1103</td>\n",
       "      <td>classic</td>\n",
       "      <td>951104 00:00:00</td>\n",
       "    </tr>\n",
       "    <tr>\n",
       "      <th>104807</th>\n",
       "      <td>11497</td>\n",
       "      <td>9337</td>\n",
       "      <td>3682707</td>\n",
       "      <td>30</td>\n",
       "      <td>43228</td>\n",
       "      <td>6903</td>\n",
       "      <td>1998-12-31</td>\n",
       "      <td>POPLATEK MESICNE</td>\n",
       "      <td>930913</td>\n",
       "      <td>1.9</td>\n",
       "      <td>...</td>\n",
       "      <td>3.67</td>\n",
       "      <td>100</td>\n",
       "      <td>2985</td>\n",
       "      <td>2804</td>\n",
       "      <td>11189</td>\n",
       "      <td>OWNER</td>\n",
       "      <td>595717</td>\n",
       "      <td>1103</td>\n",
       "      <td>classic</td>\n",
       "      <td>951104 00:00:00</td>\n",
       "    </tr>\n",
       "    <tr>\n",
       "      <th>104808</th>\n",
       "      <td>11497</td>\n",
       "      <td>9337</td>\n",
       "      <td>3682708</td>\n",
       "      <td>30</td>\n",
       "      <td>43228</td>\n",
       "      <td>6903</td>\n",
       "      <td>1998-12-31</td>\n",
       "      <td>POPLATEK MESICNE</td>\n",
       "      <td>930913</td>\n",
       "      <td>54.5</td>\n",
       "      <td>...</td>\n",
       "      <td>3.67</td>\n",
       "      <td>100</td>\n",
       "      <td>2985</td>\n",
       "      <td>2804</td>\n",
       "      <td>11189</td>\n",
       "      <td>OWNER</td>\n",
       "      <td>595717</td>\n",
       "      <td>1103</td>\n",
       "      <td>classic</td>\n",
       "      <td>951104 00:00:00</td>\n",
       "    </tr>\n",
       "    <tr>\n",
       "      <th>...</th>\n",
       "      <td>...</td>\n",
       "      <td>...</td>\n",
       "      <td>...</td>\n",
       "      <td>...</td>\n",
       "      <td>...</td>\n",
       "      <td>...</td>\n",
       "      <td>...</td>\n",
       "      <td>...</td>\n",
       "      <td>...</td>\n",
       "      <td>...</td>\n",
       "      <td>...</td>\n",
       "      <td>...</td>\n",
       "      <td>...</td>\n",
       "      <td>...</td>\n",
       "      <td>...</td>\n",
       "      <td>...</td>\n",
       "      <td>...</td>\n",
       "      <td>...</td>\n",
       "      <td>...</td>\n",
       "      <td>...</td>\n",
       "      <td>...</td>\n",
       "    </tr>\n",
       "    <tr>\n",
       "      <th>104899</th>\n",
       "      <td>12079</td>\n",
       "      <td>9814</td>\n",
       "      <td>3682835</td>\n",
       "      <td>64</td>\n",
       "      <td>43945</td>\n",
       "      <td>6995</td>\n",
       "      <td>1998-12-31</td>\n",
       "      <td>POPLATEK TYDNE</td>\n",
       "      <td>950119</td>\n",
       "      <td>295.4</td>\n",
       "      <td>...</td>\n",
       "      <td>2.31</td>\n",
       "      <td>145</td>\n",
       "      <td>4484</td>\n",
       "      <td>4265</td>\n",
       "      <td>11771</td>\n",
       "      <td>OWNER</td>\n",
       "      <td>725812</td>\n",
       "      <td>1137</td>\n",
       "      <td>gold</td>\n",
       "      <td>981201 00:00:00</td>\n",
       "    </tr>\n",
       "    <tr>\n",
       "      <th>104900</th>\n",
       "      <td>12079</td>\n",
       "      <td>9814</td>\n",
       "      <td>3682836</td>\n",
       "      <td>64</td>\n",
       "      <td>43945</td>\n",
       "      <td>6995</td>\n",
       "      <td>1998-12-31</td>\n",
       "      <td>POPLATEK TYDNE</td>\n",
       "      <td>950119</td>\n",
       "      <td>398.9</td>\n",
       "      <td>...</td>\n",
       "      <td>2.31</td>\n",
       "      <td>145</td>\n",
       "      <td>4484</td>\n",
       "      <td>4265</td>\n",
       "      <td>11771</td>\n",
       "      <td>OWNER</td>\n",
       "      <td>725812</td>\n",
       "      <td>1137</td>\n",
       "      <td>gold</td>\n",
       "      <td>981201 00:00:00</td>\n",
       "    </tr>\n",
       "    <tr>\n",
       "      <th>104901</th>\n",
       "      <td>12079</td>\n",
       "      <td>9814</td>\n",
       "      <td>3682837</td>\n",
       "      <td>64</td>\n",
       "      <td>43945</td>\n",
       "      <td>6995</td>\n",
       "      <td>1998-12-31</td>\n",
       "      <td>POPLATEK TYDNE</td>\n",
       "      <td>950119</td>\n",
       "      <td>439.3</td>\n",
       "      <td>...</td>\n",
       "      <td>2.31</td>\n",
       "      <td>145</td>\n",
       "      <td>4484</td>\n",
       "      <td>4265</td>\n",
       "      <td>11771</td>\n",
       "      <td>OWNER</td>\n",
       "      <td>725812</td>\n",
       "      <td>1137</td>\n",
       "      <td>gold</td>\n",
       "      <td>981201 00:00:00</td>\n",
       "    </tr>\n",
       "    <tr>\n",
       "      <th>104902</th>\n",
       "      <td>12079</td>\n",
       "      <td>9814</td>\n",
       "      <td>3682838</td>\n",
       "      <td>64</td>\n",
       "      <td>43945</td>\n",
       "      <td>6995</td>\n",
       "      <td>1998-12-31</td>\n",
       "      <td>POPLATEK TYDNE</td>\n",
       "      <td>950119</td>\n",
       "      <td>445.9</td>\n",
       "      <td>...</td>\n",
       "      <td>2.31</td>\n",
       "      <td>145</td>\n",
       "      <td>4484</td>\n",
       "      <td>4265</td>\n",
       "      <td>11771</td>\n",
       "      <td>OWNER</td>\n",
       "      <td>725812</td>\n",
       "      <td>1137</td>\n",
       "      <td>gold</td>\n",
       "      <td>981201 00:00:00</td>\n",
       "    </tr>\n",
       "    <tr>\n",
       "      <th>104903</th>\n",
       "      <td>12079</td>\n",
       "      <td>9814</td>\n",
       "      <td>3682839</td>\n",
       "      <td>64</td>\n",
       "      <td>43945</td>\n",
       "      <td>6995</td>\n",
       "      <td>1998-12-31</td>\n",
       "      <td>POPLATEK TYDNE</td>\n",
       "      <td>950119</td>\n",
       "      <td>348.9</td>\n",
       "      <td>...</td>\n",
       "      <td>2.31</td>\n",
       "      <td>145</td>\n",
       "      <td>4484</td>\n",
       "      <td>4265</td>\n",
       "      <td>11771</td>\n",
       "      <td>OWNER</td>\n",
       "      <td>725812</td>\n",
       "      <td>1137</td>\n",
       "      <td>gold</td>\n",
       "      <td>981201 00:00:00</td>\n",
       "    </tr>\n",
       "  </tbody>\n",
       "</table>\n",
       "<p>100 rows × 44 columns</p>\n",
       "</div>"
      ],
      "text/plain": [
       "       client_id  account_id  trans_id district_id  order_id  loan_id  \\\n",
       "104804     11497        9337   3682704          30     43228     6903   \n",
       "104805     11497        9337   3682705          30     43228     6903   \n",
       "104806     11497        9337   3682706          30     43228     6903   \n",
       "104807     11497        9337   3682707          30     43228     6903   \n",
       "104808     11497        9337   3682708          30     43228     6903   \n",
       "...          ...         ...       ...         ...       ...      ...   \n",
       "104899     12079        9814   3682835          64     43945     6995   \n",
       "104900     12079        9814   3682836          64     43945     6995   \n",
       "104901     12079        9814   3682837          64     43945     6995   \n",
       "104902     12079        9814   3682838          64     43945     6995   \n",
       "104903     12079        9814   3682839          64     43945     6995   \n",
       "\n",
       "       max_trnx_date    statement_freq  acct_open_date  trnx_amount  ...  \\\n",
       "104804    1998-12-31  POPLATEK MESICNE          930913         16.9  ...   \n",
       "104805    1998-12-31  POPLATEK MESICNE          930913          2.4  ...   \n",
       "104806    1998-12-31  POPLATEK MESICNE          930913         28.2  ...   \n",
       "104807    1998-12-31  POPLATEK MESICNE          930913          1.9  ...   \n",
       "104808    1998-12-31  POPLATEK MESICNE          930913         54.5  ...   \n",
       "...              ...               ...             ...          ...  ...   \n",
       "104899    1998-12-31    POPLATEK TYDNE          950119        295.4  ...   \n",
       "104900    1998-12-31    POPLATEK TYDNE          950119        398.9  ...   \n",
       "104901    1998-12-31    POPLATEK TYDNE          950119        439.3  ...   \n",
       "104902    1998-12-31    POPLATEK TYDNE          950119        445.9  ...   \n",
       "104903    1998-12-31    POPLATEK TYDNE          950119        348.9  ...   \n",
       "\n",
       "         A13  A14   A15   A16  disp_id disp_type birth_number  card_id  \\\n",
       "104804  3.67  100  2985  2804    11189     OWNER       595717     1103   \n",
       "104805  3.67  100  2985  2804    11189     OWNER       595717     1103   \n",
       "104806  3.67  100  2985  2804    11189     OWNER       595717     1103   \n",
       "104807  3.67  100  2985  2804    11189     OWNER       595717     1103   \n",
       "104808  3.67  100  2985  2804    11189     OWNER       595717     1103   \n",
       "...      ...  ...   ...   ...      ...       ...          ...      ...   \n",
       "104899  2.31  145  4484  4265    11771     OWNER       725812     1137   \n",
       "104900  2.31  145  4484  4265    11771     OWNER       725812     1137   \n",
       "104901  2.31  145  4484  4265    11771     OWNER       725812     1137   \n",
       "104902  2.31  145  4484  4265    11771     OWNER       725812     1137   \n",
       "104903  2.31  145  4484  4265    11771     OWNER       725812     1137   \n",
       "\n",
       "        card_type      card_issued  \n",
       "104804    classic  951104 00:00:00  \n",
       "104805    classic  951104 00:00:00  \n",
       "104806    classic  951104 00:00:00  \n",
       "104807    classic  951104 00:00:00  \n",
       "104808    classic  951104 00:00:00  \n",
       "...           ...              ...  \n",
       "104899       gold  981201 00:00:00  \n",
       "104900       gold  981201 00:00:00  \n",
       "104901       gold  981201 00:00:00  \n",
       "104902       gold  981201 00:00:00  \n",
       "104903       gold  981201 00:00:00  \n",
       "\n",
       "[100 rows x 44 columns]"
      ]
     },
     "execution_count": 6,
     "metadata": {},
     "output_type": "execute_result"
    }
   ],
   "source": [
    "df = pd.read_sql(query,conn)\n",
    "df.tail(100)"
   ]
  },
  {
   "cell_type": "code",
   "execution_count": 7,
   "id": "25ad8d51",
   "metadata": {},
   "outputs": [
    {
     "data": {
      "text/plain": [
       "(104904, 44)"
      ]
     },
     "execution_count": 7,
     "metadata": {},
     "output_type": "execute_result"
    }
   ],
   "source": [
    "df.shape"
   ]
  },
  {
   "cell_type": "markdown",
   "id": "c8e23dd6",
   "metadata": {},
   "source": [
    "### Exploratory Data Analysis"
   ]
  },
  {
   "cell_type": "code",
   "execution_count": 8,
   "id": "d3386766",
   "metadata": {},
   "outputs": [
    {
     "data": {
      "text/html": [
       "<div>\n",
       "<style scoped>\n",
       "    .dataframe tbody tr th:only-of-type {\n",
       "        vertical-align: middle;\n",
       "    }\n",
       "\n",
       "    .dataframe tbody tr th {\n",
       "        vertical-align: top;\n",
       "    }\n",
       "\n",
       "    .dataframe thead th {\n",
       "        text-align: right;\n",
       "    }\n",
       "</style>\n",
       "<table border=\"1\" class=\"dataframe\">\n",
       "  <thead>\n",
       "    <tr style=\"text-align: right;\">\n",
       "      <th></th>\n",
       "      <th>account_id</th>\n",
       "      <th>trans_id</th>\n",
       "      <th>order_id</th>\n",
       "      <th>loan_id</th>\n",
       "      <th>acct_open_date</th>\n",
       "      <th>trnx_amount</th>\n",
       "      <th>balance</th>\n",
       "      <th>account_to</th>\n",
       "      <th>order_amount</th>\n",
       "      <th>loan_amount</th>\n",
       "      <th>...</th>\n",
       "      <th>loan_duration</th>\n",
       "      <th>loan_payments</th>\n",
       "      <th>A4</th>\n",
       "      <th>A10</th>\n",
       "      <th>A11</th>\n",
       "      <th>A13</th>\n",
       "      <th>A14</th>\n",
       "      <th>A16</th>\n",
       "      <th>birth_number</th>\n",
       "      <th>card_id</th>\n",
       "    </tr>\n",
       "  </thead>\n",
       "  <tbody>\n",
       "    <tr>\n",
       "      <th>count</th>\n",
       "      <td>104904.000000</td>\n",
       "      <td>1.049040e+05</td>\n",
       "      <td>104904.000000</td>\n",
       "      <td>104904.000000</td>\n",
       "      <td>104904.000000</td>\n",
       "      <td>104904.000000</td>\n",
       "      <td>104904.000000</td>\n",
       "      <td>1.049040e+05</td>\n",
       "      <td>104904.000000</td>\n",
       "      <td>104904.000000</td>\n",
       "      <td>...</td>\n",
       "      <td>104904.000000</td>\n",
       "      <td>104904.000000</td>\n",
       "      <td>1.049040e+05</td>\n",
       "      <td>104904.000000</td>\n",
       "      <td>104904.000000</td>\n",
       "      <td>104904.000000</td>\n",
       "      <td>104904.000000</td>\n",
       "      <td>104904.000000</td>\n",
       "      <td>104904.000000</td>\n",
       "      <td>104904.000000</td>\n",
       "    </tr>\n",
       "    <tr>\n",
       "      <th>mean</th>\n",
       "      <td>6019.440117</td>\n",
       "      <td>2.048071e+06</td>\n",
       "      <td>38317.463357</td>\n",
       "      <td>6214.003737</td>\n",
       "      <td>946735.114352</td>\n",
       "      <td>9004.156235</td>\n",
       "      <td>53272.867359</td>\n",
       "      <td>5.082666e+07</td>\n",
       "      <td>4161.833874</td>\n",
       "      <td>137327.798101</td>\n",
       "      <td>...</td>\n",
       "      <td>33.864905</td>\n",
       "      <td>4275.480859</td>\n",
       "      <td>2.815466e+05</td>\n",
       "      <td>69.322133</td>\n",
       "      <td>9617.711622</td>\n",
       "      <td>3.717485</td>\n",
       "      <td>121.146372</td>\n",
       "      <td>17319.826947</td>\n",
       "      <td>599992.196313</td>\n",
       "      <td>812.490858</td>\n",
       "    </tr>\n",
       "    <tr>\n",
       "      <th>std</th>\n",
       "      <td>3300.811270</td>\n",
       "      <td>1.121282e+06</td>\n",
       "      <td>4909.554211</td>\n",
       "      <td>686.329786</td>\n",
       "      <td>13920.696331</td>\n",
       "      <td>12631.543042</td>\n",
       "      <td>24082.594920</td>\n",
       "      <td>2.786919e+07</td>\n",
       "      <td>2892.198423</td>\n",
       "      <td>103075.897103</td>\n",
       "      <td>...</td>\n",
       "      <td>17.886866</td>\n",
       "      <td>2239.771912</td>\n",
       "      <td>3.674266e+05</td>\n",
       "      <td>21.566983</td>\n",
       "      <td>1337.481725</td>\n",
       "      <td>2.386259</td>\n",
       "      <td>24.312819</td>\n",
       "      <td>32122.823628</td>\n",
       "      <td>136346.992548</td>\n",
       "      <td>332.203462</td>\n",
       "    </tr>\n",
       "    <tr>\n",
       "      <th>min</th>\n",
       "      <td>97.000000</td>\n",
       "      <td>2.988600e+04</td>\n",
       "      <td>29559.000000</td>\n",
       "      <td>4986.000000</td>\n",
       "      <td>930125.000000</td>\n",
       "      <td>0.000000</td>\n",
       "      <td>-6830.600000</td>\n",
       "      <td>3.990000e+02</td>\n",
       "      <td>2.000000</td>\n",
       "      <td>12540.000000</td>\n",
       "      <td>...</td>\n",
       "      <td>12.000000</td>\n",
       "      <td>312.000000</td>\n",
       "      <td>4.282100e+04</td>\n",
       "      <td>33.900000</td>\n",
       "      <td>8173.000000</td>\n",
       "      <td>0.430000</td>\n",
       "      <td>81.000000</td>\n",
       "      <td>888.000000</td>\n",
       "      <td>351003.000000</td>\n",
       "      <td>16.000000</td>\n",
       "    </tr>\n",
       "    <tr>\n",
       "      <th>25%</th>\n",
       "      <td>3050.000000</td>\n",
       "      <td>9.473640e+05</td>\n",
       "      <td>33915.000000</td>\n",
       "      <td>5595.000000</td>\n",
       "      <td>930824.000000</td>\n",
       "      <td>251.300000</td>\n",
       "      <td>35986.850000</td>\n",
       "      <td>2.690371e+07</td>\n",
       "      <td>1682.000000</td>\n",
       "      <td>57120.000000</td>\n",
       "      <td>...</td>\n",
       "      <td>12.000000</td>\n",
       "      <td>2567.000000</td>\n",
       "      <td>8.888400e+04</td>\n",
       "      <td>52.000000</td>\n",
       "      <td>8561.000000</td>\n",
       "      <td>1.850000</td>\n",
       "      <td>104.000000</td>\n",
       "      <td>2252.000000</td>\n",
       "      <td>490414.000000</td>\n",
       "      <td>577.000000</td>\n",
       "    </tr>\n",
       "    <tr>\n",
       "      <th>50%</th>\n",
       "      <td>5952.000000</td>\n",
       "      <td>2.042638e+06</td>\n",
       "      <td>38199.000000</td>\n",
       "      <td>6216.000000</td>\n",
       "      <td>950422.000000</td>\n",
       "      <td>3800.000000</td>\n",
       "      <td>50382.100000</td>\n",
       "      <td>5.379662e+07</td>\n",
       "      <td>3788.300000</td>\n",
       "      <td>102876.000000</td>\n",
       "      <td>...</td>\n",
       "      <td>36.000000</td>\n",
       "      <td>4164.000000</td>\n",
       "      <td>1.252360e+05</td>\n",
       "      <td>62.300000</td>\n",
       "      <td>9065.000000</td>\n",
       "      <td>3.740000</td>\n",
       "      <td>113.000000</td>\n",
       "      <td>3894.000000</td>\n",
       "      <td>606109.000000</td>\n",
       "      <td>882.000000</td>\n",
       "    </tr>\n",
       "    <tr>\n",
       "      <th>75%</th>\n",
       "      <td>9093.000000</td>\n",
       "      <td>3.134995e+06</td>\n",
       "      <td>42875.000000</td>\n",
       "      <td>6836.000000</td>\n",
       "      <td>960409.000000</td>\n",
       "      <td>11517.000000</td>\n",
       "      <td>67705.075000</td>\n",
       "      <td>7.276223e+07</td>\n",
       "      <td>6327.000000</td>\n",
       "      <td>189300.000000</td>\n",
       "      <td>...</td>\n",
       "      <td>48.000000</td>\n",
       "      <td>6315.000000</td>\n",
       "      <td>2.288480e+05</td>\n",
       "      <td>89.900000</td>\n",
       "      <td>10177.000000</td>\n",
       "      <td>5.440000</td>\n",
       "      <td>137.000000</td>\n",
       "      <td>9208.000000</td>\n",
       "      <td>720206.000000</td>\n",
       "      <td>1087.000000</td>\n",
       "    </tr>\n",
       "    <tr>\n",
       "      <th>max</th>\n",
       "      <td>11359.000000</td>\n",
       "      <td>3.682839e+06</td>\n",
       "      <td>46330.000000</td>\n",
       "      <td>7305.000000</td>\n",
       "      <td>971208.000000</td>\n",
       "      <td>78600.000000</td>\n",
       "      <td>209637.000000</td>\n",
       "      <td>9.980728e+07</td>\n",
       "      <td>13628.000000</td>\n",
       "      <td>495180.000000</td>\n",
       "      <td>...</td>\n",
       "      <td>60.000000</td>\n",
       "      <td>9910.000000</td>\n",
       "      <td>1.204953e+06</td>\n",
       "      <td>100.000000</td>\n",
       "      <td>12541.000000</td>\n",
       "      <td>9.400000</td>\n",
       "      <td>167.000000</td>\n",
       "      <td>99107.000000</td>\n",
       "      <td>806113.000000</td>\n",
       "      <td>1247.000000</td>\n",
       "    </tr>\n",
       "  </tbody>\n",
       "</table>\n",
       "<p>8 rows × 21 columns</p>\n",
       "</div>"
      ],
      "text/plain": [
       "          account_id      trans_id       order_id        loan_id  \\\n",
       "count  104904.000000  1.049040e+05  104904.000000  104904.000000   \n",
       "mean     6019.440117  2.048071e+06   38317.463357    6214.003737   \n",
       "std      3300.811270  1.121282e+06    4909.554211     686.329786   \n",
       "min        97.000000  2.988600e+04   29559.000000    4986.000000   \n",
       "25%      3050.000000  9.473640e+05   33915.000000    5595.000000   \n",
       "50%      5952.000000  2.042638e+06   38199.000000    6216.000000   \n",
       "75%      9093.000000  3.134995e+06   42875.000000    6836.000000   \n",
       "max     11359.000000  3.682839e+06   46330.000000    7305.000000   \n",
       "\n",
       "       acct_open_date    trnx_amount        balance    account_to  \\\n",
       "count   104904.000000  104904.000000  104904.000000  1.049040e+05   \n",
       "mean    946735.114352    9004.156235   53272.867359  5.082666e+07   \n",
       "std      13920.696331   12631.543042   24082.594920  2.786919e+07   \n",
       "min     930125.000000       0.000000   -6830.600000  3.990000e+02   \n",
       "25%     930824.000000     251.300000   35986.850000  2.690371e+07   \n",
       "50%     950422.000000    3800.000000   50382.100000  5.379662e+07   \n",
       "75%     960409.000000   11517.000000   67705.075000  7.276223e+07   \n",
       "max     971208.000000   78600.000000  209637.000000  9.980728e+07   \n",
       "\n",
       "        order_amount    loan_amount  ...  loan_duration  loan_payments  \\\n",
       "count  104904.000000  104904.000000  ...  104904.000000  104904.000000   \n",
       "mean     4161.833874  137327.798101  ...      33.864905    4275.480859   \n",
       "std      2892.198423  103075.897103  ...      17.886866    2239.771912   \n",
       "min         2.000000   12540.000000  ...      12.000000     312.000000   \n",
       "25%      1682.000000   57120.000000  ...      12.000000    2567.000000   \n",
       "50%      3788.300000  102876.000000  ...      36.000000    4164.000000   \n",
       "75%      6327.000000  189300.000000  ...      48.000000    6315.000000   \n",
       "max     13628.000000  495180.000000  ...      60.000000    9910.000000   \n",
       "\n",
       "                 A4            A10            A11            A13  \\\n",
       "count  1.049040e+05  104904.000000  104904.000000  104904.000000   \n",
       "mean   2.815466e+05      69.322133    9617.711622       3.717485   \n",
       "std    3.674266e+05      21.566983    1337.481725       2.386259   \n",
       "min    4.282100e+04      33.900000    8173.000000       0.430000   \n",
       "25%    8.888400e+04      52.000000    8561.000000       1.850000   \n",
       "50%    1.252360e+05      62.300000    9065.000000       3.740000   \n",
       "75%    2.288480e+05      89.900000   10177.000000       5.440000   \n",
       "max    1.204953e+06     100.000000   12541.000000       9.400000   \n",
       "\n",
       "                 A14            A16   birth_number        card_id  \n",
       "count  104904.000000  104904.000000  104904.000000  104904.000000  \n",
       "mean      121.146372   17319.826947  599992.196313     812.490858  \n",
       "std        24.312819   32122.823628  136346.992548     332.203462  \n",
       "min        81.000000     888.000000  351003.000000      16.000000  \n",
       "25%       104.000000    2252.000000  490414.000000     577.000000  \n",
       "50%       113.000000    3894.000000  606109.000000     882.000000  \n",
       "75%       137.000000    9208.000000  720206.000000    1087.000000  \n",
       "max       167.000000   99107.000000  806113.000000    1247.000000  \n",
       "\n",
       "[8 rows x 21 columns]"
      ]
     },
     "execution_count": 8,
     "metadata": {},
     "output_type": "execute_result"
    }
   ],
   "source": [
    "df.describe()"
   ]
  },
  {
   "cell_type": "code",
   "execution_count": 9,
   "id": "73f9492f",
   "metadata": {},
   "outputs": [
    {
     "name": "stdout",
     "output_type": "stream",
     "text": [
      "<class 'pandas.core.frame.DataFrame'>\n",
      "RangeIndex: 104904 entries, 0 to 104903\n",
      "Data columns (total 44 columns):\n",
      " #   Column          Non-Null Count   Dtype  \n",
      "---  ------          --------------   -----  \n",
      " 0   client_id       104904 non-null  object \n",
      " 1   account_id      104904 non-null  int64  \n",
      " 2   trans_id        104904 non-null  int64  \n",
      " 3   district_id     104904 non-null  object \n",
      " 4   order_id        104904 non-null  int64  \n",
      " 5   loan_id         104904 non-null  int64  \n",
      " 6   max_trnx_date   104904 non-null  object \n",
      " 7   statement_freq  104904 non-null  object \n",
      " 8   acct_open_date  104904 non-null  int64  \n",
      " 9   trnx_amount     104904 non-null  float64\n",
      " 10  balance         104904 non-null  float64\n",
      " 11  trnx_date       104904 non-null  object \n",
      " 12  trnx_type       104904 non-null  object \n",
      " 13  account_to      104904 non-null  int64  \n",
      " 14  order_amount    104904 non-null  float64\n",
      " 15  bank_to         104904 non-null  object \n",
      " 16  order_ksymbol   104904 non-null  object \n",
      " 17  loan_amount     104904 non-null  int64  \n",
      " 18  loan_date       104904 non-null  int64  \n",
      " 19  loan_duration   104904 non-null  int64  \n",
      " 20  loan_payments   104904 non-null  float64\n",
      " 21  loan_status     104904 non-null  object \n",
      " 22  A1              104904 non-null  object \n",
      " 23  A2              104904 non-null  object \n",
      " 24  A3              104904 non-null  object \n",
      " 25  A4              104904 non-null  int64  \n",
      " 26  A5              104904 non-null  object \n",
      " 27  A6              104904 non-null  object \n",
      " 28  A7              104904 non-null  object \n",
      " 29  A8              104904 non-null  object \n",
      " 30  A9              104904 non-null  object \n",
      " 31  A10             104904 non-null  float64\n",
      " 32  A11             104904 non-null  int64  \n",
      " 33  A12             104904 non-null  object \n",
      " 34  A13             104904 non-null  float64\n",
      " 35  A14             104904 non-null  int64  \n",
      " 36  A15             104904 non-null  object \n",
      " 37  A16             104904 non-null  int64  \n",
      " 38  disp_id         104904 non-null  object \n",
      " 39  disp_type       104904 non-null  object \n",
      " 40  birth_number    104904 non-null  int64  \n",
      " 41  card_id         104904 non-null  int64  \n",
      " 42  card_type       104904 non-null  object \n",
      " 43  card_issued     104904 non-null  object \n",
      "dtypes: float64(6), int64(15), object(23)\n",
      "memory usage: 35.2+ MB\n"
     ]
    }
   ],
   "source": [
    "df.info() #checking for null values and correct data types"
   ]
  },
  {
   "cell_type": "code",
   "execution_count": 10,
   "id": "dfc2bfb8",
   "metadata": {},
   "outputs": [
    {
     "data": {
      "text/plain": [
       "170"
      ]
     },
     "execution_count": 10,
     "metadata": {},
     "output_type": "execute_result"
    }
   ],
   "source": [
    "df['client_id'].nunique()"
   ]
  },
  {
   "cell_type": "markdown",
   "id": "85ca7edd",
   "metadata": {},
   "source": [
    "All these would need to be amended:\n",
    "District: A1,A4(nan-int),A5(None-int),A6(None-int),A7(None-int),A8(None-int),A9(None-int),A10(nan-int),A11(nan),A12(None-float),A13(nan),A14(nan-int),A15(?,None-int),A16(nan-int), account(int), account_to(int), client_id(int) district_id,trnx_date, loan_date, loan_duration(nan-int), disp_id, client_id, card_issued "
   ]
  },
  {
   "cell_type": "markdown",
   "id": "ee9ba85a",
   "metadata": {},
   "source": [
    "Wrangle the data to allow for further Data Exploration"
   ]
  },
  {
   "cell_type": "code",
   "execution_count": 11,
   "id": "5a6b61d6",
   "metadata": {},
   "outputs": [],
   "source": [
    "# replace the district features with names that are clear to identify the columns\n",
    "rename_district={'A1':'dist_code', 'A2':'dist_name', 'A3':'region', 'A4':'population','A5':'muni_pop<400',\n",
    "                 'A6':'muni_pop_500-1.99K', 'A7':'muni_pop_2K-9.99K','A8':'muni_pop>10K', 'A9':'num_cities',\n",
    "                 'A10':'urban_ratio','A11':'avg_sal','A12':'unemployment_rate_95','A13':'unemployment_rate_96',\n",
    "                 'A14':'enterpr_p1000','A15':'crimes_95','A16':'crimes_96'}"
   ]
  },
  {
   "cell_type": "code",
   "execution_count": 12,
   "id": "7c3b6b7d",
   "metadata": {},
   "outputs": [
    {
     "data": {
      "text/html": [
       "<div>\n",
       "<style scoped>\n",
       "    .dataframe tbody tr th:only-of-type {\n",
       "        vertical-align: middle;\n",
       "    }\n",
       "\n",
       "    .dataframe tbody tr th {\n",
       "        vertical-align: top;\n",
       "    }\n",
       "\n",
       "    .dataframe thead th {\n",
       "        text-align: right;\n",
       "    }\n",
       "</style>\n",
       "<table border=\"1\" class=\"dataframe\">\n",
       "  <thead>\n",
       "    <tr style=\"text-align: right;\">\n",
       "      <th></th>\n",
       "      <th>client_id</th>\n",
       "      <th>account_id</th>\n",
       "      <th>trans_id</th>\n",
       "      <th>district_id</th>\n",
       "      <th>order_id</th>\n",
       "      <th>loan_id</th>\n",
       "      <th>max_trnx_date</th>\n",
       "      <th>statement_freq</th>\n",
       "      <th>acct_open_date</th>\n",
       "      <th>trnx_amount</th>\n",
       "      <th>...</th>\n",
       "      <th>unemployment_rate_96</th>\n",
       "      <th>enterpr_p1000</th>\n",
       "      <th>crimes_95</th>\n",
       "      <th>crimes_96</th>\n",
       "      <th>disp_id</th>\n",
       "      <th>disp_type</th>\n",
       "      <th>birth_number</th>\n",
       "      <th>card_id</th>\n",
       "      <th>card_type</th>\n",
       "      <th>card_issued</th>\n",
       "    </tr>\n",
       "  </thead>\n",
       "  <tbody>\n",
       "    <tr>\n",
       "      <th>0</th>\n",
       "      <td>116</td>\n",
       "      <td>97</td>\n",
       "      <td>29886</td>\n",
       "      <td>74</td>\n",
       "      <td>29563</td>\n",
       "      <td>4986</td>\n",
       "      <td>1998-12-31</td>\n",
       "      <td>POPLATEK MESICNE</td>\n",
       "      <td>960505</td>\n",
       "      <td>900.0</td>\n",
       "      <td>...</td>\n",
       "      <td>5.44</td>\n",
       "      <td>100</td>\n",
       "      <td>18782</td>\n",
       "      <td>18347</td>\n",
       "      <td>116</td>\n",
       "      <td>OWNER</td>\n",
       "      <td>420128</td>\n",
       "      <td>16</td>\n",
       "      <td>classic</td>\n",
       "      <td>980623 00:00:00</td>\n",
       "    </tr>\n",
       "    <tr>\n",
       "      <th>1</th>\n",
       "      <td>116</td>\n",
       "      <td>97</td>\n",
       "      <td>29886</td>\n",
       "      <td>74</td>\n",
       "      <td>29562</td>\n",
       "      <td>4986</td>\n",
       "      <td>1998-12-31</td>\n",
       "      <td>POPLATEK MESICNE</td>\n",
       "      <td>960505</td>\n",
       "      <td>900.0</td>\n",
       "      <td>...</td>\n",
       "      <td>5.44</td>\n",
       "      <td>100</td>\n",
       "      <td>18782</td>\n",
       "      <td>18347</td>\n",
       "      <td>116</td>\n",
       "      <td>OWNER</td>\n",
       "      <td>420128</td>\n",
       "      <td>16</td>\n",
       "      <td>classic</td>\n",
       "      <td>980623 00:00:00</td>\n",
       "    </tr>\n",
       "    <tr>\n",
       "      <th>2</th>\n",
       "      <td>116</td>\n",
       "      <td>97</td>\n",
       "      <td>29886</td>\n",
       "      <td>74</td>\n",
       "      <td>29561</td>\n",
       "      <td>4986</td>\n",
       "      <td>1998-12-31</td>\n",
       "      <td>POPLATEK MESICNE</td>\n",
       "      <td>960505</td>\n",
       "      <td>900.0</td>\n",
       "      <td>...</td>\n",
       "      <td>5.44</td>\n",
       "      <td>100</td>\n",
       "      <td>18782</td>\n",
       "      <td>18347</td>\n",
       "      <td>116</td>\n",
       "      <td>OWNER</td>\n",
       "      <td>420128</td>\n",
       "      <td>16</td>\n",
       "      <td>classic</td>\n",
       "      <td>980623 00:00:00</td>\n",
       "    </tr>\n",
       "    <tr>\n",
       "      <th>3</th>\n",
       "      <td>116</td>\n",
       "      <td>97</td>\n",
       "      <td>29886</td>\n",
       "      <td>74</td>\n",
       "      <td>29560</td>\n",
       "      <td>4986</td>\n",
       "      <td>1998-12-31</td>\n",
       "      <td>POPLATEK MESICNE</td>\n",
       "      <td>960505</td>\n",
       "      <td>900.0</td>\n",
       "      <td>...</td>\n",
       "      <td>5.44</td>\n",
       "      <td>100</td>\n",
       "      <td>18782</td>\n",
       "      <td>18347</td>\n",
       "      <td>116</td>\n",
       "      <td>OWNER</td>\n",
       "      <td>420128</td>\n",
       "      <td>16</td>\n",
       "      <td>classic</td>\n",
       "      <td>980623 00:00:00</td>\n",
       "    </tr>\n",
       "    <tr>\n",
       "      <th>4</th>\n",
       "      <td>116</td>\n",
       "      <td>97</td>\n",
       "      <td>29891</td>\n",
       "      <td>74</td>\n",
       "      <td>29563</td>\n",
       "      <td>4986</td>\n",
       "      <td>1998-12-31</td>\n",
       "      <td>POPLATEK MESICNE</td>\n",
       "      <td>960505</td>\n",
       "      <td>17928.0</td>\n",
       "      <td>...</td>\n",
       "      <td>5.44</td>\n",
       "      <td>100</td>\n",
       "      <td>18782</td>\n",
       "      <td>18347</td>\n",
       "      <td>116</td>\n",
       "      <td>OWNER</td>\n",
       "      <td>420128</td>\n",
       "      <td>16</td>\n",
       "      <td>classic</td>\n",
       "      <td>980623 00:00:00</td>\n",
       "    </tr>\n",
       "    <tr>\n",
       "      <th>...</th>\n",
       "      <td>...</td>\n",
       "      <td>...</td>\n",
       "      <td>...</td>\n",
       "      <td>...</td>\n",
       "      <td>...</td>\n",
       "      <td>...</td>\n",
       "      <td>...</td>\n",
       "      <td>...</td>\n",
       "      <td>...</td>\n",
       "      <td>...</td>\n",
       "      <td>...</td>\n",
       "      <td>...</td>\n",
       "      <td>...</td>\n",
       "      <td>...</td>\n",
       "      <td>...</td>\n",
       "      <td>...</td>\n",
       "      <td>...</td>\n",
       "      <td>...</td>\n",
       "      <td>...</td>\n",
       "      <td>...</td>\n",
       "      <td>...</td>\n",
       "    </tr>\n",
       "    <tr>\n",
       "      <th>104899</th>\n",
       "      <td>12079</td>\n",
       "      <td>9814</td>\n",
       "      <td>3682835</td>\n",
       "      <td>64</td>\n",
       "      <td>43945</td>\n",
       "      <td>6995</td>\n",
       "      <td>1998-12-31</td>\n",
       "      <td>POPLATEK TYDNE</td>\n",
       "      <td>950119</td>\n",
       "      <td>295.4</td>\n",
       "      <td>...</td>\n",
       "      <td>2.31</td>\n",
       "      <td>145</td>\n",
       "      <td>4484</td>\n",
       "      <td>4265</td>\n",
       "      <td>11771</td>\n",
       "      <td>OWNER</td>\n",
       "      <td>725812</td>\n",
       "      <td>1137</td>\n",
       "      <td>gold</td>\n",
       "      <td>981201 00:00:00</td>\n",
       "    </tr>\n",
       "    <tr>\n",
       "      <th>104900</th>\n",
       "      <td>12079</td>\n",
       "      <td>9814</td>\n",
       "      <td>3682836</td>\n",
       "      <td>64</td>\n",
       "      <td>43945</td>\n",
       "      <td>6995</td>\n",
       "      <td>1998-12-31</td>\n",
       "      <td>POPLATEK TYDNE</td>\n",
       "      <td>950119</td>\n",
       "      <td>398.9</td>\n",
       "      <td>...</td>\n",
       "      <td>2.31</td>\n",
       "      <td>145</td>\n",
       "      <td>4484</td>\n",
       "      <td>4265</td>\n",
       "      <td>11771</td>\n",
       "      <td>OWNER</td>\n",
       "      <td>725812</td>\n",
       "      <td>1137</td>\n",
       "      <td>gold</td>\n",
       "      <td>981201 00:00:00</td>\n",
       "    </tr>\n",
       "    <tr>\n",
       "      <th>104901</th>\n",
       "      <td>12079</td>\n",
       "      <td>9814</td>\n",
       "      <td>3682837</td>\n",
       "      <td>64</td>\n",
       "      <td>43945</td>\n",
       "      <td>6995</td>\n",
       "      <td>1998-12-31</td>\n",
       "      <td>POPLATEK TYDNE</td>\n",
       "      <td>950119</td>\n",
       "      <td>439.3</td>\n",
       "      <td>...</td>\n",
       "      <td>2.31</td>\n",
       "      <td>145</td>\n",
       "      <td>4484</td>\n",
       "      <td>4265</td>\n",
       "      <td>11771</td>\n",
       "      <td>OWNER</td>\n",
       "      <td>725812</td>\n",
       "      <td>1137</td>\n",
       "      <td>gold</td>\n",
       "      <td>981201 00:00:00</td>\n",
       "    </tr>\n",
       "    <tr>\n",
       "      <th>104902</th>\n",
       "      <td>12079</td>\n",
       "      <td>9814</td>\n",
       "      <td>3682838</td>\n",
       "      <td>64</td>\n",
       "      <td>43945</td>\n",
       "      <td>6995</td>\n",
       "      <td>1998-12-31</td>\n",
       "      <td>POPLATEK TYDNE</td>\n",
       "      <td>950119</td>\n",
       "      <td>445.9</td>\n",
       "      <td>...</td>\n",
       "      <td>2.31</td>\n",
       "      <td>145</td>\n",
       "      <td>4484</td>\n",
       "      <td>4265</td>\n",
       "      <td>11771</td>\n",
       "      <td>OWNER</td>\n",
       "      <td>725812</td>\n",
       "      <td>1137</td>\n",
       "      <td>gold</td>\n",
       "      <td>981201 00:00:00</td>\n",
       "    </tr>\n",
       "    <tr>\n",
       "      <th>104903</th>\n",
       "      <td>12079</td>\n",
       "      <td>9814</td>\n",
       "      <td>3682839</td>\n",
       "      <td>64</td>\n",
       "      <td>43945</td>\n",
       "      <td>6995</td>\n",
       "      <td>1998-12-31</td>\n",
       "      <td>POPLATEK TYDNE</td>\n",
       "      <td>950119</td>\n",
       "      <td>348.9</td>\n",
       "      <td>...</td>\n",
       "      <td>2.31</td>\n",
       "      <td>145</td>\n",
       "      <td>4484</td>\n",
       "      <td>4265</td>\n",
       "      <td>11771</td>\n",
       "      <td>OWNER</td>\n",
       "      <td>725812</td>\n",
       "      <td>1137</td>\n",
       "      <td>gold</td>\n",
       "      <td>981201 00:00:00</td>\n",
       "    </tr>\n",
       "  </tbody>\n",
       "</table>\n",
       "<p>104904 rows × 44 columns</p>\n",
       "</div>"
      ],
      "text/plain": [
       "       client_id  account_id  trans_id district_id  order_id  loan_id  \\\n",
       "0            116          97     29886          74     29563     4986   \n",
       "1            116          97     29886          74     29562     4986   \n",
       "2            116          97     29886          74     29561     4986   \n",
       "3            116          97     29886          74     29560     4986   \n",
       "4            116          97     29891          74     29563     4986   \n",
       "...          ...         ...       ...         ...       ...      ...   \n",
       "104899     12079        9814   3682835          64     43945     6995   \n",
       "104900     12079        9814   3682836          64     43945     6995   \n",
       "104901     12079        9814   3682837          64     43945     6995   \n",
       "104902     12079        9814   3682838          64     43945     6995   \n",
       "104903     12079        9814   3682839          64     43945     6995   \n",
       "\n",
       "       max_trnx_date    statement_freq  acct_open_date  trnx_amount  ...  \\\n",
       "0         1998-12-31  POPLATEK MESICNE          960505        900.0  ...   \n",
       "1         1998-12-31  POPLATEK MESICNE          960505        900.0  ...   \n",
       "2         1998-12-31  POPLATEK MESICNE          960505        900.0  ...   \n",
       "3         1998-12-31  POPLATEK MESICNE          960505        900.0  ...   \n",
       "4         1998-12-31  POPLATEK MESICNE          960505      17928.0  ...   \n",
       "...              ...               ...             ...          ...  ...   \n",
       "104899    1998-12-31    POPLATEK TYDNE          950119        295.4  ...   \n",
       "104900    1998-12-31    POPLATEK TYDNE          950119        398.9  ...   \n",
       "104901    1998-12-31    POPLATEK TYDNE          950119        439.3  ...   \n",
       "104902    1998-12-31    POPLATEK TYDNE          950119        445.9  ...   \n",
       "104903    1998-12-31    POPLATEK TYDNE          950119        348.9  ...   \n",
       "\n",
       "        unemployment_rate_96 enterpr_p1000 crimes_95  crimes_96  disp_id  \\\n",
       "0                       5.44           100     18782      18347      116   \n",
       "1                       5.44           100     18782      18347      116   \n",
       "2                       5.44           100     18782      18347      116   \n",
       "3                       5.44           100     18782      18347      116   \n",
       "4                       5.44           100     18782      18347      116   \n",
       "...                      ...           ...       ...        ...      ...   \n",
       "104899                  2.31           145      4484       4265    11771   \n",
       "104900                  2.31           145      4484       4265    11771   \n",
       "104901                  2.31           145      4484       4265    11771   \n",
       "104902                  2.31           145      4484       4265    11771   \n",
       "104903                  2.31           145      4484       4265    11771   \n",
       "\n",
       "       disp_type birth_number  card_id  card_type      card_issued  \n",
       "0          OWNER       420128       16    classic  980623 00:00:00  \n",
       "1          OWNER       420128       16    classic  980623 00:00:00  \n",
       "2          OWNER       420128       16    classic  980623 00:00:00  \n",
       "3          OWNER       420128       16    classic  980623 00:00:00  \n",
       "4          OWNER       420128       16    classic  980623 00:00:00  \n",
       "...          ...          ...      ...        ...              ...  \n",
       "104899     OWNER       725812     1137       gold  981201 00:00:00  \n",
       "104900     OWNER       725812     1137       gold  981201 00:00:00  \n",
       "104901     OWNER       725812     1137       gold  981201 00:00:00  \n",
       "104902     OWNER       725812     1137       gold  981201 00:00:00  \n",
       "104903     OWNER       725812     1137       gold  981201 00:00:00  \n",
       "\n",
       "[104904 rows x 44 columns]"
      ]
     },
     "execution_count": 12,
     "metadata": {},
     "output_type": "execute_result"
    }
   ],
   "source": [
    "df.rename(rename_district, axis=1, inplace=True)\n",
    "df"
   ]
  },
  {
   "cell_type": "code",
   "execution_count": 13,
   "id": "b6bb9fe6",
   "metadata": {},
   "outputs": [
    {
     "data": {
      "text/plain": [
       "client_id               0\n",
       "account_id              0\n",
       "trans_id                0\n",
       "district_id             0\n",
       "order_id                0\n",
       "loan_id                 0\n",
       "max_trnx_date           0\n",
       "statement_freq          0\n",
       "acct_open_date          0\n",
       "trnx_amount             0\n",
       "balance                 0\n",
       "trnx_date               0\n",
       "trnx_type               0\n",
       "account_to              0\n",
       "order_amount            0\n",
       "bank_to                 0\n",
       "order_ksymbol           0\n",
       "loan_amount             0\n",
       "loan_date               0\n",
       "loan_duration           0\n",
       "loan_payments           0\n",
       "loan_status             0\n",
       "dist_code               0\n",
       "dist_name               0\n",
       "region                  0\n",
       "population              0\n",
       "muni_pop<400            0\n",
       "muni_pop_500-1.99K      0\n",
       "muni_pop_2K-9.99K       0\n",
       "muni_pop>10K            0\n",
       "num_cities              0\n",
       "urban_ratio             0\n",
       "avg_sal                 0\n",
       "unemployment_rate_95    0\n",
       "unemployment_rate_96    0\n",
       "enterpr_p1000           0\n",
       "crimes_95               0\n",
       "crimes_96               0\n",
       "disp_id                 0\n",
       "disp_type               0\n",
       "birth_number            0\n",
       "card_id                 0\n",
       "card_type               0\n",
       "card_issued             0\n",
       "dtype: int64"
      ]
     },
     "execution_count": 13,
     "metadata": {},
     "output_type": "execute_result"
    }
   ],
   "source": [
    "df.isnull().sum()"
   ]
  },
  {
   "cell_type": "markdown",
   "id": "598a31e6",
   "metadata": {},
   "source": [
    "replace null values and incorrect observations in columns"
   ]
  },
  {
   "cell_type": "code",
   "execution_count": 14,
   "id": "ef550248",
   "metadata": {},
   "outputs": [
    {
     "data": {
      "text/plain": [
       "array(['A', 'C', 'B', 'D'], dtype=object)"
      ]
     },
     "execution_count": 14,
     "metadata": {},
     "output_type": "execute_result"
    }
   ],
   "source": [
    "df['loan_status'].unique()"
   ]
  },
  {
   "cell_type": "markdown",
   "id": "5069e302",
   "metadata": {},
   "source": [
    "correct data types for wrong columns"
   ]
  },
  {
   "cell_type": "code",
   "execution_count": 15,
   "id": "ad42b066",
   "metadata": {},
   "outputs": [
    {
     "data": {
      "text/plain": [
       "0    85677\n",
       "dtype: object"
      ]
     },
     "execution_count": 15,
     "metadata": {},
     "output_type": "execute_result"
    }
   ],
   "source": [
    "df['crimes_95'].mode()"
   ]
  },
  {
   "cell_type": "code",
   "execution_count": 16,
   "id": "8831f5e1",
   "metadata": {},
   "outputs": [],
   "source": [
    "df['unemployment_rate_95']=df['unemployment_rate_95'].replace('?','0.29')\n",
    "df['crimes_95']=df['crimes_95'].replace('?', '85677')"
   ]
  },
  {
   "cell_type": "code",
   "execution_count": 17,
   "id": "539d841f",
   "metadata": {},
   "outputs": [],
   "source": [
    "df['muni_pop<400']=df['muni_pop<400'].astype(int)\n",
    "df['muni_pop_500-1.99K']=df['muni_pop_500-1.99K'].astype(int)\n",
    "df['muni_pop_2K-9.99K']=df['muni_pop_2K-9.99K'].astype(int)\n",
    "df['muni_pop>10K']=df['muni_pop>10K'].astype(int)\n",
    "df['num_cities']=df['num_cities'].astype(int)\n",
    "df['urban_ratio']=df['urban_ratio'].astype(int)\n",
    "df['unemployment_rate_95']=df['unemployment_rate_95'].astype(float)\n",
    "df['enterpr_p1000']=df['enterpr_p1000'].astype(int)\n",
    "df['crimes_96']=df['crimes_96'].astype(int)\n",
    "df['loan_duration']=df['loan_duration'].astype(int)\n",
    "df['population']=df['population'].astype(int)\n",
    "df['crimes_95']=df['crimes_95'].astype(int)\n",
    "df['trnx_amount']=df['trnx_amount'].astype(int)\n",
    "df['balance']=df['balance'].astype(int)\n",
    "df['loan_payments']=df['loan_payments'].astype(int)\n",
    "df['birth_number']=df['birth_number'].astype(object)"
   ]
  },
  {
   "cell_type": "markdown",
   "id": "17391e3f",
   "metadata": {},
   "source": [
    "correct columns with wrong datetime formats"
   ]
  },
  {
   "cell_type": "code",
   "execution_count": 18,
   "id": "777bed34",
   "metadata": {},
   "outputs": [
    {
     "data": {
      "text/plain": [
       "dtype('int64')"
      ]
     },
     "execution_count": 18,
     "metadata": {},
     "output_type": "execute_result"
    }
   ],
   "source": [
    "# starting with the loan_date\n",
    "df.loan_date.dtypes"
   ]
  },
  {
   "cell_type": "code",
   "execution_count": 19,
   "id": "87b3440a",
   "metadata": {},
   "outputs": [
    {
     "data": {
      "text/plain": [
       "array(['970810', '970810', '970810', ..., '960926', '960926', '960926'],\n",
       "      dtype=object)"
      ]
     },
     "execution_count": 19,
     "metadata": {},
     "output_type": "execute_result"
    }
   ],
   "source": [
    "df['loan_date']=df.loan_date.astype('int')\n",
    "df['loan_date']=df.loan_date.astype('str')\n",
    "df['loan_date'].values"
   ]
  },
  {
   "cell_type": "code",
   "execution_count": 20,
   "id": "5ba8e6f3",
   "metadata": {},
   "outputs": [
    {
     "data": {
      "text/plain": [
       "'1997-08-10'"
      ]
     },
     "execution_count": 20,
     "metadata": {},
     "output_type": "execute_result"
    }
   ],
   "source": [
    "loan_date=[]\n",
    "for x in df['loan_date']:\n",
    "    if x!='0':\n",
    "        loan_date.append('1'+'9'+x[0]+x[1]+'-'+x[2]+x[3]+'-'+x[4]+x[5])\n",
    "    else:\n",
    "        loan_date.append(x)\n",
    "\n",
    "df['loan_date']=loan_date\n",
    "df['loan_date'][0]"
   ]
  },
  {
   "cell_type": "code",
   "execution_count": 21,
   "id": "6f74b47e",
   "metadata": {},
   "outputs": [
    {
     "data": {
      "text/plain": [
       "'960505'"
      ]
     },
     "execution_count": 21,
     "metadata": {},
     "output_type": "execute_result"
    }
   ],
   "source": [
    "# change the format for 'acct_open_date'\n",
    "df.acct_open_date=df.acct_open_date.astype('int')\n",
    "df.acct_open_date=df.acct_open_date.astype('str')\n",
    "df.acct_open_date[0]"
   ]
  },
  {
   "cell_type": "code",
   "execution_count": 22,
   "id": "94ed7ea1",
   "metadata": {},
   "outputs": [
    {
     "data": {
      "text/plain": [
       "'1996-05-05'"
      ]
     },
     "execution_count": 22,
     "metadata": {},
     "output_type": "execute_result"
    }
   ],
   "source": [
    "acct=[]\n",
    "for x in df['acct_open_date']:\n",
    "    if x!='0':\n",
    "        acct.append('1'+'9'+x[0]+x[1]+'-'+x[2]+x[3]+'-'+x[4]+x[5])\n",
    "    else:\n",
    "        acct.append(x)\n",
    "\n",
    "df['acct_open_date']=acct\n",
    "df['acct_open_date'][0]"
   ]
  },
  {
   "cell_type": "code",
   "execution_count": 23,
   "id": "78527a01",
   "metadata": {},
   "outputs": [
    {
     "data": {
      "text/plain": [
       "array(['980623 00:00:00', '980623 00:00:00', '980623 00:00:00', ...,\n",
       "       '981201 00:00:00', '981201 00:00:00', '981201 00:00:00'],\n",
       "      dtype=object)"
      ]
     },
     "execution_count": 23,
     "metadata": {},
     "output_type": "execute_result"
    }
   ],
   "source": [
    "# change the date format for 'card_issued'\n",
    "df['card_issued']=df['card_issued'].fillna(0)\n",
    "df['card_issued']=df['card_issued'].astype('str')\n",
    "df['card_issued'].values"
   ]
  },
  {
   "cell_type": "code",
   "execution_count": 24,
   "id": "adaa2e10",
   "metadata": {},
   "outputs": [
    {
     "data": {
      "text/plain": [
       "'1998-09-16'"
      ]
     },
     "execution_count": 24,
     "metadata": {},
     "output_type": "execute_result"
    }
   ],
   "source": [
    "card=[]\n",
    "for x in df['card_issued']:\n",
    "    if x!='0':\n",
    "        card.append('1'+'9'+x[0]+x[1]+'-'+x[2]+x[3]+'-'+x[4]+x[5])\n",
    "    else:\n",
    "        card.append(x)\n",
    "\n",
    "df['card_issued']=card\n",
    "df['card_issued'][5000]"
   ]
  },
  {
   "cell_type": "markdown",
   "id": "be7cf97b",
   "metadata": {},
   "source": [
    "##### CREATE NEW COLUMNS TO CATEGORISE NUMERIC FIELDS FOR EASY ANALYSIS"
   ]
  },
  {
   "cell_type": "markdown",
   "id": "58bb9957",
   "metadata": {},
   "source": [
    "1. Population column"
   ]
  },
  {
   "cell_type": "code",
   "execution_count": 25,
   "id": "ee7e0b61",
   "metadata": {},
   "outputs": [
    {
     "data": {
      "text/plain": [
       "count    104904.000000\n",
       "mean         20.741487\n",
       "std          17.107608\n",
       "min           0.000000\n",
       "25%           2.000000\n",
       "50%          20.000000\n",
       "75%          33.000000\n",
       "max          70.000000\n",
       "Name: muni_pop_500-1.99K, dtype: float64"
      ]
     },
     "execution_count": 25,
     "metadata": {},
     "output_type": "execute_result"
    }
   ],
   "source": [
    "df['muni_pop_500-1.99K'].describe()"
   ]
  },
  {
   "cell_type": "code",
   "execution_count": 26,
   "id": "4e847f0c",
   "metadata": {},
   "outputs": [
    {
     "data": {
      "text/plain": [
       "0         <300k\n",
       "1         <300k\n",
       "2         <300k\n",
       "3         <300k\n",
       "4         <300k\n",
       "          ...  \n",
       "104899    <300k\n",
       "104900    <300k\n",
       "104901    <300k\n",
       "104902    <300k\n",
       "104903    <300k\n",
       "Name: pop_cat, Length: 104904, dtype: object"
      ]
     },
     "execution_count": 26,
     "metadata": {},
     "output_type": "execute_result"
    }
   ],
   "source": [
    "pop_cat = []\n",
    "for x in df['population']:\n",
    "    if x > 1 & x < 300000:\n",
    "       pop_cat.append('<300k') \n",
    "    elif x < 600000:\n",
    "        pop_cat.append('300k-600k')\n",
    "    elif x < 900000:\n",
    "        pop_cat.append('600k-900k')\n",
    "    elif x > 900000:\n",
    "        pop_cat.append('>900k')\n",
    "\n",
    "df['pop_cat']=pop_cat\n",
    "df['pop_cat']"
   ]
  },
  {
   "cell_type": "markdown",
   "id": "d2419446",
   "metadata": {},
   "source": [
    "2. Municipalities with population less than 400"
   ]
  },
  {
   "cell_type": "code",
   "execution_count": 27,
   "id": "a9e8f4a6",
   "metadata": {},
   "outputs": [
    {
     "data": {
      "text/plain": [
       "'<30'"
      ]
     },
     "execution_count": 27,
     "metadata": {},
     "output_type": "execute_result"
    }
   ],
   "source": [
    "muni_400 = []\n",
    "for x in df['muni_pop<400']:\n",
    "    if x > 0 & x <= 30:\n",
    "        muni_400.append('<30') \n",
    "    elif x <= 60:\n",
    "        muni_400.append('30-60')\n",
    "    elif x <= 90:\n",
    "        muni_400.append('60-90')\n",
    "    elif x <= 120:\n",
    "        muni_400.append('90-120')\n",
    "    elif x > 120:\n",
    "        muni_400.append('>120')\n",
    "\n",
    "df['muni400_cat']=muni_400\n",
    "df['muni400_cat'][2500]"
   ]
  },
  {
   "cell_type": "markdown",
   "id": "5926b871",
   "metadata": {},
   "source": [
    "3. Municipalities with population btw 500 and 1999"
   ]
  },
  {
   "cell_type": "code",
   "execution_count": 28,
   "id": "73d43d9f",
   "metadata": {},
   "outputs": [
    {
     "data": {
      "text/plain": [
       "'<25'"
      ]
     },
     "execution_count": 28,
     "metadata": {},
     "output_type": "execute_result"
    }
   ],
   "source": [
    "muni_500_1999 = []\n",
    "for x in df['muni_pop_500-1.99K']:\n",
    "    if x > 0 & x <= 25:\n",
    "        muni_500_1999.append('<25') \n",
    "    elif x <= 50:\n",
    "        muni_500_1999.append('25-50')\n",
    "    elif x>50:\n",
    "        muni_500_1999.append('>50')\n",
    "\n",
    "df['muni500-1.99K_cat']=muni_500_1999\n",
    "df['muni500-1.99K_cat'][10000]"
   ]
  },
  {
   "cell_type": "markdown",
   "id": "8ffa20c1",
   "metadata": {},
   "source": [
    "4. Municipalities with population btw 2000 and 9999"
   ]
  },
  {
   "cell_type": "code",
   "execution_count": 29,
   "id": "807322b9",
   "metadata": {},
   "outputs": [
    {
     "data": {
      "text/plain": [
       "'1-5'"
      ]
     },
     "execution_count": 29,
     "metadata": {},
     "output_type": "execute_result"
    }
   ],
   "source": [
    "muni_9999 = []\n",
    "for x in df['muni_pop_2K-9.99K']:\n",
    "    if x >0 & x <= 5:\n",
    "        muni_9999.append('1-5') \n",
    "    elif x <= 10:\n",
    "        muni_9999.append('6-10')\n",
    "    elif x <= 15:\n",
    "        muni_9999.append('11-15')\n",
    "    elif x > 15:\n",
    "        muni_9999.append('>15')\n",
    "\n",
    "df['muni<9999_cat']=muni_9999\n",
    "df['muni<9999_cat'][10000]"
   ]
  },
  {
   "cell_type": "markdown",
   "id": "7ce99b7b",
   "metadata": {},
   "source": [
    "5. Average Salary"
   ]
  },
  {
   "cell_type": "code",
   "execution_count": 30,
   "id": "91bc1937",
   "metadata": {},
   "outputs": [
    {
     "data": {
      "text/plain": [
       "0         avg\n",
       "1         avg\n",
       "2         avg\n",
       "3         avg\n",
       "4         avg\n",
       "         ... \n",
       "104899    avg\n",
       "104900    avg\n",
       "104901    avg\n",
       "104902    avg\n",
       "104903    avg\n",
       "Name: avg_sal_cat, Length: 104904, dtype: object"
      ]
     },
     "execution_count": 30,
     "metadata": {},
     "output_type": "execute_result"
    }
   ],
   "source": [
    "avg_sal = []\n",
    "for x in df['avg_sal']:\n",
    "    if x > 0 and x <= 4000:\n",
    "        avg_sal.append('avg_low') \n",
    "    elif x <=8000:\n",
    "        avg_sal.append('avg_mid')\n",
    "    elif x > 8000:\n",
    "        avg_sal.append('avg')\n",
    "    \n",
    "df['avg_sal_cat']=avg_sal\n",
    "df['avg_sal_cat']"
   ]
  },
  {
   "cell_type": "markdown",
   "id": "09910cf0",
   "metadata": {},
   "source": [
    "6. Unemployment rate in 1995"
   ]
  },
  {
   "cell_type": "code",
   "execution_count": 31,
   "id": "2442f505",
   "metadata": {},
   "outputs": [
    {
     "data": {
      "text/plain": [
       "0         4-6%\n",
       "1         4-6%\n",
       "2         4-6%\n",
       "3         4-6%\n",
       "4         4-6%\n",
       "          ... \n",
       "104899    0-2%\n",
       "104900    0-2%\n",
       "104901    0-2%\n",
       "104902    0-2%\n",
       "104903    0-2%\n",
       "Name: unemployment_95_cat, Length: 104904, dtype: object"
      ]
     },
     "execution_count": 31,
     "metadata": {},
     "output_type": "execute_result"
    }
   ],
   "source": [
    "unemploy_95 = []\n",
    "for x in df['unemployment_rate_95']:\n",
    "    if x > 0 and x <= 2:\n",
    "        unemploy_95.append('0-2%') \n",
    "    elif x <=4:\n",
    "        unemploy_95.append('2-4%')\n",
    "    elif x <=6:\n",
    "        unemploy_95.append('4-6%')\n",
    "    elif x>6:\n",
    "        unemploy_95.append('>6%')\n",
    "    \n",
    "df['unemployment_95_cat']=unemploy_95\n",
    "df['unemployment_95_cat']"
   ]
  },
  {
   "cell_type": "markdown",
   "id": "e5e176f2",
   "metadata": {},
   "source": [
    "7. Unemployment rate in 1996"
   ]
  },
  {
   "cell_type": "code",
   "execution_count": 32,
   "id": "1270ab29",
   "metadata": {},
   "outputs": [
    {
     "data": {
      "text/plain": [
       "0         4-6%\n",
       "1         4-6%\n",
       "2         4-6%\n",
       "3         4-6%\n",
       "4         4-6%\n",
       "          ... \n",
       "104899    2-4%\n",
       "104900    2-4%\n",
       "104901    2-4%\n",
       "104902    2-4%\n",
       "104903    2-4%\n",
       "Name: unemployment_96_cat, Length: 104904, dtype: object"
      ]
     },
     "execution_count": 32,
     "metadata": {},
     "output_type": "execute_result"
    }
   ],
   "source": [
    "unemploy_96 = []\n",
    "for x in df['unemployment_rate_96']:\n",
    "    if x > 0 and x<= 2:\n",
    "        unemploy_96.append('0-2%') \n",
    "    elif x <=4:\n",
    "        unemploy_96.append('2-4%')\n",
    "    elif x <=6:\n",
    "        unemploy_96.append('4-6%')\n",
    "    elif x>6:\n",
    "        unemploy_96.append('>6%')\n",
    "    \n",
    "df['unemployment_96_cat']=unemploy_96\n",
    "df['unemployment_96_cat']"
   ]
  },
  {
   "cell_type": "markdown",
   "id": "512ddf9c",
   "metadata": {},
   "source": [
    "8. Entrepreneurs/population of 1000"
   ]
  },
  {
   "cell_type": "code",
   "execution_count": 33,
   "id": "c667d854",
   "metadata": {},
   "outputs": [
    {
     "data": {
      "text/plain": [
       "0          mid_enterpr\n",
       "1          mid_enterpr\n",
       "2          mid_enterpr\n",
       "3          mid_enterpr\n",
       "4          mid_enterpr\n",
       "              ...     \n",
       "104899    high_enterpr\n",
       "104900    high_enterpr\n",
       "104901    high_enterpr\n",
       "104902    high_enterpr\n",
       "104903    high_enterpr\n",
       "Name: enterpr_p1000_cat, Length: 104904, dtype: object"
      ]
     },
     "execution_count": 33,
     "metadata": {},
     "output_type": "execute_result"
    }
   ],
   "source": [
    "enterpr_p1000 = []\n",
    "for x in df['enterpr_p1000']:\n",
    "    if x > 0 and x <= 40:\n",
    "        enterpr_p1000.append('very_low_enterpr') \n",
    "    elif x <=80:\n",
    "        enterpr_p1000.append('low_enterpr')\n",
    "    elif x <=120:\n",
    "        enterpr_p1000.append('mid_enterpr')\n",
    "    elif x > 120:\n",
    "        enterpr_p1000.append('high_enterpr')\n",
    "    \n",
    "df['enterpr_p1000_cat']=enterpr_p1000\n",
    "df['enterpr_p1000_cat']"
   ]
  },
  {
   "cell_type": "markdown",
   "id": "44c88836",
   "metadata": {},
   "source": [
    "9. Crime numbers in 1995"
   ]
  },
  {
   "cell_type": "code",
   "execution_count": 34,
   "id": "20fed12a",
   "metadata": {},
   "outputs": [
    {
     "data": {
      "text/plain": [
       "0         low_crime\n",
       "1         low_crime\n",
       "2         low_crime\n",
       "3         low_crime\n",
       "4         low_crime\n",
       "            ...    \n",
       "104899    low_crime\n",
       "104900    low_crime\n",
       "104901    low_crime\n",
       "104902    low_crime\n",
       "104903    low_crime\n",
       "Name: crimes_95_cat, Length: 104904, dtype: object"
      ]
     },
     "execution_count": 34,
     "metadata": {},
     "output_type": "execute_result"
    }
   ],
   "source": [
    "crimes_95 = []\n",
    "for x in df['crimes_95']:\n",
    "    if x > 0 and x <= 20000:\n",
    "        crimes_95.append('low_crime') \n",
    "    elif x <=40000:\n",
    "        crimes_95.append('mid_crime')\n",
    "    elif x <=60000:\n",
    "        crimes_95.append('mid_high_crime')\n",
    "    elif x>60000:\n",
    "        crimes_95.append('high_crime')\n",
    "    \n",
    "df['crimes_95_cat']=crimes_95\n",
    "df['crimes_95_cat']"
   ]
  },
  {
   "cell_type": "markdown",
   "id": "550a97dd",
   "metadata": {},
   "source": [
    "10. Crime numbers in 1996"
   ]
  },
  {
   "cell_type": "code",
   "execution_count": 35,
   "id": "528d9257",
   "metadata": {},
   "outputs": [
    {
     "data": {
      "text/plain": [
       "0         low_crime\n",
       "1         low_crime\n",
       "2         low_crime\n",
       "3         low_crime\n",
       "4         low_crime\n",
       "            ...    \n",
       "104899    low_crime\n",
       "104900    low_crime\n",
       "104901    low_crime\n",
       "104902    low_crime\n",
       "104903    low_crime\n",
       "Name: crimes_96_cat, Length: 104904, dtype: object"
      ]
     },
     "execution_count": 35,
     "metadata": {},
     "output_type": "execute_result"
    }
   ],
   "source": [
    "crimes_96 = []\n",
    "for x in df['crimes_96']:\n",
    "    if x > 0 and x<= 20000:\n",
    "        crimes_96.append('low_crime') \n",
    "    elif x <=40000:\n",
    "        crimes_96.append('mid_crime')\n",
    "    elif x <=60000:\n",
    "        crimes_96.append('mid_high_crime')\n",
    "    elif x>60000:\n",
    "        crimes_96.append('high_crime')\n",
    "    \n",
    "df['crimes_96_cat']=crimes_96\n",
    "df['crimes_96_cat']"
   ]
  },
  {
   "cell_type": "markdown",
   "id": "a4cb623a",
   "metadata": {},
   "source": [
    "11. Create Gender column from birth_number"
   ]
  },
  {
   "cell_type": "code",
   "execution_count": 36,
   "id": "c9018cd0",
   "metadata": {},
   "outputs": [],
   "source": [
    "# since the birth_number with(birthday) with the birth month beginning with '5 or '6' suggests it is a lady\n",
    "# we can go and create a new 'gender' feature.\n",
    "# first we change the datatype to strings to allow...\n",
    "df['birth_number']=df['birth_number'].astype(str)"
   ]
  },
  {
   "cell_type": "code",
   "execution_count": 37,
   "id": "c834ba8e",
   "metadata": {},
   "outputs": [
    {
     "data": {
      "text/plain": [
       "array(['420128', '420128', '420128', ..., '725812', '725812', '725812'],\n",
       "      dtype=object)"
      ]
     },
     "execution_count": 37,
     "metadata": {},
     "output_type": "execute_result"
    }
   ],
   "source": [
    "df['birth_number'].values"
   ]
  },
  {
   "cell_type": "code",
   "execution_count": 38,
   "id": "1d5d1e57",
   "metadata": {},
   "outputs": [],
   "source": [
    "#data format yymmdd. any mm which begins with 5 or 6 is a female and \n",
    "#we can apply our conditional statement to create a new feature\n",
    "gender=[]\n",
    "for x in df['birth_number']:\n",
    "    if x[2] == '5':\n",
    "        gender.append('female')\n",
    "    elif x[2]=='6':\n",
    "        gender.append('female')\n",
    "    else:\n",
    "        gender.append('male')\n",
    "df['gender']= gender"
   ]
  },
  {
   "cell_type": "code",
   "execution_count": 39,
   "id": "38e00730",
   "metadata": {},
   "outputs": [
    {
     "data": {
      "text/plain": [
       "male      60000\n",
       "female    44904\n",
       "Name: gender, dtype: int64"
      ]
     },
     "execution_count": 39,
     "metadata": {},
     "output_type": "execute_result"
    }
   ],
   "source": [
    "df.gender.value_counts()"
   ]
  },
  {
   "cell_type": "code",
   "execution_count": 40,
   "id": "c93fe0c0",
   "metadata": {},
   "outputs": [
    {
     "data": {
      "text/plain": [
       "array(['420128', '420128', '420128', ..., '720812', '720812', '720812'],\n",
       "      dtype=object)"
      ]
     },
     "execution_count": 40,
     "metadata": {},
     "output_type": "execute_result"
    }
   ],
   "source": [
    "# having deduced the gender from the birth_number, we can now convert the birth_number (birthday) of females\n",
    "# to a normal birthday representation\n",
    "birthnumber=[]\n",
    "for x in df['birth_number']:\n",
    "    if x[2]=='5':\n",
    "        birthnumber.append(x[0]+x[1]+'0'+x[3]+x[4]+x[5])\n",
    "    elif x[2]=='6':\n",
    "        birthnumber.append(x[0]+x[1]+'1'+x[3]+x[4]+x[5])\n",
    "    else:\n",
    "        birthnumber.append(x)\n",
    "df['birth_number']=birthnumber\n",
    "df['birth_number'].values"
   ]
  },
  {
   "cell_type": "code",
   "execution_count": 41,
   "id": "73f1e129",
   "metadata": {},
   "outputs": [
    {
     "data": {
      "text/plain": [
       "array(['1942-01-28', '1942-01-28', '1942-01-28', ..., '1972-08-12',\n",
       "       '1972-08-12', '1972-08-12'], dtype=object)"
      ]
     },
     "execution_count": 41,
     "metadata": {},
     "output_type": "execute_result"
    }
   ],
   "source": [
    "birth_number=[]\n",
    "for x in df['birth_number']:\n",
    "    if x!='0':\n",
    "        birth_number.append('1'+'9'+x[0]+x[1]+'-'+x[2]+x[3]+'-'+x[4]+x[5])\n",
    "    else:\n",
    "        birth_number.append(x)\n",
    "\n",
    "df['birth_number']=birth_number\n",
    "df['birth_number'].values\n"
   ]
  },
  {
   "cell_type": "code",
   "execution_count": 42,
   "id": "fe44e0ea",
   "metadata": {},
   "outputs": [
    {
     "data": {
      "text/plain": [
       "array(['1942-01-28', '1942-01-28', '1942-01-28', ..., '1972-08-12',\n",
       "       '1972-08-12', '1972-08-12'], dtype=object)"
      ]
     },
     "execution_count": 42,
     "metadata": {},
     "output_type": "execute_result"
    }
   ],
   "source": [
    "amend_birthday=[]\n",
    "for x in df['birth_number']:\n",
    "    if x[8]=='3':\n",
    "        amend_birthday.append(x[0]+x[1]+x[2]+x[3]+'-'+x[5]+x[6]+'-'+'2'+'8')\n",
    "    elif x[6]=='2':\n",
    "        amend_birthday.append(x[0]+x[1]+x[2]+x[3]+'-'+x[5]+x[6]+'-'+'2'+'8')\n",
    "    else:\n",
    "        amend_birthday.append(x)\n",
    "\n",
    "df['birth_number']=amend_birthday\n",
    "df['birth_number'].values"
   ]
  },
  {
   "cell_type": "code",
   "execution_count": 43,
   "id": "30c220e2",
   "metadata": {},
   "outputs": [
    {
     "data": {
      "text/plain": [
       "dtype('O')"
      ]
     },
     "execution_count": 43,
     "metadata": {},
     "output_type": "execute_result"
    }
   ],
   "source": [
    "df['birth_number'].dtypes"
   ]
  },
  {
   "cell_type": "code",
   "execution_count": 44,
   "id": "267f6c84",
   "metadata": {},
   "outputs": [],
   "source": [
    "df.rename(columns={'birth_number':'birthday'}, inplace=True) "
   ]
  },
  {
   "cell_type": "code",
   "execution_count": 45,
   "id": "d83911f5",
   "metadata": {},
   "outputs": [
    {
     "data": {
      "text/plain": [
       "0         1942-01-28\n",
       "1         1942-01-28\n",
       "2         1942-01-28\n",
       "3         1942-01-28\n",
       "4         1942-01-28\n",
       "             ...    \n",
       "104899    1972-08-12\n",
       "104900    1972-08-12\n",
       "104901    1972-08-12\n",
       "104902    1972-08-12\n",
       "104903    1972-08-12\n",
       "Name: birthday, Length: 104904, dtype: object"
      ]
     },
     "execution_count": 45,
     "metadata": {},
     "output_type": "execute_result"
    }
   ],
   "source": [
    "df.birthday"
   ]
  },
  {
   "cell_type": "markdown",
   "id": "b04e9f00",
   "metadata": {},
   "source": [
    "12. Create 'age' from 'birthday' columns"
   ]
  },
  {
   "cell_type": "code",
   "execution_count": 46,
   "id": "868d62b8",
   "metadata": {},
   "outputs": [
    {
     "data": {
      "text/plain": [
       "0         1998-12-31\n",
       "1         1998-12-31\n",
       "2         1998-12-31\n",
       "3         1998-12-31\n",
       "4         1998-12-31\n",
       "             ...    \n",
       "104899    1998-12-31\n",
       "104900    1998-12-31\n",
       "104901    1998-12-31\n",
       "104902    1998-12-31\n",
       "104903    1998-12-31\n",
       "Name: max_trnx_date, Length: 104904, dtype: object"
      ]
     },
     "execution_count": 46,
     "metadata": {},
     "output_type": "execute_result"
    }
   ],
   "source": [
    "df.max_trnx_date"
   ]
  },
  {
   "cell_type": "code",
   "execution_count": 47,
   "id": "234feada",
   "metadata": {},
   "outputs": [
    {
     "data": {
      "text/plain": [
       "array(['1998-12-31T00:00:00.000000000', '1998-12-31T00:00:00.000000000',\n",
       "       '1998-12-31T00:00:00.000000000', ...,\n",
       "       '1998-12-31T00:00:00.000000000', '1998-12-31T00:00:00.000000000',\n",
       "       '1998-12-31T00:00:00.000000000'], dtype='datetime64[ns]')"
      ]
     },
     "execution_count": 47,
     "metadata": {},
     "output_type": "execute_result"
    }
   ],
   "source": [
    "df.max_trnx_date=pd.to_datetime(df.max_trnx_date)\n",
    "df.max_trnx_date.values"
   ]
  },
  {
   "cell_type": "code",
   "execution_count": 48,
   "id": "df7555cf",
   "metadata": {},
   "outputs": [
    {
     "data": {
      "text/plain": [
       "array(['1942-01-28T00:00:00.000000000', '1942-01-28T00:00:00.000000000',\n",
       "       '1942-01-28T00:00:00.000000000', ...,\n",
       "       '1972-08-12T00:00:00.000000000', '1972-08-12T00:00:00.000000000',\n",
       "       '1972-08-12T00:00:00.000000000'], dtype='datetime64[ns]')"
      ]
     },
     "execution_count": 48,
     "metadata": {},
     "output_type": "execute_result"
    }
   ],
   "source": [
    "df.birthday=pd.to_datetime(df.birthday)\n",
    "df.birthday.values"
   ]
  },
  {
   "cell_type": "code",
   "execution_count": 49,
   "id": "d09ce7c8",
   "metadata": {
    "scrolled": true
   },
   "outputs": [
    {
     "data": {
      "text/plain": [
       "0        20791 days\n",
       "1        20791 days\n",
       "2        20791 days\n",
       "3        20791 days\n",
       "4        20791 days\n",
       "            ...    \n",
       "104899    9637 days\n",
       "104900    9637 days\n",
       "104901    9637 days\n",
       "104902    9637 days\n",
       "104903    9637 days\n",
       "Length: 104904, dtype: timedelta64[ns]"
      ]
     },
     "execution_count": 49,
     "metadata": {},
     "output_type": "execute_result"
    }
   ],
   "source": [
    "# find age as at max trx date by subtracting birthday from the max trnx date\n",
    "diff=df['max_trnx_date']-df['birthday']\n",
    "diff"
   ]
  },
  {
   "cell_type": "code",
   "execution_count": 50,
   "id": "fc9fba76",
   "metadata": {},
   "outputs": [
    {
     "data": {
      "text/plain": [
       "0         56.923825\n",
       "1         56.923825\n",
       "2         56.923825\n",
       "3         56.923825\n",
       "4         56.923825\n",
       "            ...    \n",
       "104899    26.385210\n",
       "104900    26.385210\n",
       "104901    26.385210\n",
       "104902    26.385210\n",
       "104903    26.385210\n",
       "Name: age, Length: 104904, dtype: float64"
      ]
     },
     "execution_count": 50,
     "metadata": {},
     "output_type": "execute_result"
    }
   ],
   "source": [
    "# convert from days to years\n",
    "df['age'] = (diff.dt.days + diff.dt.seconds/86400.0)/365.2425\n",
    "df['age']"
   ]
  },
  {
   "cell_type": "code",
   "execution_count": 51,
   "id": "60b7492f",
   "metadata": {},
   "outputs": [
    {
     "data": {
      "text/plain": [
       "count    104904.000000\n",
       "mean         38.283040\n",
       "std          13.621629\n",
       "min          18.000000\n",
       "25%          26.000000\n",
       "50%          38.000000\n",
       "75%          49.000000\n",
       "max          63.000000\n",
       "Name: age, dtype: float64"
      ]
     },
     "execution_count": 51,
     "metadata": {},
     "output_type": "execute_result"
    }
   ],
   "source": [
    "# check the age range\n",
    "df['age']=df['age'].astype(int)\n",
    "df['age'].describe()"
   ]
  },
  {
   "cell_type": "code",
   "execution_count": 52,
   "id": "69a23848",
   "metadata": {},
   "outputs": [
    {
     "data": {
      "text/plain": [
       "0               retiree\n",
       "1               retiree\n",
       "2               retiree\n",
       "3               retiree\n",
       "4               retiree\n",
       "              ...      \n",
       "104899    working_class\n",
       "104900    working_class\n",
       "104901    working_class\n",
       "104902    working_class\n",
       "104903    working_class\n",
       "Name: working_class, Length: 104904, dtype: object"
      ]
     },
     "execution_count": 52,
     "metadata": {},
     "output_type": "execute_result"
    }
   ],
   "source": [
    "# create new working_class feature from the 'age' column\n",
    "working_class=[]\n",
    "for x in df['age']:\n",
    "    if x <=23:\n",
    "        working_class.append('student')\n",
    "    elif x <= 30:\n",
    "        working_class.append('working_class')\n",
    "    elif x <= 40:\n",
    "        working_class.append('professional')\n",
    "    elif x <= 55:\n",
    "        working_class.append('expert')\n",
    "    else:\n",
    "        working_class.append('retiree')\n",
    "df['working_class']=working_class\n",
    "df['working_class']"
   ]
  },
  {
   "cell_type": "markdown",
   "id": "4fc851a7",
   "metadata": {},
   "source": [
    "#### Analysis of transactions, credit cards, and loans"
   ]
  },
  {
   "cell_type": "code",
   "execution_count": 53,
   "id": "4f28c858",
   "metadata": {},
   "outputs": [
    {
     "name": "stderr",
     "output_type": "stream",
     "text": [
      "C:\\ProgramData\\Anaconda3\\lib\\site-packages\\seaborn\\_decorators.py:36: FutureWarning: Pass the following variable as a keyword arg: x. From version 0.12, the only valid positional argument will be `data`, and passing other arguments without an explicit keyword will result in an error or misinterpretation.\n",
      "  warnings.warn(\n",
      "C:\\ProgramData\\Anaconda3\\lib\\site-packages\\seaborn\\_decorators.py:36: FutureWarning: Pass the following variable as a keyword arg: x. From version 0.12, the only valid positional argument will be `data`, and passing other arguments without an explicit keyword will result in an error or misinterpretation.\n",
      "  warnings.warn(\n",
      "C:\\ProgramData\\Anaconda3\\lib\\site-packages\\seaborn\\_decorators.py:36: FutureWarning: Pass the following variable as a keyword arg: x. From version 0.12, the only valid positional argument will be `data`, and passing other arguments without an explicit keyword will result in an error or misinterpretation.\n",
      "  warnings.warn(\n"
     ]
    },
    {
     "data": {
      "text/plain": [
       "<AxesSubplot:xlabel='loan_status', ylabel='count'>"
      ]
     },
     "execution_count": 53,
     "metadata": {},
     "output_type": "execute_result"
    },
    {
     "data": {
      "image/png": "[encoded data removed]",
      "text/plain": [
       "<Figure size 1440x576 with 3 Axes>"
      ]
     },
     "metadata": {
      "needs_background": "light"
     },
     "output_type": "display_data"
    }
   ],
   "source": [
    "fig, axes = plt.subplots(1,3 , figsize=(20,8), sharey=True)\n",
    "sns.countplot(\"trnx_type\", data=df, ax=axes[0])\n",
    "sns.countplot(\"loan_duration\", data=df, ax=axes[1])\n",
    "sns.countplot(\"loan_status\", data=df, ax=axes[2])"
   ]
  },
  {
   "cell_type": "code",
   "execution_count": 54,
   "id": "40e8f954",
   "metadata": {},
   "outputs": [
    {
     "data": {
      "text/plain": [
       "A    52231\n",
       "C    49195\n",
       "B     2526\n",
       "D      952\n",
       "Name: loan_status, dtype: int64"
      ]
     },
     "execution_count": 54,
     "metadata": {},
     "output_type": "execute_result"
    }
   ],
   "source": [
    "df.loan_status.value_counts()"
   ]
  },
  {
   "cell_type": "markdown",
   "id": "393e2622",
   "metadata": {},
   "source": [
    "1. almost twice as much transactions are debit, than are credit \n",
    "2. the top two transactions are 'credit card withdrawals' and 'remittance to other banks'\n",
    "3. 92.5% of loans are fully paid off at maturity of the contract\n",
    "4. 92.9% of loans within contract terms have payments up to date"
   ]
  },
  {
   "cell_type": "markdown",
   "id": "143815f8",
   "metadata": {},
   "source": [
    "#### Analysis of regional demographics"
   ]
  },
  {
   "cell_type": "code",
   "execution_count": 55,
   "id": "fbaad596",
   "metadata": {
    "scrolled": true
   },
   "outputs": [
    {
     "name": "stderr",
     "output_type": "stream",
     "text": [
      "C:\\ProgramData\\Anaconda3\\lib\\site-packages\\seaborn\\_decorators.py:36: FutureWarning: Pass the following variable as a keyword arg: x. From version 0.12, the only valid positional argument will be `data`, and passing other arguments without an explicit keyword will result in an error or misinterpretation.\n",
      "  warnings.warn(\n",
      "C:\\ProgramData\\Anaconda3\\lib\\site-packages\\seaborn\\_decorators.py:36: FutureWarning: Pass the following variable as a keyword arg: x. From version 0.12, the only valid positional argument will be `data`, and passing other arguments without an explicit keyword will result in an error or misinterpretation.\n",
      "  warnings.warn(\n",
      "C:\\ProgramData\\Anaconda3\\lib\\site-packages\\seaborn\\_decorators.py:36: FutureWarning: Pass the following variable as a keyword arg: x. From version 0.12, the only valid positional argument will be `data`, and passing other arguments without an explicit keyword will result in an error or misinterpretation.\n",
      "  warnings.warn(\n",
      "C:\\ProgramData\\Anaconda3\\lib\\site-packages\\seaborn\\_decorators.py:36: FutureWarning: Pass the following variable as a keyword arg: x. From version 0.12, the only valid positional argument will be `data`, and passing other arguments without an explicit keyword will result in an error or misinterpretation.\n",
      "  warnings.warn(\n",
      "C:\\ProgramData\\Anaconda3\\lib\\site-packages\\seaborn\\_decorators.py:36: FutureWarning: Pass the following variable as a keyword arg: x. From version 0.12, the only valid positional argument will be `data`, and passing other arguments without an explicit keyword will result in an error or misinterpretation.\n",
      "  warnings.warn(\n",
      "C:\\ProgramData\\Anaconda3\\lib\\site-packages\\seaborn\\_decorators.py:36: FutureWarning: Pass the following variable as a keyword arg: x. From version 0.12, the only valid positional argument will be `data`, and passing other arguments without an explicit keyword will result in an error or misinterpretation.\n",
      "  warnings.warn(\n",
      "C:\\ProgramData\\Anaconda3\\lib\\site-packages\\seaborn\\_decorators.py:36: FutureWarning: Pass the following variable as a keyword arg: x. From version 0.12, the only valid positional argument will be `data`, and passing other arguments without an explicit keyword will result in an error or misinterpretation.\n",
      "  warnings.warn(\n",
      "C:\\ProgramData\\Anaconda3\\lib\\site-packages\\seaborn\\_decorators.py:36: FutureWarning: Pass the following variable as a keyword arg: x. From version 0.12, the only valid positional argument will be `data`, and passing other arguments without an explicit keyword will result in an error or misinterpretation.\n",
      "  warnings.warn(\n",
      "C:\\ProgramData\\Anaconda3\\lib\\site-packages\\seaborn\\_decorators.py:36: FutureWarning: Pass the following variable as a keyword arg: x. From version 0.12, the only valid positional argument will be `data`, and passing other arguments without an explicit keyword will result in an error or misinterpretation.\n",
      "  warnings.warn(\n",
      "C:\\ProgramData\\Anaconda3\\lib\\site-packages\\seaborn\\_decorators.py:36: FutureWarning: Pass the following variable as a keyword arg: x. From version 0.12, the only valid positional argument will be `data`, and passing other arguments without an explicit keyword will result in an error or misinterpretation.\n",
      "  warnings.warn(\n",
      "C:\\ProgramData\\Anaconda3\\lib\\site-packages\\seaborn\\_decorators.py:36: FutureWarning: Pass the following variable as a keyword arg: x. From version 0.12, the only valid positional argument will be `data`, and passing other arguments without an explicit keyword will result in an error or misinterpretation.\n",
      "  warnings.warn(\n",
      "C:\\ProgramData\\Anaconda3\\lib\\site-packages\\seaborn\\_decorators.py:36: FutureWarning: Pass the following variable as a keyword arg: x. From version 0.12, the only valid positional argument will be `data`, and passing other arguments without an explicit keyword will result in an error or misinterpretation.\n",
      "  warnings.warn(\n",
      "C:\\ProgramData\\Anaconda3\\lib\\site-packages\\seaborn\\_decorators.py:36: FutureWarning: Pass the following variable as a keyword arg: x. From version 0.12, the only valid positional argument will be `data`, and passing other arguments without an explicit keyword will result in an error or misinterpretation.\n",
      "  warnings.warn(\n"
     ]
    },
    {
     "data": {
      "text/plain": [
       "<AxesSubplot:xlabel='unemployment_96_cat', ylabel='count'>"
      ]
     },
     "execution_count": 55,
     "metadata": {},
     "output_type": "execute_result"
    },
    {
     "data": {
      "image/png": "[encoded data removed]",
      "text/plain": [
       "<Figure size 1440x1440 with 15 Axes>"
      ]
     },
     "metadata": {
      "needs_background": "light"
     },
     "output_type": "display_data"
    }
   ],
   "source": [
    "fig, axes = plt.subplots(5,3 , figsize=(20, 20), sharey=True)\n",
    "sns.countplot(\"region\", data=df, ax=axes[0,0])\n",
    "sns.countplot(\"pop_cat\", data=df, ax=axes[0,1])\n",
    "sns.countplot(\"muni400_cat\", data=df, ax=axes[0,2])\n",
    "sns.countplot(\"muni500-1.99K_cat\", data=df, ax=axes[1,0])\n",
    "sns.countplot(\"muni<9999_cat\", data=df, ax=axes[1,1])\n",
    "sns.countplot(\"muni_pop>10K\", data=df, ax=axes[1,2])\n",
    "sns.countplot(\"num_cities\", data=df, ax=axes[2,0])\n",
    "sns.countplot(\"urban_ratio\", data=df, ax=axes[2,1])\n",
    "sns.countplot(\"crimes_95_cat\", data=df, ax=axes[2,2])\n",
    "sns.countplot(\"crimes_96_cat\", data=df, ax=axes[3,0]) \n",
    "sns.countplot(\"enterpr_p1000_cat\", data=df, ax=axes[3,1])\n",
    "sns.countplot(\"unemployment_95_cat\", data=df, ax=axes[3,2])\n",
    "sns.countplot(\"unemployment_96_cat\", data=df, ax=axes[4,0])\n"
   ]
  },
  {
   "cell_type": "code",
   "execution_count": 56,
   "id": "541cf37d",
   "metadata": {},
   "outputs": [
    {
     "data": {
      "text/html": [
       "<div>\n",
       "<style scoped>\n",
       "    .dataframe tbody tr th:only-of-type {\n",
       "        vertical-align: middle;\n",
       "    }\n",
       "\n",
       "    .dataframe tbody tr th {\n",
       "        vertical-align: top;\n",
       "    }\n",
       "\n",
       "    .dataframe thead th {\n",
       "        text-align: right;\n",
       "    }\n",
       "</style>\n",
       "<table border=\"1\" class=\"dataframe\">\n",
       "  <thead>\n",
       "    <tr style=\"text-align: right;\">\n",
       "      <th></th>\n",
       "      <th>population</th>\n",
       "    </tr>\n",
       "    <tr>\n",
       "      <th>region</th>\n",
       "      <th></th>\n",
       "    </tr>\n",
       "  </thead>\n",
       "  <tbody>\n",
       "    <tr>\n",
       "      <th>Prague</th>\n",
       "      <td>1.204953e+06</td>\n",
       "    </tr>\n",
       "    <tr>\n",
       "      <th>north Moravia</th>\n",
       "      <td>2.572230e+05</td>\n",
       "    </tr>\n",
       "    <tr>\n",
       "      <th>south Moravia</th>\n",
       "      <td>1.714997e+05</td>\n",
       "    </tr>\n",
       "    <tr>\n",
       "      <th>east Bohemia</th>\n",
       "      <td>1.190809e+05</td>\n",
       "    </tr>\n",
       "    <tr>\n",
       "      <th>north Bohemia</th>\n",
       "      <td>1.182025e+05</td>\n",
       "    </tr>\n",
       "    <tr>\n",
       "      <th>central Bohemia</th>\n",
       "      <td>9.282140e+04</td>\n",
       "    </tr>\n",
       "    <tr>\n",
       "      <th>south Bohemia</th>\n",
       "      <td>8.839671e+04</td>\n",
       "    </tr>\n",
       "    <tr>\n",
       "      <th>west Bohemia</th>\n",
       "      <td>8.059353e+04</td>\n",
       "    </tr>\n",
       "  </tbody>\n",
       "</table>\n",
       "</div>"
      ],
      "text/plain": [
       "                   population\n",
       "region                       \n",
       "Prague           1.204953e+06\n",
       "north Moravia    2.572230e+05\n",
       "south Moravia    1.714997e+05\n",
       "east Bohemia     1.190809e+05\n",
       "north Bohemia    1.182025e+05\n",
       "central Bohemia  9.282140e+04\n",
       "south Bohemia    8.839671e+04\n",
       "west Bohemia     8.059353e+04"
      ]
     },
     "execution_count": 56,
     "metadata": {},
     "output_type": "execute_result"
    }
   ],
   "source": [
    "# check the population per region\n",
    "b=df[['region', 'population']].groupby('region').mean()\n",
    "b=b.sort_values('population',ascending=False)\n",
    "b"
   ]
  },
  {
   "cell_type": "code",
   "execution_count": 57,
   "id": "146b7778",
   "metadata": {},
   "outputs": [
    {
     "data": {
      "text/html": [
       "<div>\n",
       "<style scoped>\n",
       "    .dataframe tbody tr th:only-of-type {\n",
       "        vertical-align: middle;\n",
       "    }\n",
       "\n",
       "    .dataframe tbody tr th {\n",
       "        vertical-align: top;\n",
       "    }\n",
       "\n",
       "    .dataframe thead th {\n",
       "        text-align: right;\n",
       "    }\n",
       "</style>\n",
       "<table border=\"1\" class=\"dataframe\">\n",
       "  <thead>\n",
       "    <tr style=\"text-align: right;\">\n",
       "      <th></th>\n",
       "      <th>urban_ratio</th>\n",
       "    </tr>\n",
       "    <tr>\n",
       "      <th>region</th>\n",
       "      <th></th>\n",
       "    </tr>\n",
       "  </thead>\n",
       "  <tbody>\n",
       "    <tr>\n",
       "      <th>Prague</th>\n",
       "      <td>100.000000</td>\n",
       "    </tr>\n",
       "    <tr>\n",
       "      <th>north Moravia</th>\n",
       "      <td>80.612074</td>\n",
       "    </tr>\n",
       "    <tr>\n",
       "      <th>north Bohemia</th>\n",
       "      <td>79.738511</td>\n",
       "    </tr>\n",
       "    <tr>\n",
       "      <th>east Bohemia</th>\n",
       "      <td>60.920526</td>\n",
       "    </tr>\n",
       "    <tr>\n",
       "      <th>south Bohemia</th>\n",
       "      <td>58.622647</td>\n",
       "    </tr>\n",
       "    <tr>\n",
       "      <th>south Moravia</th>\n",
       "      <td>57.086512</td>\n",
       "    </tr>\n",
       "    <tr>\n",
       "      <th>west Bohemia</th>\n",
       "      <td>55.690652</td>\n",
       "    </tr>\n",
       "    <tr>\n",
       "      <th>central Bohemia</th>\n",
       "      <td>51.293635</td>\n",
       "    </tr>\n",
       "  </tbody>\n",
       "</table>\n",
       "</div>"
      ],
      "text/plain": [
       "                 urban_ratio\n",
       "region                      \n",
       "Prague            100.000000\n",
       "north Moravia      80.612074\n",
       "north Bohemia      79.738511\n",
       "east Bohemia       60.920526\n",
       "south Bohemia      58.622647\n",
       "south Moravia      57.086512\n",
       "west Bohemia       55.690652\n",
       "central Bohemia    51.293635"
      ]
     },
     "execution_count": 57,
     "metadata": {},
     "output_type": "execute_result"
    }
   ],
   "source": [
    "# check the urban ration for each region\n",
    "d=df[['region', 'urban_ratio']].groupby('region').mean()\n",
    "d.sort_values('urban_ratio',ascending=False)"
   ]
  },
  {
   "cell_type": "markdown",
   "id": "ac4b2e45",
   "metadata": {},
   "source": [
    "1. the vast majority of regions have population size of less than 300,000 except Prague"
   ]
  },
  {
   "cell_type": "code",
   "execution_count": 58,
   "id": "fee5f1d9",
   "metadata": {},
   "outputs": [
    {
     "data": {
      "text/html": [
       "<div>\n",
       "<style scoped>\n",
       "    .dataframe tbody tr th:only-of-type {\n",
       "        vertical-align: middle;\n",
       "    }\n",
       "\n",
       "    .dataframe tbody tr th {\n",
       "        vertical-align: top;\n",
       "    }\n",
       "\n",
       "    .dataframe thead th {\n",
       "        text-align: right;\n",
       "    }\n",
       "</style>\n",
       "<table border=\"1\" class=\"dataframe\">\n",
       "  <thead>\n",
       "    <tr style=\"text-align: right;\">\n",
       "      <th>pop_cat</th>\n",
       "      <th>&lt;300k</th>\n",
       "    </tr>\n",
       "    <tr>\n",
       "      <th>region</th>\n",
       "      <th></th>\n",
       "    </tr>\n",
       "  </thead>\n",
       "  <tbody>\n",
       "    <tr>\n",
       "      <th>Prague</th>\n",
       "      <td>1.000000</td>\n",
       "    </tr>\n",
       "    <tr>\n",
       "      <th>central Bohemia</th>\n",
       "      <td>5.951714</td>\n",
       "    </tr>\n",
       "    <tr>\n",
       "      <th>east Bohemia</th>\n",
       "      <td>7.265455</td>\n",
       "    </tr>\n",
       "    <tr>\n",
       "      <th>north Bohemia</th>\n",
       "      <td>5.697926</td>\n",
       "    </tr>\n",
       "    <tr>\n",
       "      <th>north Moravia</th>\n",
       "      <td>4.597284</td>\n",
       "    </tr>\n",
       "    <tr>\n",
       "      <th>south Bohemia</th>\n",
       "      <td>5.920137</td>\n",
       "    </tr>\n",
       "    <tr>\n",
       "      <th>south Moravia</th>\n",
       "      <td>6.145742</td>\n",
       "    </tr>\n",
       "    <tr>\n",
       "      <th>west Bohemia</th>\n",
       "      <td>6.029529</td>\n",
       "    </tr>\n",
       "  </tbody>\n",
       "</table>\n",
       "</div>"
      ],
      "text/plain": [
       "pop_cat             <300k\n",
       "region                   \n",
       "Prague           1.000000\n",
       "central Bohemia  5.951714\n",
       "east Bohemia     7.265455\n",
       "north Bohemia    5.697926\n",
       "north Moravia    4.597284\n",
       "south Bohemia    5.920137\n",
       "south Moravia    6.145742\n",
       "west Bohemia     6.029529"
      ]
     },
     "execution_count": 58,
     "metadata": {},
     "output_type": "execute_result"
    }
   ],
   "source": [
    "# check the number of cities in each region\n",
    "pd.pivot_table(df, columns=\"pop_cat\", index='region', values='num_cities', aggfunc=np.mean)"
   ]
  },
  {
   "cell_type": "markdown",
   "id": "0be82760",
   "metadata": {},
   "source": [
    "2. Prague is 100% urban city with over 1.2 million population\n",
    "3. North Moravia is the second largest city with over 226k population in over 5 cities, and an urban ratio of 71%\n",
    "4. South Moravia is the third largest city with over 179k population in over 5 cities, and an urban ratio of 60%%"
   ]
  },
  {
   "cell_type": "code",
   "execution_count": 59,
   "id": "d4348045",
   "metadata": {},
   "outputs": [
    {
     "data": {
      "text/html": [
       "<div>\n",
       "<style scoped>\n",
       "    .dataframe tbody tr th:only-of-type {\n",
       "        vertical-align: middle;\n",
       "    }\n",
       "\n",
       "    .dataframe tbody tr th {\n",
       "        vertical-align: top;\n",
       "    }\n",
       "\n",
       "    .dataframe thead th {\n",
       "        text-align: right;\n",
       "    }\n",
       "</style>\n",
       "<table border=\"1\" class=\"dataframe\">\n",
       "  <thead>\n",
       "    <tr style=\"text-align: right;\">\n",
       "      <th></th>\n",
       "      <th>crimes_95</th>\n",
       "      <th>crimes_96</th>\n",
       "    </tr>\n",
       "    <tr>\n",
       "      <th>region</th>\n",
       "      <th></th>\n",
       "      <th></th>\n",
       "    </tr>\n",
       "  </thead>\n",
       "  <tbody>\n",
       "    <tr>\n",
       "      <th>Prague</th>\n",
       "      <td>85677.000000</td>\n",
       "      <td>99107.000000</td>\n",
       "    </tr>\n",
       "    <tr>\n",
       "      <th>north Moravia</th>\n",
       "      <td>14499.924264</td>\n",
       "      <td>10951.729759</td>\n",
       "    </tr>\n",
       "    <tr>\n",
       "      <th>south Moravia</th>\n",
       "      <td>4905.520078</td>\n",
       "      <td>4967.875103</td>\n",
       "    </tr>\n",
       "    <tr>\n",
       "      <th>north Bohemia</th>\n",
       "      <td>4744.689645</td>\n",
       "      <td>4687.981871</td>\n",
       "    </tr>\n",
       "    <tr>\n",
       "      <th>central Bohemia</th>\n",
       "      <td>3330.023352</td>\n",
       "      <td>3472.298456</td>\n",
       "    </tr>\n",
       "    <tr>\n",
       "      <th>east Bohemia</th>\n",
       "      <td>3163.205702</td>\n",
       "      <td>3095.113155</td>\n",
       "    </tr>\n",
       "    <tr>\n",
       "      <th>south Bohemia</th>\n",
       "      <td>2453.062179</td>\n",
       "      <td>2459.257273</td>\n",
       "    </tr>\n",
       "    <tr>\n",
       "      <th>west Bohemia</th>\n",
       "      <td>2073.394646</td>\n",
       "      <td>2148.536778</td>\n",
       "    </tr>\n",
       "  </tbody>\n",
       "</table>\n",
       "</div>"
      ],
      "text/plain": [
       "                    crimes_95     crimes_96\n",
       "region                                     \n",
       "Prague           85677.000000  99107.000000\n",
       "north Moravia    14499.924264  10951.729759\n",
       "south Moravia     4905.520078   4967.875103\n",
       "north Bohemia     4744.689645   4687.981871\n",
       "central Bohemia   3330.023352   3472.298456\n",
       "east Bohemia      3163.205702   3095.113155\n",
       "south Bohemia     2453.062179   2459.257273\n",
       "west Bohemia      2073.394646   2148.536778"
      ]
     },
     "execution_count": 59,
     "metadata": {},
     "output_type": "execute_result"
    }
   ],
   "source": [
    "#check the crimes per region in 1995 and 1996\n",
    "e=df[['region', 'crimes_95','crimes_96']].groupby('region').mean()\n",
    "e=e.sort_values('crimes_95',ascending=False)\n",
    "e"
   ]
  },
  {
   "cell_type": "code",
   "execution_count": 60,
   "id": "7957e69b",
   "metadata": {},
   "outputs": [
    {
     "data": {
      "text/html": [
       "<div>\n",
       "<style scoped>\n",
       "    .dataframe tbody tr th:only-of-type {\n",
       "        vertical-align: middle;\n",
       "    }\n",
       "\n",
       "    .dataframe tbody tr th {\n",
       "        vertical-align: top;\n",
       "    }\n",
       "\n",
       "    .dataframe thead th {\n",
       "        text-align: right;\n",
       "    }\n",
       "</style>\n",
       "<table border=\"1\" class=\"dataframe\">\n",
       "  <thead>\n",
       "    <tr style=\"text-align: right;\">\n",
       "      <th></th>\n",
       "      <th>crimes_95</th>\n",
       "      <th>crimes_96</th>\n",
       "      <th>95_crimes_to_population</th>\n",
       "      <th>96_crimes_to_population</th>\n",
       "    </tr>\n",
       "    <tr>\n",
       "      <th>region</th>\n",
       "      <th></th>\n",
       "      <th></th>\n",
       "      <th></th>\n",
       "      <th></th>\n",
       "    </tr>\n",
       "  </thead>\n",
       "  <tbody>\n",
       "    <tr>\n",
       "      <th>Prague</th>\n",
       "      <td>85677.000000</td>\n",
       "      <td>99107.000000</td>\n",
       "      <td>0.071104</td>\n",
       "      <td>0.082250</td>\n",
       "    </tr>\n",
       "    <tr>\n",
       "      <th>north Moravia</th>\n",
       "      <td>14499.924264</td>\n",
       "      <td>10951.729759</td>\n",
       "      <td>0.056371</td>\n",
       "      <td>0.042577</td>\n",
       "    </tr>\n",
       "    <tr>\n",
       "      <th>south Moravia</th>\n",
       "      <td>4905.520078</td>\n",
       "      <td>4967.875103</td>\n",
       "      <td>0.028604</td>\n",
       "      <td>0.028967</td>\n",
       "    </tr>\n",
       "    <tr>\n",
       "      <th>north Bohemia</th>\n",
       "      <td>4744.689645</td>\n",
       "      <td>4687.981871</td>\n",
       "      <td>0.040140</td>\n",
       "      <td>0.039661</td>\n",
       "    </tr>\n",
       "    <tr>\n",
       "      <th>central Bohemia</th>\n",
       "      <td>3330.023352</td>\n",
       "      <td>3472.298456</td>\n",
       "      <td>0.035876</td>\n",
       "      <td>0.037408</td>\n",
       "    </tr>\n",
       "    <tr>\n",
       "      <th>east Bohemia</th>\n",
       "      <td>3163.205702</td>\n",
       "      <td>3095.113155</td>\n",
       "      <td>0.026564</td>\n",
       "      <td>0.025992</td>\n",
       "    </tr>\n",
       "    <tr>\n",
       "      <th>south Bohemia</th>\n",
       "      <td>2453.062179</td>\n",
       "      <td>2459.257273</td>\n",
       "      <td>0.027751</td>\n",
       "      <td>0.027821</td>\n",
       "    </tr>\n",
       "    <tr>\n",
       "      <th>west Bohemia</th>\n",
       "      <td>2073.394646</td>\n",
       "      <td>2148.536778</td>\n",
       "      <td>0.025727</td>\n",
       "      <td>0.026659</td>\n",
       "    </tr>\n",
       "  </tbody>\n",
       "</table>\n",
       "</div>"
      ],
      "text/plain": [
       "                    crimes_95     crimes_96  95_crimes_to_population  \\\n",
       "region                                                                 \n",
       "Prague           85677.000000  99107.000000                 0.071104   \n",
       "north Moravia    14499.924264  10951.729759                 0.056371   \n",
       "south Moravia     4905.520078   4967.875103                 0.028604   \n",
       "north Bohemia     4744.689645   4687.981871                 0.040140   \n",
       "central Bohemia   3330.023352   3472.298456                 0.035876   \n",
       "east Bohemia      3163.205702   3095.113155                 0.026564   \n",
       "south Bohemia     2453.062179   2459.257273                 0.027751   \n",
       "west Bohemia      2073.394646   2148.536778                 0.025727   \n",
       "\n",
       "                 96_crimes_to_population  \n",
       "region                                    \n",
       "Prague                          0.082250  \n",
       "north Moravia                   0.042577  \n",
       "south Moravia                   0.028967  \n",
       "north Bohemia                   0.039661  \n",
       "central Bohemia                 0.037408  \n",
       "east Bohemia                    0.025992  \n",
       "south Bohemia                   0.027821  \n",
       "west Bohemia                    0.026659  "
      ]
     },
     "execution_count": 60,
     "metadata": {},
     "output_type": "execute_result"
    }
   ],
   "source": [
    "# aggregate the crime-to-population ratio in 1995 and 1996\n",
    "e['95_crimes_to_population']=e.crimes_95/b.population\n",
    "e['96_crimes_to_population']=e.crimes_96/b.population\n",
    "e"
   ]
  },
  {
   "cell_type": "markdown",
   "id": "c881a761",
   "metadata": {},
   "source": [
    "5. Prague, North Bohemia, and North Moravia have the highest crimes-to-population ratio (7%,4%,and 3.8%, respectively), in 1995\n",
    "6. In 1996, Prague, North Bohemia, and Central Bohemia had the highest crimes-to-population ratio (7%,4%,and 3.8%, respectively) "
   ]
  },
  {
   "cell_type": "code",
   "execution_count": 61,
   "id": "2616249e",
   "metadata": {},
   "outputs": [
    {
     "data": {
      "text/html": [
       "<div>\n",
       "<style scoped>\n",
       "    .dataframe tbody tr th:only-of-type {\n",
       "        vertical-align: middle;\n",
       "    }\n",
       "\n",
       "    .dataframe tbody tr th {\n",
       "        vertical-align: top;\n",
       "    }\n",
       "\n",
       "    .dataframe thead th {\n",
       "        text-align: right;\n",
       "    }\n",
       "</style>\n",
       "<table border=\"1\" class=\"dataframe\">\n",
       "  <thead>\n",
       "    <tr style=\"text-align: right;\">\n",
       "      <th></th>\n",
       "      <th>unemployment_rate_95</th>\n",
       "      <th>unemployment_rate_96</th>\n",
       "    </tr>\n",
       "    <tr>\n",
       "      <th>region</th>\n",
       "      <th></th>\n",
       "      <th></th>\n",
       "    </tr>\n",
       "  </thead>\n",
       "  <tbody>\n",
       "    <tr>\n",
       "      <th>Prague</th>\n",
       "      <td>0.290000</td>\n",
       "      <td>0.430000</td>\n",
       "    </tr>\n",
       "    <tr>\n",
       "      <th>central Bohemia</th>\n",
       "      <td>2.717779</td>\n",
       "      <td>3.135373</td>\n",
       "    </tr>\n",
       "    <tr>\n",
       "      <th>east Bohemia</th>\n",
       "      <td>2.840742</td>\n",
       "      <td>3.438834</td>\n",
       "    </tr>\n",
       "    <tr>\n",
       "      <th>north Bohemia</th>\n",
       "      <td>5.925571</td>\n",
       "      <td>7.206422</td>\n",
       "    </tr>\n",
       "    <tr>\n",
       "      <th>north Moravia</th>\n",
       "      <td>4.956060</td>\n",
       "      <td>6.010189</td>\n",
       "    </tr>\n",
       "    <tr>\n",
       "      <th>south Bohemia</th>\n",
       "      <td>2.337665</td>\n",
       "      <td>2.927069</td>\n",
       "    </tr>\n",
       "    <tr>\n",
       "      <th>south Moravia</th>\n",
       "      <td>2.620814</td>\n",
       "      <td>3.315416</td>\n",
       "    </tr>\n",
       "    <tr>\n",
       "      <th>west Bohemia</th>\n",
       "      <td>1.966109</td>\n",
       "      <td>2.519012</td>\n",
       "    </tr>\n",
       "  </tbody>\n",
       "</table>\n",
       "</div>"
      ],
      "text/plain": [
       "                 unemployment_rate_95  unemployment_rate_96\n",
       "region                                                     \n",
       "Prague                       0.290000              0.430000\n",
       "central Bohemia              2.717779              3.135373\n",
       "east Bohemia                 2.840742              3.438834\n",
       "north Bohemia                5.925571              7.206422\n",
       "north Moravia                4.956060              6.010189\n",
       "south Bohemia                2.337665              2.927069\n",
       "south Moravia                2.620814              3.315416\n",
       "west Bohemia                 1.966109              2.519012"
      ]
     },
     "execution_count": 61,
     "metadata": {},
     "output_type": "execute_result"
    }
   ],
   "source": [
    "g=df[['region', 'unemployment_rate_95','unemployment_rate_96']].groupby('region').mean()\n",
    "g"
   ]
  },
  {
   "cell_type": "code",
   "execution_count": 62,
   "id": "f5cb7f3f",
   "metadata": {
    "scrolled": false
   },
   "outputs": [
    {
     "name": "stderr",
     "output_type": "stream",
     "text": [
      "C:\\ProgramData\\Anaconda3\\lib\\site-packages\\seaborn\\_decorators.py:36: FutureWarning: Pass the following variable as a keyword arg: x. From version 0.12, the only valid positional argument will be `data`, and passing other arguments without an explicit keyword will result in an error or misinterpretation.\n",
      "  warnings.warn(\n",
      "C:\\ProgramData\\Anaconda3\\lib\\site-packages\\seaborn\\_decorators.py:36: FutureWarning: Pass the following variable as a keyword arg: x. From version 0.12, the only valid positional argument will be `data`, and passing other arguments without an explicit keyword will result in an error or misinterpretation.\n",
      "  warnings.warn(\n",
      "C:\\ProgramData\\Anaconda3\\lib\\site-packages\\seaborn\\_decorators.py:36: FutureWarning: Pass the following variable as a keyword arg: x. From version 0.12, the only valid positional argument will be `data`, and passing other arguments without an explicit keyword will result in an error or misinterpretation.\n",
      "  warnings.warn(\n"
     ]
    },
    {
     "data": {
      "text/plain": [
       "<AxesSubplot:xlabel='avg_sal_cat', ylabel='count'>"
      ]
     },
     "execution_count": 62,
     "metadata": {},
     "output_type": "execute_result"
    },
    {
     "data": {
      "image/png": "[encoded data removed]",
      "text/plain": [
       "<Figure size 720x360 with 3 Axes>"
      ]
     },
     "metadata": {
      "needs_background": "light"
     },
     "output_type": "display_data"
    }
   ],
   "source": [
    "fig, axes = plt.subplots(1,3 , figsize=(10, 5), sharey=True)\n",
    "sns.countplot(\"gender\", data=df, ax=axes[0])\n",
    "sns.countplot(\"working_class\", data=df, ax=axes[1])\n",
    "sns.countplot(\"avg_sal_cat\", data=df, ax=axes[2])"
   ]
  },
  {
   "cell_type": "markdown",
   "id": "6e0f1d7a",
   "metadata": {},
   "source": [
    "AGGREGATE AND ANALYSE THE PROFILE OF A CLIENT WHO PAYS OFF THEIR LOANS FULLY AT CONTRACT MATURITY"
   ]
  },
  {
   "cell_type": "code",
   "execution_count": 63,
   "id": "d4a2e0f1",
   "metadata": {
    "scrolled": false
   },
   "outputs": [
    {
     "data": {
      "text/html": [
       "<div>\n",
       "<style scoped>\n",
       "    .dataframe tbody tr th:only-of-type {\n",
       "        vertical-align: middle;\n",
       "    }\n",
       "\n",
       "    .dataframe tbody tr th {\n",
       "        vertical-align: top;\n",
       "    }\n",
       "\n",
       "    .dataframe thead th {\n",
       "        text-align: right;\n",
       "    }\n",
       "</style>\n",
       "<table border=\"1\" class=\"dataframe\">\n",
       "  <thead>\n",
       "    <tr style=\"text-align: right;\">\n",
       "      <th></th>\n",
       "      <th>client_id</th>\n",
       "      <th>account_id</th>\n",
       "      <th>trans_id</th>\n",
       "      <th>district_id</th>\n",
       "      <th>order_id</th>\n",
       "      <th>loan_id</th>\n",
       "      <th>max_trnx_date</th>\n",
       "      <th>statement_freq</th>\n",
       "      <th>acct_open_date</th>\n",
       "      <th>trnx_amount</th>\n",
       "      <th>...</th>\n",
       "      <th>muni&lt;9999_cat</th>\n",
       "      <th>avg_sal_cat</th>\n",
       "      <th>unemployment_95_cat</th>\n",
       "      <th>unemployment_96_cat</th>\n",
       "      <th>enterpr_p1000_cat</th>\n",
       "      <th>crimes_95_cat</th>\n",
       "      <th>crimes_96_cat</th>\n",
       "      <th>gender</th>\n",
       "      <th>age</th>\n",
       "      <th>working_class</th>\n",
       "    </tr>\n",
       "  </thead>\n",
       "  <tbody>\n",
       "    <tr>\n",
       "      <th>0</th>\n",
       "      <td>116</td>\n",
       "      <td>97</td>\n",
       "      <td>29886</td>\n",
       "      <td>74</td>\n",
       "      <td>29563</td>\n",
       "      <td>4986</td>\n",
       "      <td>1998-12-31</td>\n",
       "      <td>POPLATEK MESICNE</td>\n",
       "      <td>1996-05-05</td>\n",
       "      <td>900</td>\n",
       "      <td>...</td>\n",
       "      <td>6-10</td>\n",
       "      <td>avg</td>\n",
       "      <td>4-6%</td>\n",
       "      <td>4-6%</td>\n",
       "      <td>mid_enterpr</td>\n",
       "      <td>low_crime</td>\n",
       "      <td>low_crime</td>\n",
       "      <td>male</td>\n",
       "      <td>56</td>\n",
       "      <td>retiree</td>\n",
       "    </tr>\n",
       "    <tr>\n",
       "      <th>1</th>\n",
       "      <td>116</td>\n",
       "      <td>97</td>\n",
       "      <td>29886</td>\n",
       "      <td>74</td>\n",
       "      <td>29562</td>\n",
       "      <td>4986</td>\n",
       "      <td>1998-12-31</td>\n",
       "      <td>POPLATEK MESICNE</td>\n",
       "      <td>1996-05-05</td>\n",
       "      <td>900</td>\n",
       "      <td>...</td>\n",
       "      <td>6-10</td>\n",
       "      <td>avg</td>\n",
       "      <td>4-6%</td>\n",
       "      <td>4-6%</td>\n",
       "      <td>mid_enterpr</td>\n",
       "      <td>low_crime</td>\n",
       "      <td>low_crime</td>\n",
       "      <td>male</td>\n",
       "      <td>56</td>\n",
       "      <td>retiree</td>\n",
       "    </tr>\n",
       "    <tr>\n",
       "      <th>2</th>\n",
       "      <td>116</td>\n",
       "      <td>97</td>\n",
       "      <td>29886</td>\n",
       "      <td>74</td>\n",
       "      <td>29561</td>\n",
       "      <td>4986</td>\n",
       "      <td>1998-12-31</td>\n",
       "      <td>POPLATEK MESICNE</td>\n",
       "      <td>1996-05-05</td>\n",
       "      <td>900</td>\n",
       "      <td>...</td>\n",
       "      <td>6-10</td>\n",
       "      <td>avg</td>\n",
       "      <td>4-6%</td>\n",
       "      <td>4-6%</td>\n",
       "      <td>mid_enterpr</td>\n",
       "      <td>low_crime</td>\n",
       "      <td>low_crime</td>\n",
       "      <td>male</td>\n",
       "      <td>56</td>\n",
       "      <td>retiree</td>\n",
       "    </tr>\n",
       "    <tr>\n",
       "      <th>3</th>\n",
       "      <td>116</td>\n",
       "      <td>97</td>\n",
       "      <td>29886</td>\n",
       "      <td>74</td>\n",
       "      <td>29560</td>\n",
       "      <td>4986</td>\n",
       "      <td>1998-12-31</td>\n",
       "      <td>POPLATEK MESICNE</td>\n",
       "      <td>1996-05-05</td>\n",
       "      <td>900</td>\n",
       "      <td>...</td>\n",
       "      <td>6-10</td>\n",
       "      <td>avg</td>\n",
       "      <td>4-6%</td>\n",
       "      <td>4-6%</td>\n",
       "      <td>mid_enterpr</td>\n",
       "      <td>low_crime</td>\n",
       "      <td>low_crime</td>\n",
       "      <td>male</td>\n",
       "      <td>56</td>\n",
       "      <td>retiree</td>\n",
       "    </tr>\n",
       "    <tr>\n",
       "      <th>4</th>\n",
       "      <td>116</td>\n",
       "      <td>97</td>\n",
       "      <td>29891</td>\n",
       "      <td>74</td>\n",
       "      <td>29563</td>\n",
       "      <td>4986</td>\n",
       "      <td>1998-12-31</td>\n",
       "      <td>POPLATEK MESICNE</td>\n",
       "      <td>1996-05-05</td>\n",
       "      <td>17928</td>\n",
       "      <td>...</td>\n",
       "      <td>6-10</td>\n",
       "      <td>avg</td>\n",
       "      <td>4-6%</td>\n",
       "      <td>4-6%</td>\n",
       "      <td>mid_enterpr</td>\n",
       "      <td>low_crime</td>\n",
       "      <td>low_crime</td>\n",
       "      <td>male</td>\n",
       "      <td>56</td>\n",
       "      <td>retiree</td>\n",
       "    </tr>\n",
       "    <tr>\n",
       "      <th>...</th>\n",
       "      <td>...</td>\n",
       "      <td>...</td>\n",
       "      <td>...</td>\n",
       "      <td>...</td>\n",
       "      <td>...</td>\n",
       "      <td>...</td>\n",
       "      <td>...</td>\n",
       "      <td>...</td>\n",
       "      <td>...</td>\n",
       "      <td>...</td>\n",
       "      <td>...</td>\n",
       "      <td>...</td>\n",
       "      <td>...</td>\n",
       "      <td>...</td>\n",
       "      <td>...</td>\n",
       "      <td>...</td>\n",
       "      <td>...</td>\n",
       "      <td>...</td>\n",
       "      <td>...</td>\n",
       "      <td>...</td>\n",
       "      <td>...</td>\n",
       "    </tr>\n",
       "    <tr>\n",
       "      <th>104899</th>\n",
       "      <td>12079</td>\n",
       "      <td>9814</td>\n",
       "      <td>3682835</td>\n",
       "      <td>64</td>\n",
       "      <td>43945</td>\n",
       "      <td>6995</td>\n",
       "      <td>1998-12-31</td>\n",
       "      <td>POPLATEK TYDNE</td>\n",
       "      <td>1995-01-19</td>\n",
       "      <td>295</td>\n",
       "      <td>...</td>\n",
       "      <td>1-5</td>\n",
       "      <td>avg</td>\n",
       "      <td>0-2%</td>\n",
       "      <td>2-4%</td>\n",
       "      <td>high_enterpr</td>\n",
       "      <td>low_crime</td>\n",
       "      <td>low_crime</td>\n",
       "      <td>female</td>\n",
       "      <td>26</td>\n",
       "      <td>working_class</td>\n",
       "    </tr>\n",
       "    <tr>\n",
       "      <th>104900</th>\n",
       "      <td>12079</td>\n",
       "      <td>9814</td>\n",
       "      <td>3682836</td>\n",
       "      <td>64</td>\n",
       "      <td>43945</td>\n",
       "      <td>6995</td>\n",
       "      <td>1998-12-31</td>\n",
       "      <td>POPLATEK TYDNE</td>\n",
       "      <td>1995-01-19</td>\n",
       "      <td>398</td>\n",
       "      <td>...</td>\n",
       "      <td>1-5</td>\n",
       "      <td>avg</td>\n",
       "      <td>0-2%</td>\n",
       "      <td>2-4%</td>\n",
       "      <td>high_enterpr</td>\n",
       "      <td>low_crime</td>\n",
       "      <td>low_crime</td>\n",
       "      <td>female</td>\n",
       "      <td>26</td>\n",
       "      <td>working_class</td>\n",
       "    </tr>\n",
       "    <tr>\n",
       "      <th>104901</th>\n",
       "      <td>12079</td>\n",
       "      <td>9814</td>\n",
       "      <td>3682837</td>\n",
       "      <td>64</td>\n",
       "      <td>43945</td>\n",
       "      <td>6995</td>\n",
       "      <td>1998-12-31</td>\n",
       "      <td>POPLATEK TYDNE</td>\n",
       "      <td>1995-01-19</td>\n",
       "      <td>439</td>\n",
       "      <td>...</td>\n",
       "      <td>1-5</td>\n",
       "      <td>avg</td>\n",
       "      <td>0-2%</td>\n",
       "      <td>2-4%</td>\n",
       "      <td>high_enterpr</td>\n",
       "      <td>low_crime</td>\n",
       "      <td>low_crime</td>\n",
       "      <td>female</td>\n",
       "      <td>26</td>\n",
       "      <td>working_class</td>\n",
       "    </tr>\n",
       "    <tr>\n",
       "      <th>104902</th>\n",
       "      <td>12079</td>\n",
       "      <td>9814</td>\n",
       "      <td>3682838</td>\n",
       "      <td>64</td>\n",
       "      <td>43945</td>\n",
       "      <td>6995</td>\n",
       "      <td>1998-12-31</td>\n",
       "      <td>POPLATEK TYDNE</td>\n",
       "      <td>1995-01-19</td>\n",
       "      <td>445</td>\n",
       "      <td>...</td>\n",
       "      <td>1-5</td>\n",
       "      <td>avg</td>\n",
       "      <td>0-2%</td>\n",
       "      <td>2-4%</td>\n",
       "      <td>high_enterpr</td>\n",
       "      <td>low_crime</td>\n",
       "      <td>low_crime</td>\n",
       "      <td>female</td>\n",
       "      <td>26</td>\n",
       "      <td>working_class</td>\n",
       "    </tr>\n",
       "    <tr>\n",
       "      <th>104903</th>\n",
       "      <td>12079</td>\n",
       "      <td>9814</td>\n",
       "      <td>3682839</td>\n",
       "      <td>64</td>\n",
       "      <td>43945</td>\n",
       "      <td>6995</td>\n",
       "      <td>1998-12-31</td>\n",
       "      <td>POPLATEK TYDNE</td>\n",
       "      <td>1995-01-19</td>\n",
       "      <td>348</td>\n",
       "      <td>...</td>\n",
       "      <td>1-5</td>\n",
       "      <td>avg</td>\n",
       "      <td>0-2%</td>\n",
       "      <td>2-4%</td>\n",
       "      <td>high_enterpr</td>\n",
       "      <td>low_crime</td>\n",
       "      <td>low_crime</td>\n",
       "      <td>female</td>\n",
       "      <td>26</td>\n",
       "      <td>working_class</td>\n",
       "    </tr>\n",
       "  </tbody>\n",
       "</table>\n",
       "<p>52231 rows × 57 columns</p>\n",
       "</div>"
      ],
      "text/plain": [
       "       client_id  account_id  trans_id district_id  order_id  loan_id  \\\n",
       "0            116          97     29886          74     29563     4986   \n",
       "1            116          97     29886          74     29562     4986   \n",
       "2            116          97     29886          74     29561     4986   \n",
       "3            116          97     29886          74     29560     4986   \n",
       "4            116          97     29891          74     29563     4986   \n",
       "...          ...         ...       ...         ...       ...      ...   \n",
       "104899     12079        9814   3682835          64     43945     6995   \n",
       "104900     12079        9814   3682836          64     43945     6995   \n",
       "104901     12079        9814   3682837          64     43945     6995   \n",
       "104902     12079        9814   3682838          64     43945     6995   \n",
       "104903     12079        9814   3682839          64     43945     6995   \n",
       "\n",
       "       max_trnx_date    statement_freq acct_open_date  trnx_amount  ...  \\\n",
       "0         1998-12-31  POPLATEK MESICNE     1996-05-05          900  ...   \n",
       "1         1998-12-31  POPLATEK MESICNE     1996-05-05          900  ...   \n",
       "2         1998-12-31  POPLATEK MESICNE     1996-05-05          900  ...   \n",
       "3         1998-12-31  POPLATEK MESICNE     1996-05-05          900  ...   \n",
       "4         1998-12-31  POPLATEK MESICNE     1996-05-05        17928  ...   \n",
       "...              ...               ...            ...          ...  ...   \n",
       "104899    1998-12-31    POPLATEK TYDNE     1995-01-19          295  ...   \n",
       "104900    1998-12-31    POPLATEK TYDNE     1995-01-19          398  ...   \n",
       "104901    1998-12-31    POPLATEK TYDNE     1995-01-19          439  ...   \n",
       "104902    1998-12-31    POPLATEK TYDNE     1995-01-19          445  ...   \n",
       "104903    1998-12-31    POPLATEK TYDNE     1995-01-19          348  ...   \n",
       "\n",
       "        muni<9999_cat avg_sal_cat unemployment_95_cat  unemployment_96_cat  \\\n",
       "0                6-10         avg                4-6%                 4-6%   \n",
       "1                6-10         avg                4-6%                 4-6%   \n",
       "2                6-10         avg                4-6%                 4-6%   \n",
       "3                6-10         avg                4-6%                 4-6%   \n",
       "4                6-10         avg                4-6%                 4-6%   \n",
       "...               ...         ...                 ...                  ...   \n",
       "104899            1-5         avg                0-2%                 2-4%   \n",
       "104900            1-5         avg                0-2%                 2-4%   \n",
       "104901            1-5         avg                0-2%                 2-4%   \n",
       "104902            1-5         avg                0-2%                 2-4%   \n",
       "104903            1-5         avg                0-2%                 2-4%   \n",
       "\n",
       "        enterpr_p1000_cat crimes_95_cat crimes_96_cat  gender age  \\\n",
       "0             mid_enterpr     low_crime     low_crime    male  56   \n",
       "1             mid_enterpr     low_crime     low_crime    male  56   \n",
       "2             mid_enterpr     low_crime     low_crime    male  56   \n",
       "3             mid_enterpr     low_crime     low_crime    male  56   \n",
       "4             mid_enterpr     low_crime     low_crime    male  56   \n",
       "...                   ...           ...           ...     ...  ..   \n",
       "104899       high_enterpr     low_crime     low_crime  female  26   \n",
       "104900       high_enterpr     low_crime     low_crime  female  26   \n",
       "104901       high_enterpr     low_crime     low_crime  female  26   \n",
       "104902       high_enterpr     low_crime     low_crime  female  26   \n",
       "104903       high_enterpr     low_crime     low_crime  female  26   \n",
       "\n",
       "        working_class  \n",
       "0             retiree  \n",
       "1             retiree  \n",
       "2             retiree  \n",
       "3             retiree  \n",
       "4             retiree  \n",
       "...               ...  \n",
       "104899  working_class  \n",
       "104900  working_class  \n",
       "104901  working_class  \n",
       "104902  working_class  \n",
       "104903  working_class  \n",
       "\n",
       "[52231 rows x 57 columns]"
      ]
     },
     "execution_count": 63,
     "metadata": {},
     "output_type": "execute_result"
    }
   ],
   "source": [
    "loan_paid=df[df['loan_status']=='A']\n",
    "loan_default=df[df['loan_status']=='B']\n",
    "loan_paid"
   ]
  },
  {
   "cell_type": "code",
   "execution_count": 64,
   "id": "5b108b61",
   "metadata": {},
   "outputs": [
    {
     "data": {
      "text/html": [
       "<div>\n",
       "<style scoped>\n",
       "    .dataframe tbody tr th:only-of-type {\n",
       "        vertical-align: middle;\n",
       "    }\n",
       "\n",
       "    .dataframe tbody tr th {\n",
       "        vertical-align: top;\n",
       "    }\n",
       "\n",
       "    .dataframe thead th {\n",
       "        text-align: right;\n",
       "    }\n",
       "</style>\n",
       "<table border=\"1\" class=\"dataframe\">\n",
       "  <thead>\n",
       "    <tr style=\"text-align: right;\">\n",
       "      <th></th>\n",
       "      <th>loan_id</th>\n",
       "    </tr>\n",
       "    <tr>\n",
       "      <th>gender</th>\n",
       "      <th></th>\n",
       "    </tr>\n",
       "  </thead>\n",
       "  <tbody>\n",
       "    <tr>\n",
       "      <th>female</th>\n",
       "      <td>44904</td>\n",
       "    </tr>\n",
       "    <tr>\n",
       "      <th>male</th>\n",
       "      <td>60000</td>\n",
       "    </tr>\n",
       "  </tbody>\n",
       "</table>\n",
       "</div>"
      ],
      "text/plain": [
       "        loan_id\n",
       "gender         \n",
       "female    44904\n",
       "male      60000"
      ]
     },
     "execution_count": 64,
     "metadata": {},
     "output_type": "execute_result"
    }
   ],
   "source": [
    "# find out the number of loans taken by each gender\n",
    "df[['gender','loan_id']].groupby('gender').count()"
   ]
  },
  {
   "cell_type": "code",
   "execution_count": 65,
   "id": "e25fe6f5",
   "metadata": {},
   "outputs": [
    {
     "data": {
      "text/html": [
       "<div>\n",
       "<style scoped>\n",
       "    .dataframe tbody tr th:only-of-type {\n",
       "        vertical-align: middle;\n",
       "    }\n",
       "\n",
       "    .dataframe tbody tr th {\n",
       "        vertical-align: top;\n",
       "    }\n",
       "\n",
       "    .dataframe thead th {\n",
       "        text-align: right;\n",
       "    }\n",
       "</style>\n",
       "<table border=\"1\" class=\"dataframe\">\n",
       "  <thead>\n",
       "    <tr style=\"text-align: right;\">\n",
       "      <th></th>\n",
       "      <th>loan_status</th>\n",
       "    </tr>\n",
       "    <tr>\n",
       "      <th>gender</th>\n",
       "      <th></th>\n",
       "    </tr>\n",
       "  </thead>\n",
       "  <tbody>\n",
       "    <tr>\n",
       "      <th>female</th>\n",
       "      <td>20630</td>\n",
       "    </tr>\n",
       "    <tr>\n",
       "      <th>male</th>\n",
       "      <td>31601</td>\n",
       "    </tr>\n",
       "  </tbody>\n",
       "</table>\n",
       "</div>"
      ],
      "text/plain": [
       "        loan_status\n",
       "gender             \n",
       "female        20630\n",
       "male          31601"
      ]
     },
     "execution_count": 65,
     "metadata": {},
     "output_type": "execute_result"
    }
   ],
   "source": [
    "# check the proportion of fully paid loans by gender\n",
    "loan_paid[['gender', 'loan_status']].groupby('gender').count()"
   ]
  },
  {
   "cell_type": "markdown",
   "id": "294cfd08",
   "metadata": {},
   "source": [
    "45% of all males and females fully pay off their loans at loan maturity"
   ]
  },
  {
   "cell_type": "markdown",
   "id": "fb577b4f",
   "metadata": {},
   "source": [
    "49.7% of all loans were taken by males. However, 50% of all fully paid loans are by males "
   ]
  },
  {
   "cell_type": "code",
   "execution_count": 66,
   "id": "d9a18b26",
   "metadata": {},
   "outputs": [
    {
     "data": {
      "text/html": [
       "<div>\n",
       "<style scoped>\n",
       "    .dataframe tbody tr th:only-of-type {\n",
       "        vertical-align: middle;\n",
       "    }\n",
       "\n",
       "    .dataframe tbody tr th {\n",
       "        vertical-align: top;\n",
       "    }\n",
       "\n",
       "    .dataframe thead th {\n",
       "        text-align: right;\n",
       "    }\n",
       "</style>\n",
       "<table border=\"1\" class=\"dataframe\">\n",
       "  <thead>\n",
       "    <tr style=\"text-align: right;\">\n",
       "      <th>working_class</th>\n",
       "      <th>expert</th>\n",
       "      <th>professional</th>\n",
       "      <th>retiree</th>\n",
       "      <th>student</th>\n",
       "      <th>working_class</th>\n",
       "    </tr>\n",
       "    <tr>\n",
       "      <th>gender</th>\n",
       "      <th></th>\n",
       "      <th></th>\n",
       "      <th></th>\n",
       "      <th></th>\n",
       "      <th></th>\n",
       "    </tr>\n",
       "  </thead>\n",
       "  <tbody>\n",
       "    <tr>\n",
       "      <th>female</th>\n",
       "      <td>4975</td>\n",
       "      <td>2712</td>\n",
       "      <td>4708</td>\n",
       "      <td>3516</td>\n",
       "      <td>4719</td>\n",
       "    </tr>\n",
       "    <tr>\n",
       "      <th>male</th>\n",
       "      <td>5929</td>\n",
       "      <td>8751</td>\n",
       "      <td>4957</td>\n",
       "      <td>5252</td>\n",
       "      <td>6712</td>\n",
       "    </tr>\n",
       "  </tbody>\n",
       "</table>\n",
       "</div>"
      ],
      "text/plain": [
       "working_class  expert  professional  retiree  student  working_class\n",
       "gender                                                              \n",
       "female           4975          2712     4708     3516           4719\n",
       "male             5929          8751     4957     5252           6712"
      ]
     },
     "execution_count": 66,
     "metadata": {},
     "output_type": "execute_result"
    }
   ],
   "source": [
    "pd.pivot_table(loan_paid, columns='working_class', index='gender', values='loan_status', aggfunc=np.size)"
   ]
  },
  {
   "cell_type": "code",
   "execution_count": 67,
   "id": "648d7713",
   "metadata": {},
   "outputs": [
    {
     "data": {
      "text/html": [
       "<div>\n",
       "<style scoped>\n",
       "    .dataframe tbody tr th:only-of-type {\n",
       "        vertical-align: middle;\n",
       "    }\n",
       "\n",
       "    .dataframe tbody tr th {\n",
       "        vertical-align: top;\n",
       "    }\n",
       "\n",
       "    .dataframe thead th {\n",
       "        text-align: right;\n",
       "    }\n",
       "</style>\n",
       "<table border=\"1\" class=\"dataframe\">\n",
       "  <thead>\n",
       "    <tr style=\"text-align: right;\">\n",
       "      <th></th>\n",
       "      <th>age</th>\n",
       "      <th>trnx_amount</th>\n",
       "      <th>order_amount</th>\n",
       "      <th>balance</th>\n",
       "      <th>avg_sal</th>\n",
       "      <th>loan_amount</th>\n",
       "      <th>loan_payments</th>\n",
       "      <th>loan_duration</th>\n",
       "    </tr>\n",
       "    <tr>\n",
       "      <th>gender</th>\n",
       "      <th></th>\n",
       "      <th></th>\n",
       "      <th></th>\n",
       "      <th></th>\n",
       "      <th></th>\n",
       "      <th></th>\n",
       "      <th></th>\n",
       "      <th></th>\n",
       "    </tr>\n",
       "  </thead>\n",
       "  <tbody>\n",
       "    <tr>\n",
       "      <th>female</th>\n",
       "      <td>38.665196</td>\n",
       "      <td>8702.031508</td>\n",
       "      <td>4334.549336</td>\n",
       "      <td>52664.415414</td>\n",
       "      <td>9898.629859</td>\n",
       "      <td>80065.55366</td>\n",
       "      <td>4176.570480</td>\n",
       "      <td>18.893456</td>\n",
       "    </tr>\n",
       "    <tr>\n",
       "      <th>male</th>\n",
       "      <td>37.028480</td>\n",
       "      <td>9005.624474</td>\n",
       "      <td>4314.552343</td>\n",
       "      <td>54694.971140</td>\n",
       "      <td>9433.589570</td>\n",
       "      <td>107281.58995</td>\n",
       "      <td>4754.643714</td>\n",
       "      <td>24.254802</td>\n",
       "    </tr>\n",
       "  </tbody>\n",
       "</table>\n",
       "</div>"
      ],
      "text/plain": [
       "              age  trnx_amount  order_amount       balance      avg_sal  \\\n",
       "gender                                                                    \n",
       "female  38.665196  8702.031508   4334.549336  52664.415414  9898.629859   \n",
       "male    37.028480  9005.624474   4314.552343  54694.971140  9433.589570   \n",
       "\n",
       "         loan_amount  loan_payments  loan_duration  \n",
       "gender                                              \n",
       "female   80065.55366    4176.570480      18.893456  \n",
       "male    107281.58995    4754.643714      24.254802  "
      ]
     },
     "execution_count": 67,
     "metadata": {},
     "output_type": "execute_result"
    }
   ],
   "source": [
    "loan_paid[['gender', 'age','trnx_amount','order_amount','balance','avg_sal','loan_amount','loan_payments','loan_duration']].groupby('gender').mean()"
   ]
  },
  {
   "cell_type": "markdown",
   "id": "2a1d55e7",
   "metadata": {},
   "source": [
    "A typical client who would fully pay off their loans could be a:\n",
    "female, 40, who is likely an expert in her career, with an avg salary of $9801 and average trnx amount of $6864\n",
    "male, 39, who is also likely a career expert, with an avg salary of $9651 and average trnx amount of $7776"
   ]
  },
  {
   "cell_type": "markdown",
   "id": "6c38171f",
   "metadata": {},
   "source": [
    "AGGREGATE AND ANALYSE THE PROFILE OF A CLIENT WHO DEFAULTS ON THEIR LOANS AT CONTRACT MATURITY"
   ]
  },
  {
   "cell_type": "code",
   "execution_count": 68,
   "id": "5f47a127",
   "metadata": {},
   "outputs": [
    {
     "data": {
      "text/html": [
       "<div>\n",
       "<style scoped>\n",
       "    .dataframe tbody tr th:only-of-type {\n",
       "        vertical-align: middle;\n",
       "    }\n",
       "\n",
       "    .dataframe tbody tr th {\n",
       "        vertical-align: top;\n",
       "    }\n",
       "\n",
       "    .dataframe thead th {\n",
       "        text-align: right;\n",
       "    }\n",
       "</style>\n",
       "<table border=\"1\" class=\"dataframe\">\n",
       "  <thead>\n",
       "    <tr style=\"text-align: right;\">\n",
       "      <th></th>\n",
       "      <th>loan_status</th>\n",
       "    </tr>\n",
       "    <tr>\n",
       "      <th>gender</th>\n",
       "      <th></th>\n",
       "    </tr>\n",
       "  </thead>\n",
       "  <tbody>\n",
       "    <tr>\n",
       "      <th>female</th>\n",
       "      <td>2120</td>\n",
       "    </tr>\n",
       "    <tr>\n",
       "      <th>male</th>\n",
       "      <td>406</td>\n",
       "    </tr>\n",
       "  </tbody>\n",
       "</table>\n",
       "</div>"
      ],
      "text/plain": [
       "        loan_status\n",
       "gender             \n",
       "female         2120\n",
       "male            406"
      ]
     },
     "execution_count": 68,
     "metadata": {},
     "output_type": "execute_result"
    }
   ],
   "source": [
    "loan_default[['gender', 'loan_status']].groupby('gender').count()"
   ]
  },
  {
   "cell_type": "code",
   "execution_count": 69,
   "id": "9c991c79",
   "metadata": {},
   "outputs": [
    {
     "data": {
      "text/html": [
       "<div>\n",
       "<style scoped>\n",
       "    .dataframe tbody tr th:only-of-type {\n",
       "        vertical-align: middle;\n",
       "    }\n",
       "\n",
       "    .dataframe tbody tr th {\n",
       "        vertical-align: top;\n",
       "    }\n",
       "\n",
       "    .dataframe thead th {\n",
       "        text-align: right;\n",
       "    }\n",
       "</style>\n",
       "<table border=\"1\" class=\"dataframe\">\n",
       "  <thead>\n",
       "    <tr style=\"text-align: right;\">\n",
       "      <th>working_class</th>\n",
       "      <th>expert</th>\n",
       "      <th>student</th>\n",
       "    </tr>\n",
       "    <tr>\n",
       "      <th>gender</th>\n",
       "      <th></th>\n",
       "      <th></th>\n",
       "    </tr>\n",
       "  </thead>\n",
       "  <tbody>\n",
       "    <tr>\n",
       "      <th>female</th>\n",
       "      <td>NaN</td>\n",
       "      <td>2120.0</td>\n",
       "    </tr>\n",
       "    <tr>\n",
       "      <th>male</th>\n",
       "      <td>406.0</td>\n",
       "      <td>NaN</td>\n",
       "    </tr>\n",
       "  </tbody>\n",
       "</table>\n",
       "</div>"
      ],
      "text/plain": [
       "working_class  expert  student\n",
       "gender                        \n",
       "female            NaN   2120.0\n",
       "male            406.0      NaN"
      ]
     },
     "execution_count": 69,
     "metadata": {},
     "output_type": "execute_result"
    }
   ],
   "source": [
    "pd.pivot_table(loan_default, columns='working_class', index='gender', values='loan_status', aggfunc=np.size)"
   ]
  },
  {
   "cell_type": "code",
   "execution_count": 70,
   "id": "d558deba",
   "metadata": {},
   "outputs": [
    {
     "data": {
      "text/html": [
       "<div>\n",
       "<style scoped>\n",
       "    .dataframe tbody tr th:only-of-type {\n",
       "        vertical-align: middle;\n",
       "    }\n",
       "\n",
       "    .dataframe tbody tr th {\n",
       "        vertical-align: top;\n",
       "    }\n",
       "\n",
       "    .dataframe thead th {\n",
       "        text-align: right;\n",
       "    }\n",
       "</style>\n",
       "<table border=\"1\" class=\"dataframe\">\n",
       "  <thead>\n",
       "    <tr style=\"text-align: right;\">\n",
       "      <th></th>\n",
       "      <th>age</th>\n",
       "      <th>trnx_amount</th>\n",
       "      <th>order_amount</th>\n",
       "      <th>balance</th>\n",
       "      <th>avg_sal</th>\n",
       "      <th>loan_amount</th>\n",
       "      <th>loan_payments</th>\n",
       "      <th>loan_duration</th>\n",
       "    </tr>\n",
       "    <tr>\n",
       "      <th>gender</th>\n",
       "      <th></th>\n",
       "      <th></th>\n",
       "      <th></th>\n",
       "      <th></th>\n",
       "      <th></th>\n",
       "      <th></th>\n",
       "      <th></th>\n",
       "      <th></th>\n",
       "    </tr>\n",
       "  </thead>\n",
       "  <tbody>\n",
       "    <tr>\n",
       "      <th>female</th>\n",
       "      <td>20.0</td>\n",
       "      <td>8186.158491</td>\n",
       "      <td>4619.575</td>\n",
       "      <td>30541.558491</td>\n",
       "      <td>9675</td>\n",
       "      <td>174744</td>\n",
       "      <td>7281.0</td>\n",
       "      <td>24.0</td>\n",
       "    </tr>\n",
       "    <tr>\n",
       "      <th>male</th>\n",
       "      <td>47.0</td>\n",
       "      <td>9284.206897</td>\n",
       "      <td>4335.800</td>\n",
       "      <td>45510.815271</td>\n",
       "      <td>9897</td>\n",
       "      <td>208128</td>\n",
       "      <td>4336.0</td>\n",
       "      <td>48.0</td>\n",
       "    </tr>\n",
       "  </tbody>\n",
       "</table>\n",
       "</div>"
      ],
      "text/plain": [
       "         age  trnx_amount  order_amount       balance  avg_sal  loan_amount  \\\n",
       "gender                                                                        \n",
       "female  20.0  8186.158491      4619.575  30541.558491     9675       174744   \n",
       "male    47.0  9284.206897      4335.800  45510.815271     9897       208128   \n",
       "\n",
       "        loan_payments  loan_duration  \n",
       "gender                                \n",
       "female         7281.0           24.0  \n",
       "male           4336.0           48.0  "
      ]
     },
     "execution_count": 70,
     "metadata": {},
     "output_type": "execute_result"
    }
   ],
   "source": [
    "loan_default[['gender', 'age','trnx_amount','order_amount','balance','avg_sal','loan_amount','loan_payments','loan_duration']].groupby('gender').mean()"
   ]
  },
  {
   "cell_type": "markdown",
   "id": "f1e63733",
   "metadata": {},
   "source": [
    "69% of all loan defaults at maturity were from females, and 31% from males"
   ]
  },
  {
   "cell_type": "markdown",
   "id": "b6fbccd4",
   "metadata": {},
   "source": [
    "A typical client who would default on their loan is a:\n",
    "female, 41, who is likely an expert in her career, with an avg salary of $9078 and average trnx amount of $8501\n",
    "male, 40, who is also likely a career expert, with an avg salary of $9759 and average trnx amount of $7750"
   ]
  },
  {
   "cell_type": "code",
   "execution_count": 71,
   "id": "12b038b6",
   "metadata": {},
   "outputs": [
    {
     "data": {
      "text/plain": [
       "Index(['client_id', 'account_id', 'trans_id', 'district_id', 'order_id',\n",
       "       'loan_id', 'max_trnx_date', 'statement_freq', 'acct_open_date',\n",
       "       'trnx_amount', 'balance', 'trnx_date', 'trnx_type', 'account_to',\n",
       "       'order_amount', 'bank_to', 'order_ksymbol', 'loan_amount', 'loan_date',\n",
       "       'loan_duration', 'loan_payments', 'loan_status', 'dist_code',\n",
       "       'dist_name', 'region', 'population', 'muni_pop<400',\n",
       "       'muni_pop_500-1.99K', 'muni_pop_2K-9.99K', 'muni_pop>10K', 'num_cities',\n",
       "       'urban_ratio', 'avg_sal', 'unemployment_rate_95',\n",
       "       'unemployment_rate_96', 'enterpr_p1000', 'crimes_95', 'crimes_96',\n",
       "       'disp_id', 'disp_type', 'birthday', 'card_id', 'card_type',\n",
       "       'card_issued', 'pop_cat', 'muni400_cat', 'muni500-1.99K_cat',\n",
       "       'muni<9999_cat', 'avg_sal_cat', 'unemployment_95_cat',\n",
       "       'unemployment_96_cat', 'enterpr_p1000_cat', 'crimes_95_cat',\n",
       "       'crimes_96_cat', 'gender', 'age', 'working_class'],\n",
       "      dtype='object')"
      ]
     },
     "execution_count": 71,
     "metadata": {},
     "output_type": "execute_result"
    }
   ],
   "source": [
    "loan_paid.columns"
   ]
  },
  {
   "cell_type": "markdown",
   "id": "fc9a4cc6",
   "metadata": {},
   "source": [
    "ANALYSE AND AGGREGATE CLIENTS WHO WERE ISSUES CREDIT CARDS"
   ]
  },
  {
   "cell_type": "code",
   "execution_count": 72,
   "id": "2da4b488",
   "metadata": {},
   "outputs": [],
   "source": [
    "df.card_type.fillna('None', inplace=True)"
   ]
  },
  {
   "cell_type": "code",
   "execution_count": 73,
   "id": "f65b356b",
   "metadata": {
    "scrolled": true
   },
   "outputs": [
    {
     "name": "stderr",
     "output_type": "stream",
     "text": [
      "<ipython-input-73-12a63851bada>:2: UserWarning: Boolean Series key will be reindexed to match DataFrame index.\n",
      "  gd_loans_cards_cl= loan_paid[df['card_type']!='None']\n"
     ]
    },
    {
     "data": {
      "text/html": [
       "<div>\n",
       "<style scoped>\n",
       "    .dataframe tbody tr th:only-of-type {\n",
       "        vertical-align: middle;\n",
       "    }\n",
       "\n",
       "    .dataframe tbody tr th {\n",
       "        vertical-align: top;\n",
       "    }\n",
       "\n",
       "    .dataframe thead th {\n",
       "        text-align: right;\n",
       "    }\n",
       "</style>\n",
       "<table border=\"1\" class=\"dataframe\">\n",
       "  <thead>\n",
       "    <tr style=\"text-align: right;\">\n",
       "      <th></th>\n",
       "      <th>client_id</th>\n",
       "      <th>account_id</th>\n",
       "      <th>trans_id</th>\n",
       "      <th>district_id</th>\n",
       "      <th>order_id</th>\n",
       "      <th>loan_id</th>\n",
       "      <th>max_trnx_date</th>\n",
       "      <th>statement_freq</th>\n",
       "      <th>acct_open_date</th>\n",
       "      <th>trnx_amount</th>\n",
       "      <th>...</th>\n",
       "      <th>muni&lt;9999_cat</th>\n",
       "      <th>avg_sal_cat</th>\n",
       "      <th>unemployment_95_cat</th>\n",
       "      <th>unemployment_96_cat</th>\n",
       "      <th>enterpr_p1000_cat</th>\n",
       "      <th>crimes_95_cat</th>\n",
       "      <th>crimes_96_cat</th>\n",
       "      <th>gender</th>\n",
       "      <th>age</th>\n",
       "      <th>working_class</th>\n",
       "    </tr>\n",
       "  </thead>\n",
       "  <tbody>\n",
       "    <tr>\n",
       "      <th>0</th>\n",
       "      <td>116</td>\n",
       "      <td>97</td>\n",
       "      <td>29886</td>\n",
       "      <td>74</td>\n",
       "      <td>29563</td>\n",
       "      <td>4986</td>\n",
       "      <td>1998-12-31</td>\n",
       "      <td>POPLATEK MESICNE</td>\n",
       "      <td>1996-05-05</td>\n",
       "      <td>900</td>\n",
       "      <td>...</td>\n",
       "      <td>6-10</td>\n",
       "      <td>avg</td>\n",
       "      <td>4-6%</td>\n",
       "      <td>4-6%</td>\n",
       "      <td>mid_enterpr</td>\n",
       "      <td>low_crime</td>\n",
       "      <td>low_crime</td>\n",
       "      <td>male</td>\n",
       "      <td>56</td>\n",
       "      <td>retiree</td>\n",
       "    </tr>\n",
       "    <tr>\n",
       "      <th>1</th>\n",
       "      <td>116</td>\n",
       "      <td>97</td>\n",
       "      <td>29886</td>\n",
       "      <td>74</td>\n",
       "      <td>29562</td>\n",
       "      <td>4986</td>\n",
       "      <td>1998-12-31</td>\n",
       "      <td>POPLATEK MESICNE</td>\n",
       "      <td>1996-05-05</td>\n",
       "      <td>900</td>\n",
       "      <td>...</td>\n",
       "      <td>6-10</td>\n",
       "      <td>avg</td>\n",
       "      <td>4-6%</td>\n",
       "      <td>4-6%</td>\n",
       "      <td>mid_enterpr</td>\n",
       "      <td>low_crime</td>\n",
       "      <td>low_crime</td>\n",
       "      <td>male</td>\n",
       "      <td>56</td>\n",
       "      <td>retiree</td>\n",
       "    </tr>\n",
       "    <tr>\n",
       "      <th>2</th>\n",
       "      <td>116</td>\n",
       "      <td>97</td>\n",
       "      <td>29886</td>\n",
       "      <td>74</td>\n",
       "      <td>29561</td>\n",
       "      <td>4986</td>\n",
       "      <td>1998-12-31</td>\n",
       "      <td>POPLATEK MESICNE</td>\n",
       "      <td>1996-05-05</td>\n",
       "      <td>900</td>\n",
       "      <td>...</td>\n",
       "      <td>6-10</td>\n",
       "      <td>avg</td>\n",
       "      <td>4-6%</td>\n",
       "      <td>4-6%</td>\n",
       "      <td>mid_enterpr</td>\n",
       "      <td>low_crime</td>\n",
       "      <td>low_crime</td>\n",
       "      <td>male</td>\n",
       "      <td>56</td>\n",
       "      <td>retiree</td>\n",
       "    </tr>\n",
       "    <tr>\n",
       "      <th>3</th>\n",
       "      <td>116</td>\n",
       "      <td>97</td>\n",
       "      <td>29886</td>\n",
       "      <td>74</td>\n",
       "      <td>29560</td>\n",
       "      <td>4986</td>\n",
       "      <td>1998-12-31</td>\n",
       "      <td>POPLATEK MESICNE</td>\n",
       "      <td>1996-05-05</td>\n",
       "      <td>900</td>\n",
       "      <td>...</td>\n",
       "      <td>6-10</td>\n",
       "      <td>avg</td>\n",
       "      <td>4-6%</td>\n",
       "      <td>4-6%</td>\n",
       "      <td>mid_enterpr</td>\n",
       "      <td>low_crime</td>\n",
       "      <td>low_crime</td>\n",
       "      <td>male</td>\n",
       "      <td>56</td>\n",
       "      <td>retiree</td>\n",
       "    </tr>\n",
       "    <tr>\n",
       "      <th>4</th>\n",
       "      <td>116</td>\n",
       "      <td>97</td>\n",
       "      <td>29891</td>\n",
       "      <td>74</td>\n",
       "      <td>29563</td>\n",
       "      <td>4986</td>\n",
       "      <td>1998-12-31</td>\n",
       "      <td>POPLATEK MESICNE</td>\n",
       "      <td>1996-05-05</td>\n",
       "      <td>17928</td>\n",
       "      <td>...</td>\n",
       "      <td>6-10</td>\n",
       "      <td>avg</td>\n",
       "      <td>4-6%</td>\n",
       "      <td>4-6%</td>\n",
       "      <td>mid_enterpr</td>\n",
       "      <td>low_crime</td>\n",
       "      <td>low_crime</td>\n",
       "      <td>male</td>\n",
       "      <td>56</td>\n",
       "      <td>retiree</td>\n",
       "    </tr>\n",
       "    <tr>\n",
       "      <th>...</th>\n",
       "      <td>...</td>\n",
       "      <td>...</td>\n",
       "      <td>...</td>\n",
       "      <td>...</td>\n",
       "      <td>...</td>\n",
       "      <td>...</td>\n",
       "      <td>...</td>\n",
       "      <td>...</td>\n",
       "      <td>...</td>\n",
       "      <td>...</td>\n",
       "      <td>...</td>\n",
       "      <td>...</td>\n",
       "      <td>...</td>\n",
       "      <td>...</td>\n",
       "      <td>...</td>\n",
       "      <td>...</td>\n",
       "      <td>...</td>\n",
       "      <td>...</td>\n",
       "      <td>...</td>\n",
       "      <td>...</td>\n",
       "      <td>...</td>\n",
       "    </tr>\n",
       "    <tr>\n",
       "      <th>104899</th>\n",
       "      <td>12079</td>\n",
       "      <td>9814</td>\n",
       "      <td>3682835</td>\n",
       "      <td>64</td>\n",
       "      <td>43945</td>\n",
       "      <td>6995</td>\n",
       "      <td>1998-12-31</td>\n",
       "      <td>POPLATEK TYDNE</td>\n",
       "      <td>1995-01-19</td>\n",
       "      <td>295</td>\n",
       "      <td>...</td>\n",
       "      <td>1-5</td>\n",
       "      <td>avg</td>\n",
       "      <td>0-2%</td>\n",
       "      <td>2-4%</td>\n",
       "      <td>high_enterpr</td>\n",
       "      <td>low_crime</td>\n",
       "      <td>low_crime</td>\n",
       "      <td>female</td>\n",
       "      <td>26</td>\n",
       "      <td>working_class</td>\n",
       "    </tr>\n",
       "    <tr>\n",
       "      <th>104900</th>\n",
       "      <td>12079</td>\n",
       "      <td>9814</td>\n",
       "      <td>3682836</td>\n",
       "      <td>64</td>\n",
       "      <td>43945</td>\n",
       "      <td>6995</td>\n",
       "      <td>1998-12-31</td>\n",
       "      <td>POPLATEK TYDNE</td>\n",
       "      <td>1995-01-19</td>\n",
       "      <td>398</td>\n",
       "      <td>...</td>\n",
       "      <td>1-5</td>\n",
       "      <td>avg</td>\n",
       "      <td>0-2%</td>\n",
       "      <td>2-4%</td>\n",
       "      <td>high_enterpr</td>\n",
       "      <td>low_crime</td>\n",
       "      <td>low_crime</td>\n",
       "      <td>female</td>\n",
       "      <td>26</td>\n",
       "      <td>working_class</td>\n",
       "    </tr>\n",
       "    <tr>\n",
       "      <th>104901</th>\n",
       "      <td>12079</td>\n",
       "      <td>9814</td>\n",
       "      <td>3682837</td>\n",
       "      <td>64</td>\n",
       "      <td>43945</td>\n",
       "      <td>6995</td>\n",
       "      <td>1998-12-31</td>\n",
       "      <td>POPLATEK TYDNE</td>\n",
       "      <td>1995-01-19</td>\n",
       "      <td>439</td>\n",
       "      <td>...</td>\n",
       "      <td>1-5</td>\n",
       "      <td>avg</td>\n",
       "      <td>0-2%</td>\n",
       "      <td>2-4%</td>\n",
       "      <td>high_enterpr</td>\n",
       "      <td>low_crime</td>\n",
       "      <td>low_crime</td>\n",
       "      <td>female</td>\n",
       "      <td>26</td>\n",
       "      <td>working_class</td>\n",
       "    </tr>\n",
       "    <tr>\n",
       "      <th>104902</th>\n",
       "      <td>12079</td>\n",
       "      <td>9814</td>\n",
       "      <td>3682838</td>\n",
       "      <td>64</td>\n",
       "      <td>43945</td>\n",
       "      <td>6995</td>\n",
       "      <td>1998-12-31</td>\n",
       "      <td>POPLATEK TYDNE</td>\n",
       "      <td>1995-01-19</td>\n",
       "      <td>445</td>\n",
       "      <td>...</td>\n",
       "      <td>1-5</td>\n",
       "      <td>avg</td>\n",
       "      <td>0-2%</td>\n",
       "      <td>2-4%</td>\n",
       "      <td>high_enterpr</td>\n",
       "      <td>low_crime</td>\n",
       "      <td>low_crime</td>\n",
       "      <td>female</td>\n",
       "      <td>26</td>\n",
       "      <td>working_class</td>\n",
       "    </tr>\n",
       "    <tr>\n",
       "      <th>104903</th>\n",
       "      <td>12079</td>\n",
       "      <td>9814</td>\n",
       "      <td>3682839</td>\n",
       "      <td>64</td>\n",
       "      <td>43945</td>\n",
       "      <td>6995</td>\n",
       "      <td>1998-12-31</td>\n",
       "      <td>POPLATEK TYDNE</td>\n",
       "      <td>1995-01-19</td>\n",
       "      <td>348</td>\n",
       "      <td>...</td>\n",
       "      <td>1-5</td>\n",
       "      <td>avg</td>\n",
       "      <td>0-2%</td>\n",
       "      <td>2-4%</td>\n",
       "      <td>high_enterpr</td>\n",
       "      <td>low_crime</td>\n",
       "      <td>low_crime</td>\n",
       "      <td>female</td>\n",
       "      <td>26</td>\n",
       "      <td>working_class</td>\n",
       "    </tr>\n",
       "  </tbody>\n",
       "</table>\n",
       "<p>52231 rows × 57 columns</p>\n",
       "</div>"
      ],
      "text/plain": [
       "       client_id  account_id  trans_id district_id  order_id  loan_id  \\\n",
       "0            116          97     29886          74     29563     4986   \n",
       "1            116          97     29886          74     29562     4986   \n",
       "2            116          97     29886          74     29561     4986   \n",
       "3            116          97     29886          74     29560     4986   \n",
       "4            116          97     29891          74     29563     4986   \n",
       "...          ...         ...       ...         ...       ...      ...   \n",
       "104899     12079        9814   3682835          64     43945     6995   \n",
       "104900     12079        9814   3682836          64     43945     6995   \n",
       "104901     12079        9814   3682837          64     43945     6995   \n",
       "104902     12079        9814   3682838          64     43945     6995   \n",
       "104903     12079        9814   3682839          64     43945     6995   \n",
       "\n",
       "       max_trnx_date    statement_freq acct_open_date  trnx_amount  ...  \\\n",
       "0         1998-12-31  POPLATEK MESICNE     1996-05-05          900  ...   \n",
       "1         1998-12-31  POPLATEK MESICNE     1996-05-05          900  ...   \n",
       "2         1998-12-31  POPLATEK MESICNE     1996-05-05          900  ...   \n",
       "3         1998-12-31  POPLATEK MESICNE     1996-05-05          900  ...   \n",
       "4         1998-12-31  POPLATEK MESICNE     1996-05-05        17928  ...   \n",
       "...              ...               ...            ...          ...  ...   \n",
       "104899    1998-12-31    POPLATEK TYDNE     1995-01-19          295  ...   \n",
       "104900    1998-12-31    POPLATEK TYDNE     1995-01-19          398  ...   \n",
       "104901    1998-12-31    POPLATEK TYDNE     1995-01-19          439  ...   \n",
       "104902    1998-12-31    POPLATEK TYDNE     1995-01-19          445  ...   \n",
       "104903    1998-12-31    POPLATEK TYDNE     1995-01-19          348  ...   \n",
       "\n",
       "        muni<9999_cat avg_sal_cat unemployment_95_cat  unemployment_96_cat  \\\n",
       "0                6-10         avg                4-6%                 4-6%   \n",
       "1                6-10         avg                4-6%                 4-6%   \n",
       "2                6-10         avg                4-6%                 4-6%   \n",
       "3                6-10         avg                4-6%                 4-6%   \n",
       "4                6-10         avg                4-6%                 4-6%   \n",
       "...               ...         ...                 ...                  ...   \n",
       "104899            1-5         avg                0-2%                 2-4%   \n",
       "104900            1-5         avg                0-2%                 2-4%   \n",
       "104901            1-5         avg                0-2%                 2-4%   \n",
       "104902            1-5         avg                0-2%                 2-4%   \n",
       "104903            1-5         avg                0-2%                 2-4%   \n",
       "\n",
       "        enterpr_p1000_cat crimes_95_cat crimes_96_cat  gender age  \\\n",
       "0             mid_enterpr     low_crime     low_crime    male  56   \n",
       "1             mid_enterpr     low_crime     low_crime    male  56   \n",
       "2             mid_enterpr     low_crime     low_crime    male  56   \n",
       "3             mid_enterpr     low_crime     low_crime    male  56   \n",
       "4             mid_enterpr     low_crime     low_crime    male  56   \n",
       "...                   ...           ...           ...     ...  ..   \n",
       "104899       high_enterpr     low_crime     low_crime  female  26   \n",
       "104900       high_enterpr     low_crime     low_crime  female  26   \n",
       "104901       high_enterpr     low_crime     low_crime  female  26   \n",
       "104902       high_enterpr     low_crime     low_crime  female  26   \n",
       "104903       high_enterpr     low_crime     low_crime  female  26   \n",
       "\n",
       "        working_class  \n",
       "0             retiree  \n",
       "1             retiree  \n",
       "2             retiree  \n",
       "3             retiree  \n",
       "4             retiree  \n",
       "...               ...  \n",
       "104899  working_class  \n",
       "104900  working_class  \n",
       "104901  working_class  \n",
       "104902  working_class  \n",
       "104903  working_class  \n",
       "\n",
       "[52231 rows x 57 columns]"
      ]
     },
     "execution_count": 73,
     "metadata": {},
     "output_type": "execute_result"
    }
   ],
   "source": [
    "clients_with_cards=df[df['card_type']!='None']\n",
    "gd_loans_cards_cl= loan_paid[df['card_type']!='None']\n",
    "gd_loans_cards_cl"
   ]
  },
  {
   "cell_type": "code",
   "execution_count": 74,
   "id": "f27855b2",
   "metadata": {},
   "outputs": [
    {
     "data": {
      "text/plain": [
       "classic    78787\n",
       "junior     17858\n",
       "gold        8259\n",
       "Name: card_type, dtype: int64"
      ]
     },
     "execution_count": 74,
     "metadata": {},
     "output_type": "execute_result"
    }
   ],
   "source": [
    "df.card_type.value_counts()"
   ]
  },
  {
   "cell_type": "markdown",
   "id": "5ac6a16e",
   "metadata": {},
   "source": [
    "## Feature Engineering"
   ]
  },
  {
   "cell_type": "markdown",
   "id": "297724db",
   "metadata": {},
   "source": [
    "### Correlation and Multicorrelation"
   ]
  },
  {
   "cell_type": "code",
   "execution_count": 75,
   "id": "43ad47d3",
   "metadata": {},
   "outputs": [
    {
     "data": {
      "text/plain": [
       "(104904, 57)"
      ]
     },
     "execution_count": 75,
     "metadata": {},
     "output_type": "execute_result"
    }
   ],
   "source": [
    "df.shape"
   ]
  },
  {
   "cell_type": "code",
   "execution_count": 76,
   "id": "a66a16b9",
   "metadata": {},
   "outputs": [],
   "source": [
    "# to be dropped after analysis\n",
    "district_cat_features=[\"pop_cat\",\"muni400_cat\",\"muni500-1.99K_cat\",\"muni<9999_cat\",\"avg_sal_cat\",\n",
    "                       \"unemployment_95_cat\",\"unemployment_96_cat\",\"enterpr_p1000_cat\",\"crimes_95_cat\",\"crimes_96_cat\"]\n",
    "date_columns =['acct_open_date', 'trnx_date','max_trnx_date', 'loan_date', 'birthday','card_issued']\n",
    "id_columns=['account_id','trans_id','district_id','order_id','loan_id','dist_code','disp_id','card_id']\n",
    "other_columns=['account_to','bank_to', 'statement_freq']"
   ]
  },
  {
   "cell_type": "code",
   "execution_count": 77,
   "id": "ab11669e",
   "metadata": {},
   "outputs": [],
   "source": [
    "df2=df.copy()\n",
    "df2.drop([\"pop_cat\",\"muni400_cat\",\"muni500-1.99K_cat\",\"muni<9999_cat\",\"avg_sal_cat\",\n",
    "                       \"unemployment_95_cat\",\"unemployment_96_cat\",\"enterpr_p1000_cat\",\"crimes_95_cat\",\"crimes_96_cat\"], axis=1, inplace=True)"
   ]
  },
  {
   "cell_type": "code",
   "execution_count": 78,
   "id": "c8afc81c",
   "metadata": {},
   "outputs": [],
   "source": [
    "df2.drop(['acct_open_date', 'trnx_date','max_trnx_date', 'loan_date', 'birthday','card_issued'], axis=1, inplace=True)"
   ]
  },
  {
   "cell_type": "code",
   "execution_count": 79,
   "id": "93dfaaa6",
   "metadata": {},
   "outputs": [],
   "source": [
    "df2.drop(['account_id','trans_id','district_id','order_id','loan_id','dist_code','disp_id','card_id'], axis=1, inplace=True)"
   ]
  },
  {
   "cell_type": "code",
   "execution_count": 80,
   "id": "ca51f7f8",
   "metadata": {},
   "outputs": [],
   "source": [
    "df2.drop(['account_to','bank_to', 'statement_freq'], axis=1, inplace=True)"
   ]
  },
  {
   "cell_type": "code",
   "execution_count": 81,
   "id": "dc49ea10",
   "metadata": {},
   "outputs": [
    {
     "data": {
      "text/plain": [
       "(104904, 30)"
      ]
     },
     "execution_count": 81,
     "metadata": {},
     "output_type": "execute_result"
    }
   ],
   "source": [
    "df2.shape"
   ]
  },
  {
   "cell_type": "code",
   "execution_count": 82,
   "id": "787337ce",
   "metadata": {},
   "outputs": [
    {
     "data": {
      "image/png": "[encoded data removed]",
      "text/plain": [
       "<Figure size 720x576 with 1 Axes>"
      ]
     },
     "metadata": {
      "needs_background": "light"
     },
     "output_type": "display_data"
    }
   ],
   "source": [
    "plt.figure(figsize=(10,8))\n",
    "sns.heatmap(df2.corr(),\n",
    "            annot=True,\n",
    "            linewidths=.5,\n",
    "            center=0,\n",
    "            cbar=False,\n",
    "            cmap=\"YlGnBu\")\n",
    "plt.show()"
   ]
  },
  {
   "cell_type": "code",
   "execution_count": 83,
   "id": "4f3a0319",
   "metadata": {},
   "outputs": [
    {
     "data": {
      "text/plain": [
       "Index(['trnx_amount', 'balance', 'order_amount', 'loan_amount',\n",
       "       'loan_duration', 'loan_payments', 'population', 'muni_pop<400',\n",
       "       'muni_pop_500-1.99K', 'muni_pop_2K-9.99K', 'muni_pop>10K', 'num_cities',\n",
       "       'urban_ratio', 'avg_sal', 'unemployment_rate_95',\n",
       "       'unemployment_rate_96', 'enterpr_p1000', 'crimes_95', 'crimes_96',\n",
       "       'age'],\n",
       "      dtype='object')"
      ]
     },
     "execution_count": 83,
     "metadata": {},
     "output_type": "execute_result"
    }
   ],
   "source": [
    "mycorr=df2.corr()\n",
    "mycorr.columns"
   ]
  },
  {
   "cell_type": "markdown",
   "id": "d407b1b5",
   "metadata": {},
   "source": [
    "there is high negative and positive correlation between a lot of the features\n",
    "using VIF we will decide on the columns to drop"
   ]
  },
  {
   "cell_type": "code",
   "execution_count": 84,
   "id": "89e8d47f",
   "metadata": {},
   "outputs": [],
   "source": [
    "from sklearn.linear_model import LinearRegression\n",
    "def calculate_vif(df2, features):    \n",
    "    vif, tolerance = {}, {}\n",
    "    # all the features that you want to examine\n",
    "    for feature in features:\n",
    "        # extract all the other features you will regress against\n",
    "        X = [f for f in features if f != feature]        \n",
    "        X, y = df2[X], df2[feature]\n",
    "        # extract r-squared from the fit\n",
    "        r2 = LinearRegression().fit(X, y).score(X, y)                \n",
    "        \n",
    "        # calculate tolerance\n",
    "        tolerance[feature] = 1 - r2\n",
    "        # calculate VIF\n",
    "        vif[feature] = 1/(tolerance[feature])\n",
    "    # return VIF DataFrame\n",
    "    return pd.DataFrame({'VIF': vif, 'Tolerance': tolerance})"
   ]
  },
  {
   "cell_type": "code",
   "execution_count": 85,
   "id": "61ee7c5b",
   "metadata": {},
   "outputs": [
    {
     "data": {
      "text/html": [
       "<div>\n",
       "<style scoped>\n",
       "    .dataframe tbody tr th:only-of-type {\n",
       "        vertical-align: middle;\n",
       "    }\n",
       "\n",
       "    .dataframe tbody tr th {\n",
       "        vertical-align: top;\n",
       "    }\n",
       "\n",
       "    .dataframe thead th {\n",
       "        text-align: right;\n",
       "    }\n",
       "</style>\n",
       "<table border=\"1\" class=\"dataframe\">\n",
       "  <thead>\n",
       "    <tr style=\"text-align: right;\">\n",
       "      <th></th>\n",
       "      <th>VIF</th>\n",
       "      <th>Tolerance</th>\n",
       "    </tr>\n",
       "  </thead>\n",
       "  <tbody>\n",
       "    <tr>\n",
       "      <th>trnx_amount</th>\n",
       "      <td>1.201254</td>\n",
       "      <td>0.832464</td>\n",
       "    </tr>\n",
       "    <tr>\n",
       "      <th>balance</th>\n",
       "      <td>1.216542</td>\n",
       "      <td>0.822002</td>\n",
       "    </tr>\n",
       "    <tr>\n",
       "      <th>order_amount</th>\n",
       "      <td>1.274746</td>\n",
       "      <td>0.784470</td>\n",
       "    </tr>\n",
       "    <tr>\n",
       "      <th>loan_amount</th>\n",
       "      <td>8.825441</td>\n",
       "      <td>0.113309</td>\n",
       "    </tr>\n",
       "    <tr>\n",
       "      <th>loan_duration</th>\n",
       "      <td>5.541206</td>\n",
       "      <td>0.180466</td>\n",
       "    </tr>\n",
       "    <tr>\n",
       "      <th>loan_payments</th>\n",
       "      <td>5.988654</td>\n",
       "      <td>0.166982</td>\n",
       "    </tr>\n",
       "    <tr>\n",
       "      <th>population</th>\n",
       "      <td>431.061875</td>\n",
       "      <td>0.002320</td>\n",
       "    </tr>\n",
       "    <tr>\n",
       "      <th>muni_pop&lt;400</th>\n",
       "      <td>3.154760</td>\n",
       "      <td>0.316981</td>\n",
       "    </tr>\n",
       "    <tr>\n",
       "      <th>muni_pop_500-1.99K</th>\n",
       "      <td>4.987279</td>\n",
       "      <td>0.200510</td>\n",
       "    </tr>\n",
       "    <tr>\n",
       "      <th>muni_pop_2K-9.99K</th>\n",
       "      <td>8.904894</td>\n",
       "      <td>0.112298</td>\n",
       "    </tr>\n",
       "    <tr>\n",
       "      <th>muni_pop&gt;10K</th>\n",
       "      <td>3.380677</td>\n",
       "      <td>0.295799</td>\n",
       "    </tr>\n",
       "    <tr>\n",
       "      <th>num_cities</th>\n",
       "      <td>6.319278</td>\n",
       "      <td>0.158246</td>\n",
       "    </tr>\n",
       "    <tr>\n",
       "      <th>urban_ratio</th>\n",
       "      <td>16.963388</td>\n",
       "      <td>0.058950</td>\n",
       "    </tr>\n",
       "    <tr>\n",
       "      <th>avg_sal</th>\n",
       "      <td>14.308635</td>\n",
       "      <td>0.069888</td>\n",
       "    </tr>\n",
       "    <tr>\n",
       "      <th>unemployment_rate_95</th>\n",
       "      <td>79.405453</td>\n",
       "      <td>0.012594</td>\n",
       "    </tr>\n",
       "    <tr>\n",
       "      <th>unemployment_rate_96</th>\n",
       "      <td>80.989648</td>\n",
       "      <td>0.012347</td>\n",
       "    </tr>\n",
       "    <tr>\n",
       "      <th>enterpr_p1000</th>\n",
       "      <td>4.873992</td>\n",
       "      <td>0.205171</td>\n",
       "    </tr>\n",
       "    <tr>\n",
       "      <th>crimes_95</th>\n",
       "      <td>82.763333</td>\n",
       "      <td>0.012083</td>\n",
       "    </tr>\n",
       "    <tr>\n",
       "      <th>crimes_96</th>\n",
       "      <td>449.547033</td>\n",
       "      <td>0.002224</td>\n",
       "    </tr>\n",
       "    <tr>\n",
       "      <th>age</th>\n",
       "      <td>1.205601</td>\n",
       "      <td>0.829462</td>\n",
       "    </tr>\n",
       "  </tbody>\n",
       "</table>\n",
       "</div>"
      ],
      "text/plain": [
       "                             VIF  Tolerance\n",
       "trnx_amount             1.201254   0.832464\n",
       "balance                 1.216542   0.822002\n",
       "order_amount            1.274746   0.784470\n",
       "loan_amount             8.825441   0.113309\n",
       "loan_duration           5.541206   0.180466\n",
       "loan_payments           5.988654   0.166982\n",
       "population            431.061875   0.002320\n",
       "muni_pop<400            3.154760   0.316981\n",
       "muni_pop_500-1.99K      4.987279   0.200510\n",
       "muni_pop_2K-9.99K       8.904894   0.112298\n",
       "muni_pop>10K            3.380677   0.295799\n",
       "num_cities              6.319278   0.158246\n",
       "urban_ratio            16.963388   0.058950\n",
       "avg_sal                14.308635   0.069888\n",
       "unemployment_rate_95   79.405453   0.012594\n",
       "unemployment_rate_96   80.989648   0.012347\n",
       "enterpr_p1000           4.873992   0.205171\n",
       "crimes_95              82.763333   0.012083\n",
       "crimes_96             449.547033   0.002224\n",
       "age                     1.205601   0.829462"
      ]
     },
     "execution_count": 85,
     "metadata": {},
     "output_type": "execute_result"
    }
   ],
   "source": [
    "calculate_vif(df2, mycorr.columns)"
   ]
  },
  {
   "cell_type": "code",
   "execution_count": 86,
   "id": "1039382e",
   "metadata": {},
   "outputs": [
    {
     "data": {
      "text/html": [
       "<div>\n",
       "<style scoped>\n",
       "    .dataframe tbody tr th:only-of-type {\n",
       "        vertical-align: middle;\n",
       "    }\n",
       "\n",
       "    .dataframe tbody tr th {\n",
       "        vertical-align: top;\n",
       "    }\n",
       "\n",
       "    .dataframe thead th {\n",
       "        text-align: right;\n",
       "    }\n",
       "</style>\n",
       "<table border=\"1\" class=\"dataframe\">\n",
       "  <thead>\n",
       "    <tr style=\"text-align: right;\">\n",
       "      <th></th>\n",
       "      <th>VIF</th>\n",
       "      <th>Tolerance</th>\n",
       "    </tr>\n",
       "  </thead>\n",
       "  <tbody>\n",
       "    <tr>\n",
       "      <th>trnx_amount</th>\n",
       "      <td>1.201236</td>\n",
       "      <td>0.832476</td>\n",
       "    </tr>\n",
       "    <tr>\n",
       "      <th>balance</th>\n",
       "      <td>1.214728</td>\n",
       "      <td>0.823230</td>\n",
       "    </tr>\n",
       "    <tr>\n",
       "      <th>order_amount</th>\n",
       "      <td>1.274304</td>\n",
       "      <td>0.784742</td>\n",
       "    </tr>\n",
       "    <tr>\n",
       "      <th>loan_amount</th>\n",
       "      <td>8.130754</td>\n",
       "      <td>0.122990</td>\n",
       "    </tr>\n",
       "    <tr>\n",
       "      <th>loan_duration</th>\n",
       "      <td>5.322868</td>\n",
       "      <td>0.187869</td>\n",
       "    </tr>\n",
       "    <tr>\n",
       "      <th>loan_payments</th>\n",
       "      <td>5.437514</td>\n",
       "      <td>0.183908</td>\n",
       "    </tr>\n",
       "    <tr>\n",
       "      <th>population</th>\n",
       "      <td>83.908213</td>\n",
       "      <td>0.011918</td>\n",
       "    </tr>\n",
       "    <tr>\n",
       "      <th>muni_pop&lt;400</th>\n",
       "      <td>3.114665</td>\n",
       "      <td>0.321062</td>\n",
       "    </tr>\n",
       "    <tr>\n",
       "      <th>muni_pop_500-1.99K</th>\n",
       "      <td>3.986018</td>\n",
       "      <td>0.250877</td>\n",
       "    </tr>\n",
       "    <tr>\n",
       "      <th>muni_pop_2K-9.99K</th>\n",
       "      <td>6.085801</td>\n",
       "      <td>0.164317</td>\n",
       "    </tr>\n",
       "    <tr>\n",
       "      <th>muni_pop&gt;10K</th>\n",
       "      <td>3.118286</td>\n",
       "      <td>0.320689</td>\n",
       "    </tr>\n",
       "    <tr>\n",
       "      <th>num_cities</th>\n",
       "      <td>5.097086</td>\n",
       "      <td>0.196191</td>\n",
       "    </tr>\n",
       "    <tr>\n",
       "      <th>urban_ratio</th>\n",
       "      <td>9.606239</td>\n",
       "      <td>0.104099</td>\n",
       "    </tr>\n",
       "    <tr>\n",
       "      <th>avg_sal</th>\n",
       "      <td>13.483049</td>\n",
       "      <td>0.074167</td>\n",
       "    </tr>\n",
       "    <tr>\n",
       "      <th>unemployment_rate_95</th>\n",
       "      <td>75.318065</td>\n",
       "      <td>0.013277</td>\n",
       "    </tr>\n",
       "    <tr>\n",
       "      <th>unemployment_rate_96</th>\n",
       "      <td>78.913107</td>\n",
       "      <td>0.012672</td>\n",
       "    </tr>\n",
       "    <tr>\n",
       "      <th>enterpr_p1000</th>\n",
       "      <td>4.734577</td>\n",
       "      <td>0.211212</td>\n",
       "    </tr>\n",
       "    <tr>\n",
       "      <th>age</th>\n",
       "      <td>1.203980</td>\n",
       "      <td>0.830579</td>\n",
       "    </tr>\n",
       "    <tr>\n",
       "      <th>crimes_95</th>\n",
       "      <td>75.324554</td>\n",
       "      <td>0.013276</td>\n",
       "    </tr>\n",
       "  </tbody>\n",
       "</table>\n",
       "</div>"
      ],
      "text/plain": [
       "                            VIF  Tolerance\n",
       "trnx_amount            1.201236   0.832476\n",
       "balance                1.214728   0.823230\n",
       "order_amount           1.274304   0.784742\n",
       "loan_amount            8.130754   0.122990\n",
       "loan_duration          5.322868   0.187869\n",
       "loan_payments          5.437514   0.183908\n",
       "population            83.908213   0.011918\n",
       "muni_pop<400           3.114665   0.321062\n",
       "muni_pop_500-1.99K     3.986018   0.250877\n",
       "muni_pop_2K-9.99K      6.085801   0.164317\n",
       "muni_pop>10K           3.118286   0.320689\n",
       "num_cities             5.097086   0.196191\n",
       "urban_ratio            9.606239   0.104099\n",
       "avg_sal               13.483049   0.074167\n",
       "unemployment_rate_95  75.318065   0.013277\n",
       "unemployment_rate_96  78.913107   0.012672\n",
       "enterpr_p1000          4.734577   0.211212\n",
       "age                    1.203980   0.830579\n",
       "crimes_95             75.324554   0.013276"
      ]
     },
     "execution_count": 86,
     "metadata": {},
     "output_type": "execute_result"
    }
   ],
   "source": [
    "# first drop 'crime_95' and then 'crime_96' to observe the which column reduces VIF the most\n",
    "calculate_vif(df2,['trnx_amount', 'balance', 'order_amount', 'loan_amount',\n",
    "       'loan_duration', 'loan_payments', 'population', 'muni_pop<400',\n",
    "       'muni_pop_500-1.99K', 'muni_pop_2K-9.99K', 'muni_pop>10K', 'num_cities',\n",
    "       'urban_ratio', 'avg_sal', 'unemployment_rate_95',\n",
    "       'unemployment_rate_96', 'enterpr_p1000', #'crimes_96',\n",
    "                   'age', 'crimes_95'\n",
    "                  ])"
   ]
  },
  {
   "cell_type": "code",
   "execution_count": 87,
   "id": "cf808320",
   "metadata": {},
   "outputs": [
    {
     "data": {
      "text/html": [
       "<div>\n",
       "<style scoped>\n",
       "    .dataframe tbody tr th:only-of-type {\n",
       "        vertical-align: middle;\n",
       "    }\n",
       "\n",
       "    .dataframe tbody tr th {\n",
       "        vertical-align: top;\n",
       "    }\n",
       "\n",
       "    .dataframe thead th {\n",
       "        text-align: right;\n",
       "    }\n",
       "</style>\n",
       "<table border=\"1\" class=\"dataframe\">\n",
       "  <thead>\n",
       "    <tr style=\"text-align: right;\">\n",
       "      <th></th>\n",
       "      <th>VIF</th>\n",
       "      <th>Tolerance</th>\n",
       "    </tr>\n",
       "  </thead>\n",
       "  <tbody>\n",
       "    <tr>\n",
       "      <th>trnx_amount</th>\n",
       "      <td>1.201236</td>\n",
       "      <td>0.832476</td>\n",
       "    </tr>\n",
       "    <tr>\n",
       "      <th>balance</th>\n",
       "      <td>1.213102</td>\n",
       "      <td>0.824333</td>\n",
       "    </tr>\n",
       "    <tr>\n",
       "      <th>order_amount</th>\n",
       "      <td>1.265725</td>\n",
       "      <td>0.790061</td>\n",
       "    </tr>\n",
       "    <tr>\n",
       "      <th>loan_amount</th>\n",
       "      <td>8.126952</td>\n",
       "      <td>0.123047</td>\n",
       "    </tr>\n",
       "    <tr>\n",
       "      <th>loan_duration</th>\n",
       "      <td>5.301347</td>\n",
       "      <td>0.188631</td>\n",
       "    </tr>\n",
       "    <tr>\n",
       "      <th>loan_payments</th>\n",
       "      <td>5.434174</td>\n",
       "      <td>0.184021</td>\n",
       "    </tr>\n",
       "    <tr>\n",
       "      <th>muni_pop&lt;400</th>\n",
       "      <td>3.023882</td>\n",
       "      <td>0.330701</td>\n",
       "    </tr>\n",
       "    <tr>\n",
       "      <th>age</th>\n",
       "      <td>1.203966</td>\n",
       "      <td>0.830588</td>\n",
       "    </tr>\n",
       "    <tr>\n",
       "      <th>muni_pop_500-1.99K</th>\n",
       "      <td>3.783189</td>\n",
       "      <td>0.264327</td>\n",
       "    </tr>\n",
       "    <tr>\n",
       "      <th>muni_pop_2K-9.99K</th>\n",
       "      <td>5.454143</td>\n",
       "      <td>0.183347</td>\n",
       "    </tr>\n",
       "    <tr>\n",
       "      <th>muni_pop&gt;10K</th>\n",
       "      <td>2.954751</td>\n",
       "      <td>0.338438</td>\n",
       "    </tr>\n",
       "    <tr>\n",
       "      <th>num_cities</th>\n",
       "      <td>4.783981</td>\n",
       "      <td>0.209031</td>\n",
       "    </tr>\n",
       "    <tr>\n",
       "      <th>urban_ratio</th>\n",
       "      <td>8.587757</td>\n",
       "      <td>0.116445</td>\n",
       "    </tr>\n",
       "    <tr>\n",
       "      <th>avg_sal</th>\n",
       "      <td>13.055430</td>\n",
       "      <td>0.076596</td>\n",
       "    </tr>\n",
       "    <tr>\n",
       "      <th>unemployment_rate_95</th>\n",
       "      <td>29.699709</td>\n",
       "      <td>0.033670</td>\n",
       "    </tr>\n",
       "    <tr>\n",
       "      <th>unemployment_rate_96</th>\n",
       "      <td>25.500277</td>\n",
       "      <td>0.039215</td>\n",
       "    </tr>\n",
       "    <tr>\n",
       "      <th>enterpr_p1000</th>\n",
       "      <td>4.732700</td>\n",
       "      <td>0.211296</td>\n",
       "    </tr>\n",
       "    <tr>\n",
       "      <th>crimes_95</th>\n",
       "      <td>9.192757</td>\n",
       "      <td>0.108781</td>\n",
       "    </tr>\n",
       "  </tbody>\n",
       "</table>\n",
       "</div>"
      ],
      "text/plain": [
       "                            VIF  Tolerance\n",
       "trnx_amount            1.201236   0.832476\n",
       "balance                1.213102   0.824333\n",
       "order_amount           1.265725   0.790061\n",
       "loan_amount            8.126952   0.123047\n",
       "loan_duration          5.301347   0.188631\n",
       "loan_payments          5.434174   0.184021\n",
       "muni_pop<400           3.023882   0.330701\n",
       "age                    1.203966   0.830588\n",
       "muni_pop_500-1.99K     3.783189   0.264327\n",
       "muni_pop_2K-9.99K      5.454143   0.183347\n",
       "muni_pop>10K           2.954751   0.338438\n",
       "num_cities             4.783981   0.209031\n",
       "urban_ratio            8.587757   0.116445\n",
       "avg_sal               13.055430   0.076596\n",
       "unemployment_rate_95  29.699709   0.033670\n",
       "unemployment_rate_96  25.500277   0.039215\n",
       "enterpr_p1000          4.732700   0.211296\n",
       "crimes_95              9.192757   0.108781"
      ]
     },
     "execution_count": 87,
     "metadata": {},
     "output_type": "execute_result"
    }
   ],
   "source": [
    "# next drop 'population' to observe the impact\n",
    "calculate_vif(df2,['trnx_amount', 'balance', 'order_amount', 'loan_amount',\n",
    "       'loan_duration', 'loan_payments', 'muni_pop<400', 'age',#'crimes_96',\n",
    "       'muni_pop_500-1.99K', 'muni_pop_2K-9.99K', 'muni_pop>10K', 'num_cities',\n",
    "       'urban_ratio', 'avg_sal', 'unemployment_rate_95','unemployment_rate_96', 'enterpr_p1000',\n",
    "        'crimes_95', #'population'\n",
    "                  ])"
   ]
  },
  {
   "cell_type": "code",
   "execution_count": 88,
   "id": "10d50af3",
   "metadata": {},
   "outputs": [
    {
     "data": {
      "text/html": [
       "<div>\n",
       "<style scoped>\n",
       "    .dataframe tbody tr th:only-of-type {\n",
       "        vertical-align: middle;\n",
       "    }\n",
       "\n",
       "    .dataframe tbody tr th {\n",
       "        vertical-align: top;\n",
       "    }\n",
       "\n",
       "    .dataframe thead th {\n",
       "        text-align: right;\n",
       "    }\n",
       "</style>\n",
       "<table border=\"1\" class=\"dataframe\">\n",
       "  <thead>\n",
       "    <tr style=\"text-align: right;\">\n",
       "      <th></th>\n",
       "      <th>VIF</th>\n",
       "      <th>Tolerance</th>\n",
       "    </tr>\n",
       "  </thead>\n",
       "  <tbody>\n",
       "    <tr>\n",
       "      <th>trnx_amount</th>\n",
       "      <td>1.200847</td>\n",
       "      <td>0.832746</td>\n",
       "    </tr>\n",
       "    <tr>\n",
       "      <th>balance</th>\n",
       "      <td>1.213075</td>\n",
       "      <td>0.824351</td>\n",
       "    </tr>\n",
       "    <tr>\n",
       "      <th>order_amount</th>\n",
       "      <td>1.261690</td>\n",
       "      <td>0.792588</td>\n",
       "    </tr>\n",
       "    <tr>\n",
       "      <th>loan_amount</th>\n",
       "      <td>8.087089</td>\n",
       "      <td>0.123654</td>\n",
       "    </tr>\n",
       "    <tr>\n",
       "      <th>loan_duration</th>\n",
       "      <td>5.285363</td>\n",
       "      <td>0.189202</td>\n",
       "    </tr>\n",
       "    <tr>\n",
       "      <th>loan_payments</th>\n",
       "      <td>5.408051</td>\n",
       "      <td>0.184909</td>\n",
       "    </tr>\n",
       "    <tr>\n",
       "      <th>muni_pop&lt;400</th>\n",
       "      <td>2.961847</td>\n",
       "      <td>0.337627</td>\n",
       "    </tr>\n",
       "    <tr>\n",
       "      <th>crimes_95</th>\n",
       "      <td>6.371731</td>\n",
       "      <td>0.156943</td>\n",
       "    </tr>\n",
       "    <tr>\n",
       "      <th>age</th>\n",
       "      <td>1.203758</td>\n",
       "      <td>0.830732</td>\n",
       "    </tr>\n",
       "    <tr>\n",
       "      <th>muni_pop_500-1.99K</th>\n",
       "      <td>3.736276</td>\n",
       "      <td>0.267646</td>\n",
       "    </tr>\n",
       "    <tr>\n",
       "      <th>muni_pop_2K-9.99K</th>\n",
       "      <td>5.386823</td>\n",
       "      <td>0.185638</td>\n",
       "    </tr>\n",
       "    <tr>\n",
       "      <th>muni_pop&gt;10K</th>\n",
       "      <td>2.678718</td>\n",
       "      <td>0.373313</td>\n",
       "    </tr>\n",
       "    <tr>\n",
       "      <th>num_cities</th>\n",
       "      <td>4.727310</td>\n",
       "      <td>0.211537</td>\n",
       "    </tr>\n",
       "    <tr>\n",
       "      <th>urban_ratio</th>\n",
       "      <td>8.561705</td>\n",
       "      <td>0.116799</td>\n",
       "    </tr>\n",
       "    <tr>\n",
       "      <th>avg_sal</th>\n",
       "      <td>10.316855</td>\n",
       "      <td>0.096929</td>\n",
       "    </tr>\n",
       "    <tr>\n",
       "      <th>unemployment_rate_96</th>\n",
       "      <td>4.030788</td>\n",
       "      <td>0.248090</td>\n",
       "    </tr>\n",
       "    <tr>\n",
       "      <th>enterpr_p1000</th>\n",
       "      <td>4.706605</td>\n",
       "      <td>0.212467</td>\n",
       "    </tr>\n",
       "  </tbody>\n",
       "</table>\n",
       "</div>"
      ],
      "text/plain": [
       "                            VIF  Tolerance\n",
       "trnx_amount            1.200847   0.832746\n",
       "balance                1.213075   0.824351\n",
       "order_amount           1.261690   0.792588\n",
       "loan_amount            8.087089   0.123654\n",
       "loan_duration          5.285363   0.189202\n",
       "loan_payments          5.408051   0.184909\n",
       "muni_pop<400           2.961847   0.337627\n",
       "crimes_95              6.371731   0.156943\n",
       "age                    1.203758   0.830732\n",
       "muni_pop_500-1.99K     3.736276   0.267646\n",
       "muni_pop_2K-9.99K      5.386823   0.185638\n",
       "muni_pop>10K           2.678718   0.373313\n",
       "num_cities             4.727310   0.211537\n",
       "urban_ratio            8.561705   0.116799\n",
       "avg_sal               10.316855   0.096929\n",
       "unemployment_rate_96   4.030788   0.248090\n",
       "enterpr_p1000          4.706605   0.212467"
      ]
     },
     "execution_count": 88,
     "metadata": {},
     "output_type": "execute_result"
    }
   ],
   "source": [
    "# we then drop 'unemployment_rate_95' and 'unemployment_rate_96' alternatively\n",
    "calculate_vif(df2,['trnx_amount', 'balance', 'order_amount', 'loan_amount',\n",
    "       'loan_duration', 'loan_payments', 'muni_pop<400', 'crimes_95','age',\n",
    "       'muni_pop_500-1.99K', 'muni_pop_2K-9.99K', 'muni_pop>10K', 'num_cities',\n",
    "       'urban_ratio', 'avg_sal','unemployment_rate_96', 'enterpr_p1000',\n",
    "        #'crimes_96', #'population', 'unemployment_rate_95'\n",
    "                  ])"
   ]
  },
  {
   "cell_type": "code",
   "execution_count": 89,
   "id": "07f339e1",
   "metadata": {},
   "outputs": [
    {
     "data": {
      "text/html": [
       "<div>\n",
       "<style scoped>\n",
       "    .dataframe tbody tr th:only-of-type {\n",
       "        vertical-align: middle;\n",
       "    }\n",
       "\n",
       "    .dataframe tbody tr th {\n",
       "        vertical-align: top;\n",
       "    }\n",
       "\n",
       "    .dataframe thead th {\n",
       "        text-align: right;\n",
       "    }\n",
       "</style>\n",
       "<table border=\"1\" class=\"dataframe\">\n",
       "  <thead>\n",
       "    <tr style=\"text-align: right;\">\n",
       "      <th></th>\n",
       "      <th>VIF</th>\n",
       "      <th>Tolerance</th>\n",
       "    </tr>\n",
       "  </thead>\n",
       "  <tbody>\n",
       "    <tr>\n",
       "      <th>trnx_amount</th>\n",
       "      <td>1.200665</td>\n",
       "      <td>0.832872</td>\n",
       "    </tr>\n",
       "    <tr>\n",
       "      <th>balance</th>\n",
       "      <td>1.199434</td>\n",
       "      <td>0.833727</td>\n",
       "    </tr>\n",
       "    <tr>\n",
       "      <th>order_amount</th>\n",
       "      <td>1.248062</td>\n",
       "      <td>0.801243</td>\n",
       "    </tr>\n",
       "    <tr>\n",
       "      <th>loan_duration</th>\n",
       "      <td>1.118740</td>\n",
       "      <td>0.893863</td>\n",
       "    </tr>\n",
       "    <tr>\n",
       "      <th>loan_payments</th>\n",
       "      <td>1.409964</td>\n",
       "      <td>0.709238</td>\n",
       "    </tr>\n",
       "    <tr>\n",
       "      <th>muni_pop&lt;400</th>\n",
       "      <td>2.932717</td>\n",
       "      <td>0.340981</td>\n",
       "    </tr>\n",
       "    <tr>\n",
       "      <th>crimes_95</th>\n",
       "      <td>4.532187</td>\n",
       "      <td>0.220644</td>\n",
       "    </tr>\n",
       "    <tr>\n",
       "      <th>age</th>\n",
       "      <td>1.178840</td>\n",
       "      <td>0.848291</td>\n",
       "    </tr>\n",
       "    <tr>\n",
       "      <th>muni_pop_500-1.99K</th>\n",
       "      <td>3.625238</td>\n",
       "      <td>0.275844</td>\n",
       "    </tr>\n",
       "    <tr>\n",
       "      <th>muni_pop_2K-9.99K</th>\n",
       "      <td>4.742145</td>\n",
       "      <td>0.210875</td>\n",
       "    </tr>\n",
       "    <tr>\n",
       "      <th>muni_pop&gt;10K</th>\n",
       "      <td>2.591955</td>\n",
       "      <td>0.385809</td>\n",
       "    </tr>\n",
       "    <tr>\n",
       "      <th>num_cities</th>\n",
       "      <td>4.502531</td>\n",
       "      <td>0.222097</td>\n",
       "    </tr>\n",
       "    <tr>\n",
       "      <th>urban_ratio</th>\n",
       "      <td>4.934599</td>\n",
       "      <td>0.202651</td>\n",
       "    </tr>\n",
       "    <tr>\n",
       "      <th>unemployment_rate_96</th>\n",
       "      <td>3.958639</td>\n",
       "      <td>0.252612</td>\n",
       "    </tr>\n",
       "    <tr>\n",
       "      <th>enterpr_p1000</th>\n",
       "      <td>4.477295</td>\n",
       "      <td>0.223349</td>\n",
       "    </tr>\n",
       "  </tbody>\n",
       "</table>\n",
       "</div>"
      ],
      "text/plain": [
       "                           VIF  Tolerance\n",
       "trnx_amount           1.200665   0.832872\n",
       "balance               1.199434   0.833727\n",
       "order_amount          1.248062   0.801243\n",
       "loan_duration         1.118740   0.893863\n",
       "loan_payments         1.409964   0.709238\n",
       "muni_pop<400          2.932717   0.340981\n",
       "crimes_95             4.532187   0.220644\n",
       "age                   1.178840   0.848291\n",
       "muni_pop_500-1.99K    3.625238   0.275844\n",
       "muni_pop_2K-9.99K     4.742145   0.210875\n",
       "muni_pop>10K          2.591955   0.385809\n",
       "num_cities            4.502531   0.222097\n",
       "urban_ratio           4.934599   0.202651\n",
       "unemployment_rate_96  3.958639   0.252612\n",
       "enterpr_p1000         4.477295   0.223349"
      ]
     },
     "execution_count": 89,
     "metadata": {},
     "output_type": "execute_result"
    }
   ],
   "source": [
    "#drop avg_sal and loan_amount\n",
    "calculate_vif(df2,['trnx_amount', 'balance', 'order_amount',\n",
    "       'loan_duration', 'loan_payments', 'muni_pop<400', 'crimes_95','age',\n",
    "       'muni_pop_500-1.99K', 'muni_pop_2K-9.99K', 'muni_pop>10K', 'num_cities',\n",
    "       'urban_ratio','unemployment_rate_96', 'enterpr_p1000',\n",
    "        #'crimes_96', 'population', 'unemployment_rate_95','avg_sal','loan_amount'\n",
    "                  ])"
   ]
  },
  {
   "cell_type": "code",
   "execution_count": 90,
   "id": "6caf7da3",
   "metadata": {},
   "outputs": [],
   "source": [
    "#now we can drop all the columns from df2\n",
    "df2.drop(['crimes_96', 'population', 'unemployment_rate_95','avg_sal','loan_amount'], axis=1,inplace=True)"
   ]
  },
  {
   "cell_type": "markdown",
   "id": "ff9cab1d",
   "metadata": {},
   "source": [
    "### Feature Transformation"
   ]
  },
  {
   "cell_type": "markdown",
   "id": "75ecdc7c",
   "metadata": {},
   "source": [
    "Detect Outliers and Treat"
   ]
  },
  {
   "cell_type": "code",
   "execution_count": 92,
   "id": "4d69167b",
   "metadata": {},
   "outputs": [
    {
     "name": "stderr",
     "output_type": "stream",
     "text": [
      "C:\\ProgramData\\Anaconda3\\lib\\site-packages\\seaborn\\_decorators.py:36: FutureWarning: Pass the following variable as a keyword arg: x. From version 0.12, the only valid positional argument will be `data`, and passing other arguments without an explicit keyword will result in an error or misinterpretation.\n",
      "  warnings.warn(\n"
     ]
    },
    {
     "data": {
      "text/plain": [
       "<AxesSubplot:xlabel='trnx_amount'>"
      ]
     },
     "execution_count": 92,
     "metadata": {},
     "output_type": "execute_result"
    },
    {
     "data": {
      "image/png": "[encoded data removed]",
      "text/plain": [
       "<Figure size 432x288 with 1 Axes>"
      ]
     },
     "metadata": {
      "needs_background": "light"
     },
     "output_type": "display_data"
    }
   ],
   "source": [
    "sns.boxplot('trnx_amount',data=df2)"
   ]
  },
  {
   "cell_type": "code",
   "execution_count": 93,
   "id": "9e501d67",
   "metadata": {},
   "outputs": [
    {
     "name": "stderr",
     "output_type": "stream",
     "text": [
      "C:\\ProgramData\\Anaconda3\\lib\\site-packages\\seaborn\\_decorators.py:36: FutureWarning: Pass the following variable as a keyword arg: x. From version 0.12, the only valid positional argument will be `data`, and passing other arguments without an explicit keyword will result in an error or misinterpretation.\n",
      "  warnings.warn(\n"
     ]
    },
    {
     "data": {
      "text/plain": [
       "<AxesSubplot:xlabel='balance'>"
      ]
     },
     "execution_count": 93,
     "metadata": {},
     "output_type": "execute_result"
    },
    {
     "data": {
      "image/png": "[encoded data removed]",
      "text/plain": [
       "<Figure size 432x288 with 1 Axes>"
      ]
     },
     "metadata": {
      "needs_background": "light"
     },
     "output_type": "display_data"
    }
   ],
   "source": [
    "sns.boxplot('balance',data=df2)"
   ]
  },
  {
   "cell_type": "code",
   "execution_count": 94,
   "id": "aa2717c2",
   "metadata": {},
   "outputs": [
    {
     "name": "stderr",
     "output_type": "stream",
     "text": [
      "C:\\ProgramData\\Anaconda3\\lib\\site-packages\\seaborn\\_decorators.py:36: FutureWarning: Pass the following variable as a keyword arg: x. From version 0.12, the only valid positional argument will be `data`, and passing other arguments without an explicit keyword will result in an error or misinterpretation.\n",
      "  warnings.warn(\n"
     ]
    },
    {
     "data": {
      "text/plain": [
       "<AxesSubplot:xlabel='order_amount'>"
      ]
     },
     "execution_count": 94,
     "metadata": {},
     "output_type": "execute_result"
    },
    {
     "data": {
      "image/png": "[encoded data removed]",
      "text/plain": [
       "<Figure size 432x288 with 1 Axes>"
      ]
     },
     "metadata": {
      "needs_background": "light"
     },
     "output_type": "display_data"
    }
   ],
   "source": [
    "sns.boxplot('order_amount',data=df2)"
   ]
  },
  {
   "cell_type": "code",
   "execution_count": 95,
   "id": "f66b0756",
   "metadata": {},
   "outputs": [
    {
     "name": "stderr",
     "output_type": "stream",
     "text": [
      "C:\\ProgramData\\Anaconda3\\lib\\site-packages\\seaborn\\_decorators.py:36: FutureWarning: Pass the following variable as a keyword arg: x. From version 0.12, the only valid positional argument will be `data`, and passing other arguments without an explicit keyword will result in an error or misinterpretation.\n",
      "  warnings.warn(\n"
     ]
    },
    {
     "data": {
      "text/plain": [
       "<AxesSubplot:xlabel='crimes_95'>"
      ]
     },
     "execution_count": 95,
     "metadata": {},
     "output_type": "execute_result"
    },
    {
     "data": {
      "image/png": "[encoded data removed]",
      "text/plain": [
       "<Figure size 432x288 with 1 Axes>"
      ]
     },
     "metadata": {
      "needs_background": "light"
     },
     "output_type": "display_data"
    }
   ],
   "source": [
    "sns.boxplot('crimes_95',data=df2)"
   ]
  },
  {
   "cell_type": "code",
   "execution_count": 96,
   "id": "71364d16",
   "metadata": {},
   "outputs": [
    {
     "name": "stderr",
     "output_type": "stream",
     "text": [
      "C:\\ProgramData\\Anaconda3\\lib\\site-packages\\seaborn\\_decorators.py:36: FutureWarning: Pass the following variable as a keyword arg: x. From version 0.12, the only valid positional argument will be `data`, and passing other arguments without an explicit keyword will result in an error or misinterpretation.\n",
      "  warnings.warn(\n"
     ]
    },
    {
     "data": {
      "text/plain": [
       "<AxesSubplot:xlabel='muni_pop_2K-9.99K'>"
      ]
     },
     "execution_count": 96,
     "metadata": {},
     "output_type": "execute_result"
    },
    {
     "data": {
      "image/png": "[encoded data removed]",
      "text/plain": [
       "<Figure size 432x288 with 1 Axes>"
      ]
     },
     "metadata": {
      "needs_background": "light"
     },
     "output_type": "display_data"
    }
   ],
   "source": [
    "sns.boxplot('muni_pop_2K-9.99K',data=df2)"
   ]
  },
  {
   "cell_type": "code",
   "execution_count": 97,
   "id": "3b079a8a",
   "metadata": {},
   "outputs": [
    {
     "name": "stderr",
     "output_type": "stream",
     "text": [
      "C:\\ProgramData\\Anaconda3\\lib\\site-packages\\seaborn\\_decorators.py:36: FutureWarning: Pass the following variable as a keyword arg: x. From version 0.12, the only valid positional argument will be `data`, and passing other arguments without an explicit keyword will result in an error or misinterpretation.\n",
      "  warnings.warn(\n"
     ]
    },
    {
     "data": {
      "text/plain": [
       "<AxesSubplot:xlabel='muni_pop>10K'>"
      ]
     },
     "execution_count": 97,
     "metadata": {},
     "output_type": "execute_result"
    },
    {
     "data": {
      "image/png": "[encoded data removed]",
      "text/plain": [
       "<Figure size 432x288 with 1 Axes>"
      ]
     },
     "metadata": {
      "needs_background": "light"
     },
     "output_type": "display_data"
    }
   ],
   "source": [
    "sns.boxplot('muni_pop>10K',data=df2)"
   ]
  },
  {
   "cell_type": "code",
   "execution_count": 91,
   "id": "7abd24aa",
   "metadata": {},
   "outputs": [
    {
     "data": {
      "text/plain": [
       "Index(['client_id', 'trnx_amount', 'balance', 'trnx_type', 'order_amount',\n",
       "       'order_ksymbol', 'loan_duration', 'loan_payments', 'loan_status',\n",
       "       'dist_name', 'region', 'muni_pop<400', 'muni_pop_500-1.99K',\n",
       "       'muni_pop_2K-9.99K', 'muni_pop>10K', 'num_cities', 'urban_ratio',\n",
       "       'unemployment_rate_96', 'enterpr_p1000', 'crimes_95', 'disp_type',\n",
       "       'card_type', 'gender', 'age', 'working_class'],\n",
       "      dtype='object')"
      ]
     },
     "execution_count": 91,
     "metadata": {},
     "output_type": "execute_result"
    }
   ],
   "source": [
    "df2.columns"
   ]
  },
  {
   "cell_type": "code",
   "execution_count": 110,
   "id": "dd1ac3d2",
   "metadata": {},
   "outputs": [
    {
     "name": "stderr",
     "output_type": "stream",
     "text": [
      "C:\\ProgramData\\Anaconda3\\lib\\site-packages\\seaborn\\_decorators.py:36: FutureWarning: Pass the following variable as a keyword arg: x. From version 0.12, the only valid positional argument will be `data`, and passing other arguments without an explicit keyword will result in an error or misinterpretation.\n",
      "  warnings.warn(\n"
     ]
    },
    {
     "data": {
      "text/plain": [
       "<AxesSubplot:xlabel='age'>"
      ]
     },
     "execution_count": 110,
     "metadata": {},
     "output_type": "execute_result"
    },
    {
     "data": {
      "image/png": "[encoded data removed]",
      "text/plain": [
       "<Figure size 432x288 with 1 Axes>"
      ]
     },
     "metadata": {
      "needs_background": "light"
     },
     "output_type": "display_data"
    }
   ],
   "source": [
    "sns.boxplot('age',data=df2)"
   ]
  },
  {
   "cell_type": "code",
   "execution_count": 111,
   "id": "81e15fb7",
   "metadata": {},
   "outputs": [],
   "source": [
    "outlier_cols=df2[['trnx_amount','balance','order_amount','crimes_95','muni_pop_2K-9.99K','muni_pop>10K','crimes_95'\n",
    "                 #'unemployment_rate_96''muni_pop<400',\n",
    "                 ]]\n",
    "outlier_cols=outlier_cols.columns"
   ]
  },
  {
   "cell_type": "code",
   "execution_count": 112,
   "id": "b1fae350",
   "metadata": {},
   "outputs": [
    {
     "data": {
      "text/plain": [
       "['trnx_amount',\n",
       " 'balance',\n",
       " 'order_amount',\n",
       " 'crimes_95',\n",
       " 'muni_pop_2K-9.99K',\n",
       " 'muni_pop>10K',\n",
       " 'crimes_95']"
      ]
     },
     "metadata": {},
     "output_type": "display_data"
    }
   ],
   "source": [
    "col_names=list(outlier_cols)\n",
    "display(col_names)\n",
    "for i in col_names:\n",
    "    q1, q2, q3 = df2[i].quantile([0.25,0.5,0.75])\n",
    "    IQR = q3-q1\n",
    "    lower_cap=q1-(1.5*IQR)\n",
    "    upper_cap=q3+(1.5*IQR)\n",
    "    df2[i]=df2[i].apply(lambda x: upper_cap if x>upper_cap else lower_cap if x<lower_cap else x)"
   ]
  },
  {
   "cell_type": "code",
   "execution_count": 113,
   "id": "cf18fff5",
   "metadata": {},
   "outputs": [
    {
     "name": "stderr",
     "output_type": "stream",
     "text": [
      "C:\\ProgramData\\Anaconda3\\lib\\site-packages\\seaborn\\_decorators.py:36: FutureWarning: Pass the following variable as a keyword arg: x. From version 0.12, the only valid positional argument will be `data`, and passing other arguments without an explicit keyword will result in an error or misinterpretation.\n",
      "  warnings.warn(\n"
     ]
    },
    {
     "data": {
      "text/plain": [
       "<AxesSubplot:xlabel='trnx_amount'>"
      ]
     },
     "execution_count": 113,
     "metadata": {},
     "output_type": "execute_result"
    },
    {
     "data": {
      "image/png": "[encoded data removed]",
      "text/plain": [
       "<Figure size 432x288 with 1 Axes>"
      ]
     },
     "metadata": {
      "needs_background": "light"
     },
     "output_type": "display_data"
    }
   ],
   "source": [
    "sns.boxplot('trnx_amount',data=df2)"
   ]
  },
  {
   "cell_type": "markdown",
   "id": "7a5e8b72",
   "metadata": {},
   "source": [
    "check and Transform skewed features"
   ]
  },
  {
   "cell_type": "code",
   "execution_count": 114,
   "id": "c59a19ac",
   "metadata": {},
   "outputs": [
    {
     "data": {
      "text/plain": [
       "array([[<AxesSubplot:title={'center':'trnx_amount'}>,\n",
       "        <AxesSubplot:title={'center':'balance'}>,\n",
       "        <AxesSubplot:title={'center':'order_amount'}>,\n",
       "        <AxesSubplot:title={'center':'loan_duration'}>],\n",
       "       [<AxesSubplot:title={'center':'loan_payments'}>,\n",
       "        <AxesSubplot:title={'center':'muni_pop<400'}>,\n",
       "        <AxesSubplot:title={'center':'muni_pop_500-1.99K'}>,\n",
       "        <AxesSubplot:title={'center':'muni_pop_2K-9.99K'}>],\n",
       "       [<AxesSubplot:title={'center':'muni_pop>10K'}>,\n",
       "        <AxesSubplot:title={'center':'num_cities'}>,\n",
       "        <AxesSubplot:title={'center':'urban_ratio'}>,\n",
       "        <AxesSubplot:title={'center':'unemployment_rate_96'}>],\n",
       "       [<AxesSubplot:title={'center':'enterpr_p1000'}>,\n",
       "        <AxesSubplot:title={'center':'crimes_95'}>,\n",
       "        <AxesSubplot:title={'center':'age'}>, <AxesSubplot:>]],\n",
       "      dtype=object)"
      ]
     },
     "execution_count": 114,
     "metadata": {},
     "output_type": "execute_result"
    },
    {
     "data": {
      "image/png": "[encoded data removed]",
      "text/plain": [
       "<Figure size 432x288 with 16 Axes>"
      ]
     },
     "metadata": {
      "needs_background": "light"
     },
     "output_type": "display_data"
    }
   ],
   "source": [
    "df2.hist()"
   ]
  },
  {
   "cell_type": "code",
   "execution_count": 115,
   "id": "8cf66e71",
   "metadata": {},
   "outputs": [
    {
     "data": {
      "text/plain": [
       "client_id              -0.060707\n",
       "trnx_amount             1.178031\n",
       "balance                 0.473299\n",
       "order_amount            0.473794\n",
       "loan_duration           0.194598\n",
       "loan_payments           0.090140\n",
       "muni_pop<400            0.589950\n",
       "muni_pop_500-1.99K      0.636808\n",
       "muni_pop_2K-9.99K       0.926042\n",
       "muni_pop>10K            0.547252\n",
       "num_cities             -0.038565\n",
       "urban_ratio             0.178211\n",
       "unemployment_rate_96    0.457760\n",
       "enterpr_p1000           0.588401\n",
       "crimes_95               1.195602\n",
       "age                     0.056813\n",
       "dtype: float64"
      ]
     },
     "execution_count": 115,
     "metadata": {},
     "output_type": "execute_result"
    }
   ],
   "source": [
    "df2.skew()"
   ]
  },
  {
   "cell_type": "code",
   "execution_count": 116,
   "id": "471f6f0f",
   "metadata": {},
   "outputs": [
    {
     "data": {
      "text/plain": [
       "client_id              -0.060707\n",
       "trnx_amount             0.824208\n",
       "balance                 0.473299\n",
       "order_amount            0.473794\n",
       "loan_duration           0.194598\n",
       "loan_payments           0.090140\n",
       "muni_pop<400           -0.406865\n",
       "muni_pop_500-1.99K     -0.426701\n",
       "muni_pop_2K-9.99K      -0.275328\n",
       "muni_pop>10K           -0.365962\n",
       "num_cities             -0.038565\n",
       "urban_ratio             0.178211\n",
       "unemployment_rate_96    0.457760\n",
       "enterpr_p1000           0.426052\n",
       "crimes_95               1.747535\n",
       "age                     0.056813\n",
       "dtype: float64"
      ]
     },
     "execution_count": 116,
     "metadata": {},
     "output_type": "execute_result"
    }
   ],
   "source": [
    "skew=df2.skew()\n",
    "skew=skew[abs(skew)>0.5].index\n",
    "df2[skew]=np.sqrt(df[skew])\n",
    "df2.skew()"
   ]
  },
  {
   "cell_type": "markdown",
   "id": "1ca91313",
   "metadata": {},
   "source": [
    "### Feature Encoding and Standardization"
   ]
  },
  {
   "cell_type": "code",
   "execution_count": 117,
   "id": "e5b0726a",
   "metadata": {},
   "outputs": [
    {
     "data": {
      "text/plain": [
       "Index(['client_id', 'trnx_amount', 'balance', 'trnx_type', 'order_amount',\n",
       "       'order_ksymbol', 'loan_duration', 'loan_payments', 'loan_status',\n",
       "       'dist_name', 'region', 'muni_pop<400', 'muni_pop_500-1.99K',\n",
       "       'muni_pop_2K-9.99K', 'muni_pop>10K', 'num_cities', 'urban_ratio',\n",
       "       'unemployment_rate_96', 'enterpr_p1000', 'crimes_95', 'disp_type',\n",
       "       'card_type', 'gender', 'age', 'working_class'],\n",
       "      dtype='object')"
      ]
     },
     "execution_count": 117,
     "metadata": {},
     "output_type": "execute_result"
    }
   ],
   "source": [
    "df2.columns"
   ]
  },
  {
   "cell_type": "code",
   "execution_count": 118,
   "id": "975b6e41",
   "metadata": {},
   "outputs": [],
   "source": [
    "onehot_feat=['order_ksymbol','region','disp_type','card_type','gender','working_class']"
   ]
  },
  {
   "cell_type": "code",
   "execution_count": 119,
   "id": "202e0ba2",
   "metadata": {},
   "outputs": [],
   "source": [
    "df2.drop(['dist_name','trnx_type'], axis=1, inplace=True)"
   ]
  },
  {
   "cell_type": "markdown",
   "id": "365429de",
   "metadata": {},
   "source": [
    "Feature Encoding"
   ]
  },
  {
   "cell_type": "code",
   "execution_count": 120,
   "id": "594d57af",
   "metadata": {},
   "outputs": [
    {
     "data": {
      "text/plain": [
       "Index(['client_id', 'trnx_amount', 'balance', 'order_amount', 'loan_duration',\n",
       "       'loan_payments', 'loan_status', 'muni_pop<400', 'muni_pop_500-1.99K',\n",
       "       'muni_pop_2K-9.99K', 'muni_pop>10K', 'num_cities', 'urban_ratio',\n",
       "       'unemployment_rate_96', 'enterpr_p1000', 'crimes_95', 'age',\n",
       "       'order_ksymbol_POJISTNE', 'order_ksymbol_SIPO', 'order_ksymbol_UVER',\n",
       "       'region_central Bohemia', 'region_east Bohemia', 'region_north Bohemia',\n",
       "       'region_north Moravia', 'region_south Bohemia', 'region_south Moravia',\n",
       "       'region_west Bohemia', 'card_type_gold', 'card_type_junior',\n",
       "       'gender_male', 'working_class_professional', 'working_class_retiree',\n",
       "       'working_class_student', 'working_class_working_class'],\n",
       "      dtype='object')"
      ]
     },
     "execution_count": 120,
     "metadata": {},
     "output_type": "execute_result"
    }
   ],
   "source": [
    "#encode all non_ordinal features\n",
    "onehot_feat_encode=pd.get_dummies(df2, columns=onehot_feat, drop_first=True)\n",
    "onehot_feat_encode.columns"
   ]
  },
  {
   "cell_type": "code",
   "execution_count": 121,
   "id": "137d7d5a",
   "metadata": {},
   "outputs": [
    {
     "data": {
      "text/plain": [
       "(104904, 34)"
      ]
     },
     "execution_count": 121,
     "metadata": {},
     "output_type": "execute_result"
    }
   ],
   "source": [
    "onehot_feat_encode.shape"
   ]
  },
  {
   "cell_type": "code",
   "execution_count": 122,
   "id": "45d8ae72",
   "metadata": {},
   "outputs": [
    {
     "data": {
      "text/plain": [
       "0         4\n",
       "1         4\n",
       "2         4\n",
       "3         4\n",
       "4         4\n",
       "         ..\n",
       "104899    4\n",
       "104900    4\n",
       "104901    4\n",
       "104902    4\n",
       "104903    4\n",
       "Name: loan_status, Length: 104904, dtype: object"
      ]
     },
     "execution_count": 122,
     "metadata": {},
     "output_type": "execute_result"
    }
   ],
   "source": [
    "# loan_status is the only ordinal variable and should be encoded\n",
    "loan_status_map= {\n",
    "    'A':'4',\n",
    "    'C':'3',\n",
    "    'D':'2',\n",
    "    'B':'1'}\n",
    "onehot_feat_encode['loan_status']=onehot_feat_encode['loan_status'].map(loan_status_map)\n",
    "onehot_feat_encode['loan_status']"
   ]
  },
  {
   "cell_type": "code",
   "execution_count": 123,
   "id": "4eb05234",
   "metadata": {},
   "outputs": [
    {
     "data": {
      "text/plain": [
       "Index(['client_id', 'trnx_amount', 'balance', 'order_amount', 'loan_duration',\n",
       "       'loan_payments', 'loan_status', 'muni_pop<400', 'muni_pop_500-1.99K',\n",
       "       'muni_pop_2K-9.99K', 'muni_pop>10K', 'num_cities', 'urban_ratio',\n",
       "       'unemployment_rate_96', 'enterpr_p1000', 'crimes_95', 'age',\n",
       "       'order_ksymbol_POJISTNE', 'order_ksymbol_SIPO', 'order_ksymbol_UVER',\n",
       "       'region_central Bohemia', 'region_east Bohemia', 'region_north Bohemia',\n",
       "       'region_north Moravia', 'region_south Bohemia', 'region_south Moravia',\n",
       "       'region_west Bohemia', 'card_type_gold', 'card_type_junior',\n",
       "       'gender_male', 'working_class_professional', 'working_class_retiree',\n",
       "       'working_class_student', 'working_class_working_class'],\n",
       "      dtype='object')"
      ]
     },
     "execution_count": 123,
     "metadata": {},
     "output_type": "execute_result"
    }
   ],
   "source": [
    "onehot_feat_encode.columns"
   ]
  },
  {
   "cell_type": "markdown",
   "id": "ba696379",
   "metadata": {},
   "source": [
    "Feature Standardization"
   ]
  },
  {
   "cell_type": "markdown",
   "id": "b74c7b29",
   "metadata": {},
   "source": [
    "first condense the dataset to ensure one observation per client_id\n",
    "using 'groupby()' we can aggregate both numeric and categorical variables"
   ]
  },
  {
   "cell_type": "code",
   "execution_count": 124,
   "id": "36c9c634",
   "metadata": {},
   "outputs": [
    {
     "data": {
      "text/plain": [
       "(170, 15)"
      ]
     },
     "execution_count": 124,
     "metadata": {},
     "output_type": "execute_result"
    }
   ],
   "source": [
    "grp_numeric=onehot_feat_encode[['client_id','trnx_amount','balance','order_amount','loan_duration','loan_payments','muni_pop<400',\n",
    "       'muni_pop_500-1.99K', 'muni_pop_2K-9.99K', 'muni_pop>10K', 'num_cities',\n",
    "       'urban_ratio', 'unemployment_rate_96', 'enterpr_p1000', 'crimes_95','age']].groupby('client_id').mean()\n",
    "grp_numeric.shape"
   ]
  },
  {
   "cell_type": "code",
   "execution_count": 126,
   "id": "d4f87117",
   "metadata": {},
   "outputs": [
    {
     "data": {
      "text/plain": [
       "(170, 18)"
      ]
     },
     "execution_count": 126,
     "metadata": {},
     "output_type": "execute_result"
    }
   ],
   "source": [
    "grp_categorical=onehot_feat_encode[['client_id','loan_status', 'order_ksymbol_POJISTNE','order_ksymbol_SIPO',\n",
    "                  'order_ksymbol_UVER', 'region_central Bohemia','region_east Bohemia', 'region_north Bohemia',\n",
    "                 'region_north Moravia','region_south Bohemia', 'region_south Moravia', 'region_west Bohemia',\n",
    "                'card_type_gold','card_type_junior', 'gender_male', \n",
    "                  'working_class_professional','working_class_retiree', 'working_class_student',\n",
    "                  'working_class_working_class']].groupby('client_id').max()\n",
    "grp_categorical.shape"
   ]
  },
  {
   "cell_type": "code",
   "execution_count": 127,
   "id": "13783c8c",
   "metadata": {},
   "outputs": [
    {
     "data": {
      "text/html": [
       "<div>\n",
       "<style scoped>\n",
       "    .dataframe tbody tr th:only-of-type {\n",
       "        vertical-align: middle;\n",
       "    }\n",
       "\n",
       "    .dataframe tbody tr th {\n",
       "        vertical-align: top;\n",
       "    }\n",
       "\n",
       "    .dataframe thead th {\n",
       "        text-align: right;\n",
       "    }\n",
       "</style>\n",
       "<table border=\"1\" class=\"dataframe\">\n",
       "  <thead>\n",
       "    <tr style=\"text-align: right;\">\n",
       "      <th></th>\n",
       "      <th>trnx_amount</th>\n",
       "      <th>balance</th>\n",
       "      <th>order_amount</th>\n",
       "      <th>loan_duration</th>\n",
       "      <th>loan_payments</th>\n",
       "      <th>muni_pop&lt;400</th>\n",
       "      <th>muni_pop_500-1.99K</th>\n",
       "      <th>muni_pop_2K-9.99K</th>\n",
       "      <th>muni_pop&gt;10K</th>\n",
       "      <th>num_cities</th>\n",
       "      <th>...</th>\n",
       "      <th>region_south Bohemia</th>\n",
       "      <th>region_south Moravia</th>\n",
       "      <th>region_west Bohemia</th>\n",
       "      <th>card_type_gold</th>\n",
       "      <th>card_type_junior</th>\n",
       "      <th>gender_male</th>\n",
       "      <th>working_class_professional</th>\n",
       "      <th>working_class_retiree</th>\n",
       "      <th>working_class_student</th>\n",
       "      <th>working_class_working_class</th>\n",
       "    </tr>\n",
       "    <tr>\n",
       "      <th>client_id</th>\n",
       "      <th></th>\n",
       "      <th></th>\n",
       "      <th></th>\n",
       "      <th></th>\n",
       "      <th></th>\n",
       "      <th></th>\n",
       "      <th></th>\n",
       "      <th></th>\n",
       "      <th></th>\n",
       "      <th></th>\n",
       "      <th></th>\n",
       "      <th></th>\n",
       "      <th></th>\n",
       "      <th></th>\n",
       "      <th></th>\n",
       "      <th></th>\n",
       "      <th></th>\n",
       "      <th></th>\n",
       "      <th></th>\n",
       "      <th></th>\n",
       "      <th></th>\n",
       "    </tr>\n",
       "  </thead>\n",
       "  <tbody>\n",
       "    <tr>\n",
       "      <th>10040</th>\n",
       "      <td>91.175567</td>\n",
       "      <td>67800.306760</td>\n",
       "      <td>7399.900</td>\n",
       "      <td>24</td>\n",
       "      <td>6495</td>\n",
       "      <td>8.426150</td>\n",
       "      <td>5.099020</td>\n",
       "      <td>2.449490</td>\n",
       "      <td>1.414214</td>\n",
       "      <td>9</td>\n",
       "      <td>...</td>\n",
       "      <td>0</td>\n",
       "      <td>0</td>\n",
       "      <td>0</td>\n",
       "      <td>0</td>\n",
       "      <td>0</td>\n",
       "      <td>0</td>\n",
       "      <td>0</td>\n",
       "      <td>0</td>\n",
       "      <td>0</td>\n",
       "      <td>1</td>\n",
       "    </tr>\n",
       "    <tr>\n",
       "      <th>10043</th>\n",
       "      <td>66.198280</td>\n",
       "      <td>39671.731235</td>\n",
       "      <td>4130.000</td>\n",
       "      <td>36</td>\n",
       "      <td>2076</td>\n",
       "      <td>9.219544</td>\n",
       "      <td>4.358899</td>\n",
       "      <td>2.449490</td>\n",
       "      <td>1.000000</td>\n",
       "      <td>5</td>\n",
       "      <td>...</td>\n",
       "      <td>0</td>\n",
       "      <td>0</td>\n",
       "      <td>0</td>\n",
       "      <td>0</td>\n",
       "      <td>0</td>\n",
       "      <td>1</td>\n",
       "      <td>1</td>\n",
       "      <td>0</td>\n",
       "      <td>0</td>\n",
       "      <td>0</td>\n",
       "    </tr>\n",
       "    <tr>\n",
       "      <th>10095</th>\n",
       "      <td>92.108245</td>\n",
       "      <td>56794.026005</td>\n",
       "      <td>6695.000</td>\n",
       "      <td>12</td>\n",
       "      <td>6695</td>\n",
       "      <td>5.916080</td>\n",
       "      <td>6.000000</td>\n",
       "      <td>3.000000</td>\n",
       "      <td>0.000000</td>\n",
       "      <td>7</td>\n",
       "      <td>...</td>\n",
       "      <td>0</td>\n",
       "      <td>0</td>\n",
       "      <td>0</td>\n",
       "      <td>0</td>\n",
       "      <td>1</td>\n",
       "      <td>0</td>\n",
       "      <td>0</td>\n",
       "      <td>0</td>\n",
       "      <td>1</td>\n",
       "      <td>0</td>\n",
       "    </tr>\n",
       "    <tr>\n",
       "      <th>10198</th>\n",
       "      <td>94.017289</td>\n",
       "      <td>67685.356471</td>\n",
       "      <td>6239.200</td>\n",
       "      <td>36</td>\n",
       "      <td>6239</td>\n",
       "      <td>5.830952</td>\n",
       "      <td>3.464102</td>\n",
       "      <td>1.732051</td>\n",
       "      <td>1.000000</td>\n",
       "      <td>4</td>\n",
       "      <td>...</td>\n",
       "      <td>0</td>\n",
       "      <td>0</td>\n",
       "      <td>1</td>\n",
       "      <td>0</td>\n",
       "      <td>1</td>\n",
       "      <td>1</td>\n",
       "      <td>0</td>\n",
       "      <td>0</td>\n",
       "      <td>1</td>\n",
       "      <td>0</td>\n",
       "    </tr>\n",
       "    <tr>\n",
       "      <th>1020</th>\n",
       "      <td>89.420068</td>\n",
       "      <td>65205.346070</td>\n",
       "      <td>7795.500</td>\n",
       "      <td>24</td>\n",
       "      <td>7796</td>\n",
       "      <td>5.656854</td>\n",
       "      <td>7.071068</td>\n",
       "      <td>2.645751</td>\n",
       "      <td>2.000000</td>\n",
       "      <td>4</td>\n",
       "      <td>...</td>\n",
       "      <td>0</td>\n",
       "      <td>0</td>\n",
       "      <td>0</td>\n",
       "      <td>0</td>\n",
       "      <td>0</td>\n",
       "      <td>0</td>\n",
       "      <td>0</td>\n",
       "      <td>0</td>\n",
       "      <td>1</td>\n",
       "      <td>0</td>\n",
       "    </tr>\n",
       "    <tr>\n",
       "      <th>...</th>\n",
       "      <td>...</td>\n",
       "      <td>...</td>\n",
       "      <td>...</td>\n",
       "      <td>...</td>\n",
       "      <td>...</td>\n",
       "      <td>...</td>\n",
       "      <td>...</td>\n",
       "      <td>...</td>\n",
       "      <td>...</td>\n",
       "      <td>...</td>\n",
       "      <td>...</td>\n",
       "      <td>...</td>\n",
       "      <td>...</td>\n",
       "      <td>...</td>\n",
       "      <td>...</td>\n",
       "      <td>...</td>\n",
       "      <td>...</td>\n",
       "      <td>...</td>\n",
       "      <td>...</td>\n",
       "      <td>...</td>\n",
       "      <td>...</td>\n",
       "    </tr>\n",
       "    <tr>\n",
       "      <th>9914</th>\n",
       "      <td>75.776596</td>\n",
       "      <td>63712.722222</td>\n",
       "      <td>3563.000</td>\n",
       "      <td>36</td>\n",
       "      <td>3563</td>\n",
       "      <td>5.385165</td>\n",
       "      <td>4.358899</td>\n",
       "      <td>2.828427</td>\n",
       "      <td>1.000000</td>\n",
       "      <td>9</td>\n",
       "      <td>...</td>\n",
       "      <td>0</td>\n",
       "      <td>0</td>\n",
       "      <td>0</td>\n",
       "      <td>0</td>\n",
       "      <td>0</td>\n",
       "      <td>1</td>\n",
       "      <td>0</td>\n",
       "      <td>1</td>\n",
       "      <td>0</td>\n",
       "      <td>0</td>\n",
       "    </tr>\n",
       "    <tr>\n",
       "      <th>992</th>\n",
       "      <td>59.779413</td>\n",
       "      <td>33872.027523</td>\n",
       "      <td>6829.000</td>\n",
       "      <td>12</td>\n",
       "      <td>4423</td>\n",
       "      <td>7.071068</td>\n",
       "      <td>3.316625</td>\n",
       "      <td>1.732051</td>\n",
       "      <td>1.000000</td>\n",
       "      <td>4</td>\n",
       "      <td>...</td>\n",
       "      <td>1</td>\n",
       "      <td>0</td>\n",
       "      <td>0</td>\n",
       "      <td>0</td>\n",
       "      <td>0</td>\n",
       "      <td>1</td>\n",
       "      <td>0</td>\n",
       "      <td>0</td>\n",
       "      <td>0</td>\n",
       "      <td>0</td>\n",
       "    </tr>\n",
       "    <tr>\n",
       "      <th>9929</th>\n",
       "      <td>68.817101</td>\n",
       "      <td>55829.267857</td>\n",
       "      <td>3354.500</td>\n",
       "      <td>24</td>\n",
       "      <td>1494</td>\n",
       "      <td>9.110434</td>\n",
       "      <td>5.099020</td>\n",
       "      <td>2.236068</td>\n",
       "      <td>1.000000</td>\n",
       "      <td>6</td>\n",
       "      <td>...</td>\n",
       "      <td>0</td>\n",
       "      <td>0</td>\n",
       "      <td>0</td>\n",
       "      <td>0</td>\n",
       "      <td>0</td>\n",
       "      <td>0</td>\n",
       "      <td>1</td>\n",
       "      <td>0</td>\n",
       "      <td>0</td>\n",
       "      <td>0</td>\n",
       "    </tr>\n",
       "    <tr>\n",
       "      <th>9930</th>\n",
       "      <td>60.675794</td>\n",
       "      <td>49502.537197</td>\n",
       "      <td>2203.875</td>\n",
       "      <td>24</td>\n",
       "      <td>3900</td>\n",
       "      <td>7.810250</td>\n",
       "      <td>4.795832</td>\n",
       "      <td>2.000000</td>\n",
       "      <td>1.414214</td>\n",
       "      <td>6</td>\n",
       "      <td>...</td>\n",
       "      <td>0</td>\n",
       "      <td>0</td>\n",
       "      <td>0</td>\n",
       "      <td>0</td>\n",
       "      <td>0</td>\n",
       "      <td>1</td>\n",
       "      <td>0</td>\n",
       "      <td>0</td>\n",
       "      <td>0</td>\n",
       "      <td>1</td>\n",
       "    </tr>\n",
       "    <tr>\n",
       "      <th>9933</th>\n",
       "      <td>89.711266</td>\n",
       "      <td>61954.179299</td>\n",
       "      <td>3900.500</td>\n",
       "      <td>36</td>\n",
       "      <td>3900</td>\n",
       "      <td>0.000000</td>\n",
       "      <td>0.000000</td>\n",
       "      <td>0.000000</td>\n",
       "      <td>1.000000</td>\n",
       "      <td>1</td>\n",
       "      <td>...</td>\n",
       "      <td>0</td>\n",
       "      <td>0</td>\n",
       "      <td>0</td>\n",
       "      <td>0</td>\n",
       "      <td>0</td>\n",
       "      <td>1</td>\n",
       "      <td>0</td>\n",
       "      <td>1</td>\n",
       "      <td>0</td>\n",
       "      <td>0</td>\n",
       "    </tr>\n",
       "  </tbody>\n",
       "</table>\n",
       "<p>170 rows × 33 columns</p>\n",
       "</div>"
      ],
      "text/plain": [
       "           trnx_amount       balance  order_amount  loan_duration  \\\n",
       "client_id                                                           \n",
       "10040        91.175567  67800.306760      7399.900             24   \n",
       "10043        66.198280  39671.731235      4130.000             36   \n",
       "10095        92.108245  56794.026005      6695.000             12   \n",
       "10198        94.017289  67685.356471      6239.200             36   \n",
       "1020         89.420068  65205.346070      7795.500             24   \n",
       "...                ...           ...           ...            ...   \n",
       "9914         75.776596  63712.722222      3563.000             36   \n",
       "992          59.779413  33872.027523      6829.000             12   \n",
       "9929         68.817101  55829.267857      3354.500             24   \n",
       "9930         60.675794  49502.537197      2203.875             24   \n",
       "9933         89.711266  61954.179299      3900.500             36   \n",
       "\n",
       "           loan_payments  muni_pop<400  muni_pop_500-1.99K  muni_pop_2K-9.99K  \\\n",
       "client_id                                                                       \n",
       "10040               6495      8.426150            5.099020           2.449490   \n",
       "10043               2076      9.219544            4.358899           2.449490   \n",
       "10095               6695      5.916080            6.000000           3.000000   \n",
       "10198               6239      5.830952            3.464102           1.732051   \n",
       "1020                7796      5.656854            7.071068           2.645751   \n",
       "...                  ...           ...                 ...                ...   \n",
       "9914                3563      5.385165            4.358899           2.828427   \n",
       "992                 4423      7.071068            3.316625           1.732051   \n",
       "9929                1494      9.110434            5.099020           2.236068   \n",
       "9930                3900      7.810250            4.795832           2.000000   \n",
       "9933                3900      0.000000            0.000000           0.000000   \n",
       "\n",
       "           muni_pop>10K  num_cities  ...  region_south Bohemia  \\\n",
       "client_id                            ...                         \n",
       "10040          1.414214           9  ...                     0   \n",
       "10043          1.000000           5  ...                     0   \n",
       "10095          0.000000           7  ...                     0   \n",
       "10198          1.000000           4  ...                     0   \n",
       "1020           2.000000           4  ...                     0   \n",
       "...                 ...         ...  ...                   ...   \n",
       "9914           1.000000           9  ...                     0   \n",
       "992            1.000000           4  ...                     1   \n",
       "9929           1.000000           6  ...                     0   \n",
       "9930           1.414214           6  ...                     0   \n",
       "9933           1.000000           1  ...                     0   \n",
       "\n",
       "           region_south Moravia  region_west Bohemia  card_type_gold  \\\n",
       "client_id                                                              \n",
       "10040                         0                    0               0   \n",
       "10043                         0                    0               0   \n",
       "10095                         0                    0               0   \n",
       "10198                         0                    1               0   \n",
       "1020                          0                    0               0   \n",
       "...                         ...                  ...             ...   \n",
       "9914                          0                    0               0   \n",
       "992                           0                    0               0   \n",
       "9929                          0                    0               0   \n",
       "9930                          0                    0               0   \n",
       "9933                          0                    0               0   \n",
       "\n",
       "           card_type_junior gender_male  working_class_professional  \\\n",
       "client_id                                                             \n",
       "10040                     0           0                           0   \n",
       "10043                     0           1                           1   \n",
       "10095                     1           0                           0   \n",
       "10198                     1           1                           0   \n",
       "1020                      0           0                           0   \n",
       "...                     ...         ...                         ...   \n",
       "9914                      0           1                           0   \n",
       "992                       0           1                           0   \n",
       "9929                      0           0                           1   \n",
       "9930                      0           1                           0   \n",
       "9933                      0           1                           0   \n",
       "\n",
       "           working_class_retiree  working_class_student  \\\n",
       "client_id                                                 \n",
       "10040                          0                      0   \n",
       "10043                          0                      0   \n",
       "10095                          0                      1   \n",
       "10198                          0                      1   \n",
       "1020                           0                      1   \n",
       "...                          ...                    ...   \n",
       "9914                           1                      0   \n",
       "992                            0                      0   \n",
       "9929                           0                      0   \n",
       "9930                           0                      0   \n",
       "9933                           1                      0   \n",
       "\n",
       "           working_class_working_class  \n",
       "client_id                               \n",
       "10040                                1  \n",
       "10043                                0  \n",
       "10095                                0  \n",
       "10198                                0  \n",
       "1020                                 0  \n",
       "...                                ...  \n",
       "9914                                 0  \n",
       "992                                  0  \n",
       "9929                                 0  \n",
       "9930                                 1  \n",
       "9933                                 0  \n",
       "\n",
       "[170 rows x 33 columns]"
      ]
     },
     "execution_count": 127,
     "metadata": {},
     "output_type": "execute_result"
    }
   ],
   "source": [
    "# concatenate both num and categ dataframe to reconstitute the newly formed consdensed dataset\n",
    "df4=pd.concat([grp_numeric, grp_categorical], axis=1)\n",
    "df4"
   ]
  },
  {
   "cell_type": "markdown",
   "id": "a3afcd9a",
   "metadata": {},
   "source": [
    "we are now ready for standardize our dataset using MinMaxScaler"
   ]
  },
  {
   "cell_type": "code",
   "execution_count": 128,
   "id": "fe66628b",
   "metadata": {},
   "outputs": [],
   "source": [
    "df3=df4.copy()"
   ]
  },
  {
   "cell_type": "code",
   "execution_count": 129,
   "id": "dfc36b46",
   "metadata": {},
   "outputs": [
    {
     "data": {
      "text/html": [
       "<div>\n",
       "<style scoped>\n",
       "    .dataframe tbody tr th:only-of-type {\n",
       "        vertical-align: middle;\n",
       "    }\n",
       "\n",
       "    .dataframe tbody tr th {\n",
       "        vertical-align: top;\n",
       "    }\n",
       "\n",
       "    .dataframe thead th {\n",
       "        text-align: right;\n",
       "    }\n",
       "</style>\n",
       "<table border=\"1\" class=\"dataframe\">\n",
       "  <thead>\n",
       "    <tr style=\"text-align: right;\">\n",
       "      <th></th>\n",
       "      <th>trnx_amount</th>\n",
       "      <th>balance</th>\n",
       "      <th>order_amount</th>\n",
       "      <th>loan_duration</th>\n",
       "      <th>loan_payments</th>\n",
       "      <th>muni_pop&lt;400</th>\n",
       "      <th>muni_pop_500-1.99K</th>\n",
       "      <th>muni_pop_2K-9.99K</th>\n",
       "      <th>muni_pop&gt;10K</th>\n",
       "      <th>num_cities</th>\n",
       "      <th>...</th>\n",
       "      <th>region_south Bohemia</th>\n",
       "      <th>region_south Moravia</th>\n",
       "      <th>region_west Bohemia</th>\n",
       "      <th>card_type_gold</th>\n",
       "      <th>card_type_junior</th>\n",
       "      <th>gender_male</th>\n",
       "      <th>working_class_professional</th>\n",
       "      <th>working_class_retiree</th>\n",
       "      <th>working_class_student</th>\n",
       "      <th>working_class_working_class</th>\n",
       "    </tr>\n",
       "    <tr>\n",
       "      <th>client_id</th>\n",
       "      <th></th>\n",
       "      <th></th>\n",
       "      <th></th>\n",
       "      <th></th>\n",
       "      <th></th>\n",
       "      <th></th>\n",
       "      <th></th>\n",
       "      <th></th>\n",
       "      <th></th>\n",
       "      <th></th>\n",
       "      <th></th>\n",
       "      <th></th>\n",
       "      <th></th>\n",
       "      <th></th>\n",
       "      <th></th>\n",
       "      <th></th>\n",
       "      <th></th>\n",
       "      <th></th>\n",
       "      <th></th>\n",
       "      <th></th>\n",
       "      <th></th>\n",
       "    </tr>\n",
       "  </thead>\n",
       "  <tbody>\n",
       "    <tr>\n",
       "      <th>10040</th>\n",
       "      <td>0.694486</td>\n",
       "      <td>0.825594</td>\n",
       "      <td>0.760851</td>\n",
       "      <td>0.25</td>\n",
       "      <td>0.644197</td>\n",
       "      <td>0.685710</td>\n",
       "      <td>0.609449</td>\n",
       "      <td>0.547723</td>\n",
       "      <td>0.632456</td>\n",
       "      <td>0.8</td>\n",
       "      <td>...</td>\n",
       "      <td>0.0</td>\n",
       "      <td>0.0</td>\n",
       "      <td>0.0</td>\n",
       "      <td>0.0</td>\n",
       "      <td>0.0</td>\n",
       "      <td>0.0</td>\n",
       "      <td>0.0</td>\n",
       "      <td>0.0</td>\n",
       "      <td>0.0</td>\n",
       "      <td>1.0</td>\n",
       "    </tr>\n",
       "    <tr>\n",
       "      <th>10043</th>\n",
       "      <td>0.327664</td>\n",
       "      <td>0.230870</td>\n",
       "      <td>0.409844</td>\n",
       "      <td>0.50</td>\n",
       "      <td>0.183788</td>\n",
       "      <td>0.750276</td>\n",
       "      <td>0.520988</td>\n",
       "      <td>0.547723</td>\n",
       "      <td>0.447214</td>\n",
       "      <td>0.4</td>\n",
       "      <td>...</td>\n",
       "      <td>0.0</td>\n",
       "      <td>0.0</td>\n",
       "      <td>0.0</td>\n",
       "      <td>0.0</td>\n",
       "      <td>0.0</td>\n",
       "      <td>1.0</td>\n",
       "      <td>1.0</td>\n",
       "      <td>0.0</td>\n",
       "      <td>0.0</td>\n",
       "      <td>0.0</td>\n",
       "    </tr>\n",
       "    <tr>\n",
       "      <th>10095</th>\n",
       "      <td>0.708183</td>\n",
       "      <td>0.592887</td>\n",
       "      <td>0.685184</td>\n",
       "      <td>0.00</td>\n",
       "      <td>0.665034</td>\n",
       "      <td>0.481444</td>\n",
       "      <td>0.717137</td>\n",
       "      <td>0.670820</td>\n",
       "      <td>0.000000</td>\n",
       "      <td>0.6</td>\n",
       "      <td>...</td>\n",
       "      <td>0.0</td>\n",
       "      <td>0.0</td>\n",
       "      <td>0.0</td>\n",
       "      <td>0.0</td>\n",
       "      <td>1.0</td>\n",
       "      <td>0.0</td>\n",
       "      <td>0.0</td>\n",
       "      <td>0.0</td>\n",
       "      <td>1.0</td>\n",
       "      <td>0.0</td>\n",
       "    </tr>\n",
       "    <tr>\n",
       "      <th>10198</th>\n",
       "      <td>0.736220</td>\n",
       "      <td>0.823164</td>\n",
       "      <td>0.636256</td>\n",
       "      <td>0.50</td>\n",
       "      <td>0.617524</td>\n",
       "      <td>0.474516</td>\n",
       "      <td>0.414039</td>\n",
       "      <td>0.387298</td>\n",
       "      <td>0.447214</td>\n",
       "      <td>0.3</td>\n",
       "      <td>...</td>\n",
       "      <td>0.0</td>\n",
       "      <td>0.0</td>\n",
       "      <td>1.0</td>\n",
       "      <td>0.0</td>\n",
       "      <td>1.0</td>\n",
       "      <td>1.0</td>\n",
       "      <td>0.0</td>\n",
       "      <td>0.0</td>\n",
       "      <td>1.0</td>\n",
       "      <td>0.0</td>\n",
       "    </tr>\n",
       "    <tr>\n",
       "      <th>1020</th>\n",
       "      <td>0.668704</td>\n",
       "      <td>0.770729</td>\n",
       "      <td>0.803317</td>\n",
       "      <td>0.25</td>\n",
       "      <td>0.779746</td>\n",
       "      <td>0.460348</td>\n",
       "      <td>0.845154</td>\n",
       "      <td>0.591608</td>\n",
       "      <td>0.894427</td>\n",
       "      <td>0.3</td>\n",
       "      <td>...</td>\n",
       "      <td>0.0</td>\n",
       "      <td>0.0</td>\n",
       "      <td>0.0</td>\n",
       "      <td>0.0</td>\n",
       "      <td>0.0</td>\n",
       "      <td>0.0</td>\n",
       "      <td>0.0</td>\n",
       "      <td>0.0</td>\n",
       "      <td>1.0</td>\n",
       "      <td>0.0</td>\n",
       "    </tr>\n",
       "    <tr>\n",
       "      <th>...</th>\n",
       "      <td>...</td>\n",
       "      <td>...</td>\n",
       "      <td>...</td>\n",
       "      <td>...</td>\n",
       "      <td>...</td>\n",
       "      <td>...</td>\n",
       "      <td>...</td>\n",
       "      <td>...</td>\n",
       "      <td>...</td>\n",
       "      <td>...</td>\n",
       "      <td>...</td>\n",
       "      <td>...</td>\n",
       "      <td>...</td>\n",
       "      <td>...</td>\n",
       "      <td>...</td>\n",
       "      <td>...</td>\n",
       "      <td>...</td>\n",
       "      <td>...</td>\n",
       "      <td>...</td>\n",
       "      <td>...</td>\n",
       "      <td>...</td>\n",
       "    </tr>\n",
       "    <tr>\n",
       "      <th>9914</th>\n",
       "      <td>0.468333</td>\n",
       "      <td>0.739170</td>\n",
       "      <td>0.348979</td>\n",
       "      <td>0.50</td>\n",
       "      <td>0.338716</td>\n",
       "      <td>0.438238</td>\n",
       "      <td>0.520988</td>\n",
       "      <td>0.632456</td>\n",
       "      <td>0.447214</td>\n",
       "      <td>0.8</td>\n",
       "      <td>...</td>\n",
       "      <td>0.0</td>\n",
       "      <td>0.0</td>\n",
       "      <td>0.0</td>\n",
       "      <td>0.0</td>\n",
       "      <td>0.0</td>\n",
       "      <td>1.0</td>\n",
       "      <td>0.0</td>\n",
       "      <td>1.0</td>\n",
       "      <td>0.0</td>\n",
       "      <td>0.0</td>\n",
       "    </tr>\n",
       "    <tr>\n",
       "      <th>992</th>\n",
       "      <td>0.233396</td>\n",
       "      <td>0.108246</td>\n",
       "      <td>0.699568</td>\n",
       "      <td>0.00</td>\n",
       "      <td>0.428318</td>\n",
       "      <td>0.575435</td>\n",
       "      <td>0.396412</td>\n",
       "      <td>0.387298</td>\n",
       "      <td>0.447214</td>\n",
       "      <td>0.3</td>\n",
       "      <td>...</td>\n",
       "      <td>1.0</td>\n",
       "      <td>0.0</td>\n",
       "      <td>0.0</td>\n",
       "      <td>0.0</td>\n",
       "      <td>0.0</td>\n",
       "      <td>1.0</td>\n",
       "      <td>0.0</td>\n",
       "      <td>0.0</td>\n",
       "      <td>0.0</td>\n",
       "      <td>0.0</td>\n",
       "    </tr>\n",
       "    <tr>\n",
       "      <th>9929</th>\n",
       "      <td>0.366125</td>\n",
       "      <td>0.572489</td>\n",
       "      <td>0.326597</td>\n",
       "      <td>0.25</td>\n",
       "      <td>0.123151</td>\n",
       "      <td>0.741397</td>\n",
       "      <td>0.609449</td>\n",
       "      <td>0.500000</td>\n",
       "      <td>0.447214</td>\n",
       "      <td>0.5</td>\n",
       "      <td>...</td>\n",
       "      <td>0.0</td>\n",
       "      <td>0.0</td>\n",
       "      <td>0.0</td>\n",
       "      <td>0.0</td>\n",
       "      <td>0.0</td>\n",
       "      <td>0.0</td>\n",
       "      <td>1.0</td>\n",
       "      <td>0.0</td>\n",
       "      <td>0.0</td>\n",
       "      <td>0.0</td>\n",
       "    </tr>\n",
       "    <tr>\n",
       "      <th>9930</th>\n",
       "      <td>0.246560</td>\n",
       "      <td>0.438723</td>\n",
       "      <td>0.203083</td>\n",
       "      <td>0.25</td>\n",
       "      <td>0.373828</td>\n",
       "      <td>0.635589</td>\n",
       "      <td>0.573212</td>\n",
       "      <td>0.447214</td>\n",
       "      <td>0.632456</td>\n",
       "      <td>0.5</td>\n",
       "      <td>...</td>\n",
       "      <td>0.0</td>\n",
       "      <td>0.0</td>\n",
       "      <td>0.0</td>\n",
       "      <td>0.0</td>\n",
       "      <td>0.0</td>\n",
       "      <td>1.0</td>\n",
       "      <td>0.0</td>\n",
       "      <td>0.0</td>\n",
       "      <td>0.0</td>\n",
       "      <td>1.0</td>\n",
       "    </tr>\n",
       "    <tr>\n",
       "      <th>9933</th>\n",
       "      <td>0.672981</td>\n",
       "      <td>0.701989</td>\n",
       "      <td>0.385208</td>\n",
       "      <td>0.50</td>\n",
       "      <td>0.373828</td>\n",
       "      <td>0.000000</td>\n",
       "      <td>0.000000</td>\n",
       "      <td>0.000000</td>\n",
       "      <td>0.447214</td>\n",
       "      <td>0.0</td>\n",
       "      <td>...</td>\n",
       "      <td>0.0</td>\n",
       "      <td>0.0</td>\n",
       "      <td>0.0</td>\n",
       "      <td>0.0</td>\n",
       "      <td>0.0</td>\n",
       "      <td>1.0</td>\n",
       "      <td>0.0</td>\n",
       "      <td>1.0</td>\n",
       "      <td>0.0</td>\n",
       "      <td>0.0</td>\n",
       "    </tr>\n",
       "  </tbody>\n",
       "</table>\n",
       "<p>170 rows × 33 columns</p>\n",
       "</div>"
      ],
      "text/plain": [
       "           trnx_amount   balance  order_amount  loan_duration  loan_payments  \\\n",
       "client_id                                                                      \n",
       "10040         0.694486  0.825594      0.760851           0.25       0.644197   \n",
       "10043         0.327664  0.230870      0.409844           0.50       0.183788   \n",
       "10095         0.708183  0.592887      0.685184           0.00       0.665034   \n",
       "10198         0.736220  0.823164      0.636256           0.50       0.617524   \n",
       "1020          0.668704  0.770729      0.803317           0.25       0.779746   \n",
       "...                ...       ...           ...            ...            ...   \n",
       "9914          0.468333  0.739170      0.348979           0.50       0.338716   \n",
       "992           0.233396  0.108246      0.699568           0.00       0.428318   \n",
       "9929          0.366125  0.572489      0.326597           0.25       0.123151   \n",
       "9930          0.246560  0.438723      0.203083           0.25       0.373828   \n",
       "9933          0.672981  0.701989      0.385208           0.50       0.373828   \n",
       "\n",
       "           muni_pop<400  muni_pop_500-1.99K  muni_pop_2K-9.99K  muni_pop>10K  \\\n",
       "client_id                                                                      \n",
       "10040          0.685710            0.609449           0.547723      0.632456   \n",
       "10043          0.750276            0.520988           0.547723      0.447214   \n",
       "10095          0.481444            0.717137           0.670820      0.000000   \n",
       "10198          0.474516            0.414039           0.387298      0.447214   \n",
       "1020           0.460348            0.845154           0.591608      0.894427   \n",
       "...                 ...                 ...                ...           ...   \n",
       "9914           0.438238            0.520988           0.632456      0.447214   \n",
       "992            0.575435            0.396412           0.387298      0.447214   \n",
       "9929           0.741397            0.609449           0.500000      0.447214   \n",
       "9930           0.635589            0.573212           0.447214      0.632456   \n",
       "9933           0.000000            0.000000           0.000000      0.447214   \n",
       "\n",
       "           num_cities  ...  region_south Bohemia  region_south Moravia  \\\n",
       "client_id              ...                                               \n",
       "10040             0.8  ...                   0.0                   0.0   \n",
       "10043             0.4  ...                   0.0                   0.0   \n",
       "10095             0.6  ...                   0.0                   0.0   \n",
       "10198             0.3  ...                   0.0                   0.0   \n",
       "1020              0.3  ...                   0.0                   0.0   \n",
       "...               ...  ...                   ...                   ...   \n",
       "9914              0.8  ...                   0.0                   0.0   \n",
       "992               0.3  ...                   1.0                   0.0   \n",
       "9929              0.5  ...                   0.0                   0.0   \n",
       "9930              0.5  ...                   0.0                   0.0   \n",
       "9933              0.0  ...                   0.0                   0.0   \n",
       "\n",
       "           region_west Bohemia  card_type_gold  card_type_junior  gender_male  \\\n",
       "client_id                                                                       \n",
       "10040                      0.0             0.0               0.0          0.0   \n",
       "10043                      0.0             0.0               0.0          1.0   \n",
       "10095                      0.0             0.0               1.0          0.0   \n",
       "10198                      1.0             0.0               1.0          1.0   \n",
       "1020                       0.0             0.0               0.0          0.0   \n",
       "...                        ...             ...               ...          ...   \n",
       "9914                       0.0             0.0               0.0          1.0   \n",
       "992                        0.0             0.0               0.0          1.0   \n",
       "9929                       0.0             0.0               0.0          0.0   \n",
       "9930                       0.0             0.0               0.0          1.0   \n",
       "9933                       0.0             0.0               0.0          1.0   \n",
       "\n",
       "           working_class_professional  working_class_retiree  \\\n",
       "client_id                                                      \n",
       "10040                             0.0                    0.0   \n",
       "10043                             1.0                    0.0   \n",
       "10095                             0.0                    0.0   \n",
       "10198                             0.0                    0.0   \n",
       "1020                              0.0                    0.0   \n",
       "...                               ...                    ...   \n",
       "9914                              0.0                    1.0   \n",
       "992                               0.0                    0.0   \n",
       "9929                              1.0                    0.0   \n",
       "9930                              0.0                    0.0   \n",
       "9933                              0.0                    1.0   \n",
       "\n",
       "           working_class_student  working_class_working_class  \n",
       "client_id                                                      \n",
       "10040                        0.0                          1.0  \n",
       "10043                        0.0                          0.0  \n",
       "10095                        1.0                          0.0  \n",
       "10198                        1.0                          0.0  \n",
       "1020                         1.0                          0.0  \n",
       "...                          ...                          ...  \n",
       "9914                         0.0                          0.0  \n",
       "992                          0.0                          0.0  \n",
       "9929                         0.0                          0.0  \n",
       "9930                         0.0                          1.0  \n",
       "9933                         0.0                          0.0  \n",
       "\n",
       "[170 rows x 33 columns]"
      ]
     },
     "execution_count": 129,
     "metadata": {},
     "output_type": "execute_result"
    }
   ],
   "source": [
    "from sklearn.preprocessing import MinMaxScaler\n",
    "ms = MinMaxScaler()\n",
    "for col in df3.columns:\n",
    "    df3[col]=ms.fit_transform(df3[[col]])\n",
    "\n",
    "df3"
   ]
  },
  {
   "cell_type": "markdown",
   "id": "5a3fcf4d",
   "metadata": {},
   "source": []
  },
  {
   "cell_type": "code",
   "execution_count": 130,
   "id": "e8b60a7a",
   "metadata": {},
   "outputs": [],
   "source": [
    "from sklearn.cluster import KMeans\n",
    "from sklearn.metrics import silhouette_score"
   ]
  },
  {
   "cell_type": "code",
   "execution_count": 131,
   "id": "f13945f4",
   "metadata": {},
   "outputs": [
    {
     "name": "stderr",
     "output_type": "stream",
     "text": [
      "C:\\ProgramData\\Anaconda3\\lib\\site-packages\\sklearn\\cluster\\_kmeans.py:881: UserWarning: KMeans is known to have a memory leak on Windows with MKL, when there are less chunks than available threads. You can avoid it by setting the environment variable OMP_NUM_THREADS=1.\n",
      "  warnings.warn(\n"
     ]
    }
   ],
   "source": [
    "sse = []\n",
    "cluster= []\n",
    "for k in range(1,11):\n",
    "    kmeans=KMeans(n_clusters=k, init='k-means++', n_init=10, max_iter=300, random_state=0) \n",
    "    kmeans.fit(df3)\n",
    "    sse.append(kmeans.inertia_)\n",
    "    cluster.append(kmeans)"
   ]
  },
  {
   "cell_type": "code",
   "execution_count": 132,
   "id": "85b228d1",
   "metadata": {},
   "outputs": [
    {
     "data": {
      "image/png": "[encoded data removed]",
      "text/plain": [
       "<Figure size 432x288 with 1 Axes>"
      ]
     },
     "metadata": {},
     "output_type": "display_data"
    }
   ],
   "source": [
    "plt.style.use(\"fivethirtyeight\")\n",
    "plt.plot(range(1, 11), sse)\n",
    "plt.xticks(range(1, 11))\n",
    "plt.xlabel(\"Number of Clusters\")\n",
    "plt.ylabel(\"SSE\")\n",
    "plt.show()"
   ]
  },
  {
   "cell_type": "code",
   "execution_count": 133,
   "id": "9ab05a7d",
   "metadata": {},
   "outputs": [],
   "source": [
    "from kneed import KneeLocator"
   ]
  },
  {
   "cell_type": "code",
   "execution_count": 134,
   "id": "aa75f659",
   "metadata": {},
   "outputs": [
    {
     "data": {
      "text/plain": [
       "5"
      ]
     },
     "execution_count": 134,
     "metadata": {},
     "output_type": "execute_result"
    }
   ],
   "source": [
    "kl = KneeLocator(\n",
    "range(1, 11), sse, curve=\"convex\", direction=\"decreasing\")\n",
    "\n",
    "kl.elbow"
   ]
  },
  {
   "cell_type": "code",
   "execution_count": 135,
   "id": "1aad668f",
   "metadata": {},
   "outputs": [
    {
     "name": "stdout",
     "output_type": "stream",
     "text": [
      "---------------------------------------\n",
      "KMeans(n_clusters=2, random_state=0)\n",
      "Silhouette score: 0.13498212212175614\n",
      "---------------------------------------\n",
      "KMeans(n_clusters=3, random_state=0)\n",
      "Silhouette score: 0.10330131392077642\n",
      "---------------------------------------\n",
      "KMeans(n_clusters=4, random_state=0)\n",
      "Silhouette score: 0.1088623906796024\n",
      "---------------------------------------\n",
      "KMeans(n_clusters=5, random_state=0)\n",
      "Silhouette score: 0.12387806928036499\n",
      "---------------------------------------\n",
      "KMeans(n_clusters=6, random_state=0)\n",
      "Silhouette score: 0.10446336798481447\n",
      "---------------------------------------\n",
      "KMeans(n_clusters=7, random_state=0)\n",
      "Silhouette score: 0.12803999112163647\n",
      "---------------------------------------\n",
      "KMeans(random_state=0)\n",
      "Silhouette score: 0.13794512288044503\n",
      "---------------------------------------\n",
      "KMeans(n_clusters=9, random_state=0)\n",
      "Silhouette score: 0.13915325118429875\n",
      "---------------------------------------\n",
      "KMeans(n_clusters=10, random_state=0)\n",
      "Silhouette score: 0.16408141684932265\n"
     ]
    }
   ],
   "source": [
    "for i in range(1,10):\n",
    "    \n",
    "    print(\"---------------------------------------\")\n",
    "    print(cluster[i])\n",
    "    print(\"Silhouette score:\",silhouette_score(df3, cluster[i].predict(df3)))"
   ]
  },
  {
   "cell_type": "code",
   "execution_count": 136,
   "id": "35b39def",
   "metadata": {},
   "outputs": [
    {
     "data": {
      "text/plain": [
       "array([1, 1, 0, 0, 2, 3, 1, 4, 4, 1, 1, 1, 4, 4, 3, 4, 3, 1, 2, 2, 0, 4,\n",
       "       4, 1, 4, 1, 0, 3, 2, 4, 4, 2, 1, 4, 4, 3, 1, 1, 2, 4, 4, 0, 2, 0,\n",
       "       3, 1, 1, 1, 4, 3, 2, 4, 2, 3, 0, 1, 4, 4, 2, 2, 1, 1, 4, 3, 3, 1,\n",
       "       4, 2, 2, 2, 3, 1, 1, 4, 1, 2, 4, 4, 1, 0, 1, 1, 1, 2, 2, 1, 1, 2,\n",
       "       1, 2, 0, 2, 1, 3, 1, 3, 3, 4, 2, 1, 2, 1, 4, 4, 0, 2, 1, 1, 3, 2,\n",
       "       4, 3, 0, 4, 4, 3, 3, 2, 3, 1, 3, 1, 4, 0, 1, 1, 4, 0, 3, 1, 1, 4,\n",
       "       0, 2, 1, 1, 4, 3, 2, 0, 4, 2, 3, 1, 3, 1, 0, 4, 1, 4, 0, 3, 2, 4,\n",
       "       0, 3, 4, 4, 1, 2, 4, 4, 1, 1, 1, 4, 1, 1, 1, 3])"
      ]
     },
     "execution_count": 136,
     "metadata": {},
     "output_type": "execute_result"
    }
   ],
   "source": [
    "k_means= KMeans(n_clusters=5, init='k-means++', n_init=10, max_iter=300, random_state=0)\n",
    "y=k_means.fit_predict(df3)\n",
    "y"
   ]
  },
  {
   "cell_type": "code",
   "execution_count": 137,
   "id": "7813228e",
   "metadata": {},
   "outputs": [
    {
     "name": "stdout",
     "output_type": "stream",
     "text": [
      " The lowest SSE value is: 392.3879653361017\n",
      " The final locations of the centroids are: [[ 5.85613563e-01  5.69348752e-01  5.68770481e-01  5.97222222e-01\n",
      "   5.76132759e-01  4.78728490e-01  5.46231382e-01  4.75109448e-01\n",
      "   5.56704202e-01  4.94444444e-01  4.30348259e-01  4.34596804e-01\n",
      "   4.32950043e-01  1.80920899e-01  5.06172840e-02  7.22222222e-01\n",
      "   1.11111111e-01  7.22222222e-01  0.00000000e+00  3.33333333e-01\n",
      "   1.66666667e-01  1.11111111e-01  2.22222222e-01  5.55555556e-02\n",
      "   0.00000000e+00  1.11111111e-01 -2.77555756e-17  8.33333333e-01\n",
      "   5.00000000e-01 -5.55111512e-17  0.00000000e+00  1.00000000e+00\n",
      "   5.55111512e-17]]\n",
      " The number of iterations to converse is: 11\n",
      " Cluster Labels: [1 1 0 0 2]\n"
     ]
    }
   ],
   "source": [
    "print(f\" The lowest SSE value is: {k_means.inertia_}\")\n",
    "print(f\" The final locations of the centroids are: {k_means.cluster_centers_[:1]}\")\n",
    "print(f\" The number of iterations to converse is: {k_means.n_iter_}\")\n",
    "print(f\" Cluster Labels: {k_means.labels_[:5]}\")"
   ]
  },
  {
   "cell_type": "code",
   "execution_count": 139,
   "id": "55c6f2b0",
   "metadata": {},
   "outputs": [
    {
     "data": {
      "text/html": [
       "<div>\n",
       "<style scoped>\n",
       "    .dataframe tbody tr th:only-of-type {\n",
       "        vertical-align: middle;\n",
       "    }\n",
       "\n",
       "    .dataframe tbody tr th {\n",
       "        vertical-align: top;\n",
       "    }\n",
       "\n",
       "    .dataframe thead th {\n",
       "        text-align: right;\n",
       "    }\n",
       "</style>\n",
       "<table border=\"1\" class=\"dataframe\">\n",
       "  <thead>\n",
       "    <tr style=\"text-align: right;\">\n",
       "      <th></th>\n",
       "      <th>client_id</th>\n",
       "      <th>trnx_amount</th>\n",
       "      <th>balance</th>\n",
       "      <th>order_amount</th>\n",
       "      <th>loan_duration</th>\n",
       "      <th>loan_payments</th>\n",
       "      <th>muni_pop&lt;400</th>\n",
       "      <th>muni_pop_500-1.99K</th>\n",
       "      <th>muni_pop_2K-9.99K</th>\n",
       "      <th>muni_pop&gt;10K</th>\n",
       "      <th>...</th>\n",
       "      <th>region_south Moravia</th>\n",
       "      <th>region_west Bohemia</th>\n",
       "      <th>card_type_gold</th>\n",
       "      <th>card_type_junior</th>\n",
       "      <th>gender_male</th>\n",
       "      <th>working_class_professional</th>\n",
       "      <th>working_class_retiree</th>\n",
       "      <th>working_class_student</th>\n",
       "      <th>working_class_working_class</th>\n",
       "      <th>cluster_group</th>\n",
       "    </tr>\n",
       "  </thead>\n",
       "  <tbody>\n",
       "    <tr>\n",
       "      <th>0</th>\n",
       "      <td>10040</td>\n",
       "      <td>91.175567</td>\n",
       "      <td>67800.306760</td>\n",
       "      <td>7399.900</td>\n",
       "      <td>24</td>\n",
       "      <td>6495</td>\n",
       "      <td>8.426150</td>\n",
       "      <td>5.099020</td>\n",
       "      <td>2.449490</td>\n",
       "      <td>1.414214</td>\n",
       "      <td>...</td>\n",
       "      <td>0</td>\n",
       "      <td>0</td>\n",
       "      <td>0</td>\n",
       "      <td>0</td>\n",
       "      <td>0</td>\n",
       "      <td>0</td>\n",
       "      <td>0</td>\n",
       "      <td>0</td>\n",
       "      <td>1</td>\n",
       "      <td>1</td>\n",
       "    </tr>\n",
       "    <tr>\n",
       "      <th>1</th>\n",
       "      <td>10043</td>\n",
       "      <td>66.198280</td>\n",
       "      <td>39671.731235</td>\n",
       "      <td>4130.000</td>\n",
       "      <td>36</td>\n",
       "      <td>2076</td>\n",
       "      <td>9.219544</td>\n",
       "      <td>4.358899</td>\n",
       "      <td>2.449490</td>\n",
       "      <td>1.000000</td>\n",
       "      <td>...</td>\n",
       "      <td>0</td>\n",
       "      <td>0</td>\n",
       "      <td>0</td>\n",
       "      <td>0</td>\n",
       "      <td>1</td>\n",
       "      <td>1</td>\n",
       "      <td>0</td>\n",
       "      <td>0</td>\n",
       "      <td>0</td>\n",
       "      <td>1</td>\n",
       "    </tr>\n",
       "    <tr>\n",
       "      <th>2</th>\n",
       "      <td>10095</td>\n",
       "      <td>92.108245</td>\n",
       "      <td>56794.026005</td>\n",
       "      <td>6695.000</td>\n",
       "      <td>12</td>\n",
       "      <td>6695</td>\n",
       "      <td>5.916080</td>\n",
       "      <td>6.000000</td>\n",
       "      <td>3.000000</td>\n",
       "      <td>0.000000</td>\n",
       "      <td>...</td>\n",
       "      <td>0</td>\n",
       "      <td>0</td>\n",
       "      <td>0</td>\n",
       "      <td>1</td>\n",
       "      <td>0</td>\n",
       "      <td>0</td>\n",
       "      <td>0</td>\n",
       "      <td>1</td>\n",
       "      <td>0</td>\n",
       "      <td>0</td>\n",
       "    </tr>\n",
       "    <tr>\n",
       "      <th>3</th>\n",
       "      <td>10198</td>\n",
       "      <td>94.017289</td>\n",
       "      <td>67685.356471</td>\n",
       "      <td>6239.200</td>\n",
       "      <td>36</td>\n",
       "      <td>6239</td>\n",
       "      <td>5.830952</td>\n",
       "      <td>3.464102</td>\n",
       "      <td>1.732051</td>\n",
       "      <td>1.000000</td>\n",
       "      <td>...</td>\n",
       "      <td>0</td>\n",
       "      <td>1</td>\n",
       "      <td>0</td>\n",
       "      <td>1</td>\n",
       "      <td>1</td>\n",
       "      <td>0</td>\n",
       "      <td>0</td>\n",
       "      <td>1</td>\n",
       "      <td>0</td>\n",
       "      <td>0</td>\n",
       "    </tr>\n",
       "    <tr>\n",
       "      <th>4</th>\n",
       "      <td>1020</td>\n",
       "      <td>89.420068</td>\n",
       "      <td>65205.346070</td>\n",
       "      <td>7795.500</td>\n",
       "      <td>24</td>\n",
       "      <td>7796</td>\n",
       "      <td>5.656854</td>\n",
       "      <td>7.071068</td>\n",
       "      <td>2.645751</td>\n",
       "      <td>2.000000</td>\n",
       "      <td>...</td>\n",
       "      <td>0</td>\n",
       "      <td>0</td>\n",
       "      <td>0</td>\n",
       "      <td>0</td>\n",
       "      <td>0</td>\n",
       "      <td>0</td>\n",
       "      <td>0</td>\n",
       "      <td>1</td>\n",
       "      <td>0</td>\n",
       "      <td>2</td>\n",
       "    </tr>\n",
       "    <tr>\n",
       "      <th>...</th>\n",
       "      <td>...</td>\n",
       "      <td>...</td>\n",
       "      <td>...</td>\n",
       "      <td>...</td>\n",
       "      <td>...</td>\n",
       "      <td>...</td>\n",
       "      <td>...</td>\n",
       "      <td>...</td>\n",
       "      <td>...</td>\n",
       "      <td>...</td>\n",
       "      <td>...</td>\n",
       "      <td>...</td>\n",
       "      <td>...</td>\n",
       "      <td>...</td>\n",
       "      <td>...</td>\n",
       "      <td>...</td>\n",
       "      <td>...</td>\n",
       "      <td>...</td>\n",
       "      <td>...</td>\n",
       "      <td>...</td>\n",
       "      <td>...</td>\n",
       "    </tr>\n",
       "    <tr>\n",
       "      <th>165</th>\n",
       "      <td>9914</td>\n",
       "      <td>75.776596</td>\n",
       "      <td>63712.722222</td>\n",
       "      <td>3563.000</td>\n",
       "      <td>36</td>\n",
       "      <td>3563</td>\n",
       "      <td>5.385165</td>\n",
       "      <td>4.358899</td>\n",
       "      <td>2.828427</td>\n",
       "      <td>1.000000</td>\n",
       "      <td>...</td>\n",
       "      <td>0</td>\n",
       "      <td>0</td>\n",
       "      <td>0</td>\n",
       "      <td>0</td>\n",
       "      <td>1</td>\n",
       "      <td>0</td>\n",
       "      <td>1</td>\n",
       "      <td>0</td>\n",
       "      <td>0</td>\n",
       "      <td>4</td>\n",
       "    </tr>\n",
       "    <tr>\n",
       "      <th>166</th>\n",
       "      <td>992</td>\n",
       "      <td>59.779413</td>\n",
       "      <td>33872.027523</td>\n",
       "      <td>6829.000</td>\n",
       "      <td>12</td>\n",
       "      <td>4423</td>\n",
       "      <td>7.071068</td>\n",
       "      <td>3.316625</td>\n",
       "      <td>1.732051</td>\n",
       "      <td>1.000000</td>\n",
       "      <td>...</td>\n",
       "      <td>0</td>\n",
       "      <td>0</td>\n",
       "      <td>0</td>\n",
       "      <td>0</td>\n",
       "      <td>1</td>\n",
       "      <td>0</td>\n",
       "      <td>0</td>\n",
       "      <td>0</td>\n",
       "      <td>0</td>\n",
       "      <td>1</td>\n",
       "    </tr>\n",
       "    <tr>\n",
       "      <th>167</th>\n",
       "      <td>9929</td>\n",
       "      <td>68.817101</td>\n",
       "      <td>55829.267857</td>\n",
       "      <td>3354.500</td>\n",
       "      <td>24</td>\n",
       "      <td>1494</td>\n",
       "      <td>9.110434</td>\n",
       "      <td>5.099020</td>\n",
       "      <td>2.236068</td>\n",
       "      <td>1.000000</td>\n",
       "      <td>...</td>\n",
       "      <td>0</td>\n",
       "      <td>0</td>\n",
       "      <td>0</td>\n",
       "      <td>0</td>\n",
       "      <td>0</td>\n",
       "      <td>1</td>\n",
       "      <td>0</td>\n",
       "      <td>0</td>\n",
       "      <td>0</td>\n",
       "      <td>1</td>\n",
       "    </tr>\n",
       "    <tr>\n",
       "      <th>168</th>\n",
       "      <td>9930</td>\n",
       "      <td>60.675794</td>\n",
       "      <td>49502.537197</td>\n",
       "      <td>2203.875</td>\n",
       "      <td>24</td>\n",
       "      <td>3900</td>\n",
       "      <td>7.810250</td>\n",
       "      <td>4.795832</td>\n",
       "      <td>2.000000</td>\n",
       "      <td>1.414214</td>\n",
       "      <td>...</td>\n",
       "      <td>0</td>\n",
       "      <td>0</td>\n",
       "      <td>0</td>\n",
       "      <td>0</td>\n",
       "      <td>1</td>\n",
       "      <td>0</td>\n",
       "      <td>0</td>\n",
       "      <td>0</td>\n",
       "      <td>1</td>\n",
       "      <td>1</td>\n",
       "    </tr>\n",
       "    <tr>\n",
       "      <th>169</th>\n",
       "      <td>9933</td>\n",
       "      <td>89.711266</td>\n",
       "      <td>61954.179299</td>\n",
       "      <td>3900.500</td>\n",
       "      <td>36</td>\n",
       "      <td>3900</td>\n",
       "      <td>0.000000</td>\n",
       "      <td>0.000000</td>\n",
       "      <td>0.000000</td>\n",
       "      <td>1.000000</td>\n",
       "      <td>...</td>\n",
       "      <td>0</td>\n",
       "      <td>0</td>\n",
       "      <td>0</td>\n",
       "      <td>0</td>\n",
       "      <td>1</td>\n",
       "      <td>0</td>\n",
       "      <td>1</td>\n",
       "      <td>0</td>\n",
       "      <td>0</td>\n",
       "      <td>3</td>\n",
       "    </tr>\n",
       "  </tbody>\n",
       "</table>\n",
       "<p>170 rows × 35 columns</p>\n",
       "</div>"
      ],
      "text/plain": [
       "    client_id  trnx_amount       balance  order_amount  loan_duration  \\\n",
       "0       10040    91.175567  67800.306760      7399.900             24   \n",
       "1       10043    66.198280  39671.731235      4130.000             36   \n",
       "2       10095    92.108245  56794.026005      6695.000             12   \n",
       "3       10198    94.017289  67685.356471      6239.200             36   \n",
       "4        1020    89.420068  65205.346070      7795.500             24   \n",
       "..        ...          ...           ...           ...            ...   \n",
       "165      9914    75.776596  63712.722222      3563.000             36   \n",
       "166       992    59.779413  33872.027523      6829.000             12   \n",
       "167      9929    68.817101  55829.267857      3354.500             24   \n",
       "168      9930    60.675794  49502.537197      2203.875             24   \n",
       "169      9933    89.711266  61954.179299      3900.500             36   \n",
       "\n",
       "     loan_payments  muni_pop<400  muni_pop_500-1.99K  muni_pop_2K-9.99K  \\\n",
       "0             6495      8.426150            5.099020           2.449490   \n",
       "1             2076      9.219544            4.358899           2.449490   \n",
       "2             6695      5.916080            6.000000           3.000000   \n",
       "3             6239      5.830952            3.464102           1.732051   \n",
       "4             7796      5.656854            7.071068           2.645751   \n",
       "..             ...           ...                 ...                ...   \n",
       "165           3563      5.385165            4.358899           2.828427   \n",
       "166           4423      7.071068            3.316625           1.732051   \n",
       "167           1494      9.110434            5.099020           2.236068   \n",
       "168           3900      7.810250            4.795832           2.000000   \n",
       "169           3900      0.000000            0.000000           0.000000   \n",
       "\n",
       "     muni_pop>10K  ...  region_south Moravia  region_west Bohemia  \\\n",
       "0        1.414214  ...                     0                    0   \n",
       "1        1.000000  ...                     0                    0   \n",
       "2        0.000000  ...                     0                    0   \n",
       "3        1.000000  ...                     0                    1   \n",
       "4        2.000000  ...                     0                    0   \n",
       "..            ...  ...                   ...                  ...   \n",
       "165      1.000000  ...                     0                    0   \n",
       "166      1.000000  ...                     0                    0   \n",
       "167      1.000000  ...                     0                    0   \n",
       "168      1.414214  ...                     0                    0   \n",
       "169      1.000000  ...                     0                    0   \n",
       "\n",
       "     card_type_gold  card_type_junior  gender_male  \\\n",
       "0                 0                 0            0   \n",
       "1                 0                 0            1   \n",
       "2                 0                 1            0   \n",
       "3                 0                 1            1   \n",
       "4                 0                 0            0   \n",
       "..              ...               ...          ...   \n",
       "165               0                 0            1   \n",
       "166               0                 0            1   \n",
       "167               0                 0            0   \n",
       "168               0                 0            1   \n",
       "169               0                 0            1   \n",
       "\n",
       "     working_class_professional working_class_retiree  working_class_student  \\\n",
       "0                             0                     0                      0   \n",
       "1                             1                     0                      0   \n",
       "2                             0                     0                      1   \n",
       "3                             0                     0                      1   \n",
       "4                             0                     0                      1   \n",
       "..                          ...                   ...                    ...   \n",
       "165                           0                     1                      0   \n",
       "166                           0                     0                      0   \n",
       "167                           1                     0                      0   \n",
       "168                           0                     0                      0   \n",
       "169                           0                     1                      0   \n",
       "\n",
       "     working_class_working_class  cluster_group  \n",
       "0                              1              1  \n",
       "1                              0              1  \n",
       "2                              0              0  \n",
       "3                              0              0  \n",
       "4                              0              2  \n",
       "..                           ...            ...  \n",
       "165                            0              4  \n",
       "166                            0              1  \n",
       "167                            0              1  \n",
       "168                            1              1  \n",
       "169                            0              3  \n",
       "\n",
       "[170 rows x 35 columns]"
      ]
     },
     "execution_count": 139,
     "metadata": {},
     "output_type": "execute_result"
    }
   ],
   "source": [
    "df4=df4.reset_index()\n",
    "df4['cluster_group']=y\n",
    "df4"
   ]
  },
  {
   "cell_type": "code",
   "execution_count": 140,
   "id": "b70cedaf",
   "metadata": {},
   "outputs": [],
   "source": [
    "X=df3.values"
   ]
  },
  {
   "cell_type": "code",
   "execution_count": 149,
   "id": "cae907a6",
   "metadata": {},
   "outputs": [
    {
     "data": {
      "image/png": "[encoded data removed]",
      "text/plain": [
       "<Figure size 792x576 with 1 Axes>"
      ]
     },
     "metadata": {},
     "output_type": "display_data"
    }
   ],
   "source": [
    "plt.figure(figsize=(11,8))\n",
    "plt.scatter(X[y==0,0],X[y==0,1],s=50, c='purple',label='Cluster1')\n",
    "plt.scatter(X[y==1,0],X[y==1,1],s=50, c='blue',label='Cluster2')\n",
    "plt.scatter(X[y==2,0],X[y==2,1],s=50, c='green',label='Cluster3')\n",
    "plt.scatter(X[y==3,0],X[y==3,1],s=50, c='cyan',label='Cluster4')\n",
    "plt.scatter(X[y==4,0],X[y==4,1],s=50, c='yellow',label='Cluster5')\n",
    "plt.scatter(k_means.cluster_centers_[:,0], k_means.cluster_centers_[:,1],s=200,marker='s', c='red', alpha=0.7, label='Centroids')\n",
    "plt.title('Customer segments')\n",
    "#plt.xlabel('Cluster Group')\n",
    "#plt.ylabel('Relative Ranking')\n",
    "plt.legend()\n",
    "plt.show()"
   ]
  },
  {
   "cell_type": "code",
   "execution_count": 143,
   "id": "b0420363",
   "metadata": {},
   "outputs": [],
   "source": [
    "cluster_0=df4[df4['cluster_group']==0]\n",
    "cluster_1=df4[df4['cluster_group']==1]\n",
    "cluster_2=df4[df4['cluster_group']==2]\n",
    "cluster_3=df4[df4['cluster_group']==3]\n",
    "cluster_4=df4[df4['cluster_group']==4]\n"
   ]
  },
  {
   "cell_type": "code",
   "execution_count": 144,
   "id": "53123a06",
   "metadata": {},
   "outputs": [
    {
     "data": {
      "text/plain": [
       "3    28\n",
       "4    13\n",
       "2     1\n",
       "Name: loan_status, dtype: int64"
      ]
     },
     "execution_count": 144,
     "metadata": {},
     "output_type": "execute_result"
    }
   ],
   "source": [
    "cluster_4.loan_status.value_counts()"
   ]
  }
 ],
 "metadata": {
  "kernelspec": {
   "display_name": "Python 3",
   "language": "python",
   "name": "python3"
  },
  "language_info": {
   "codemirror_mode": {
    "name": "ipython",
    "version": 3
   },
   "file_extension": ".py",
   "mimetype": "text/x-python",
   "name": "python",
   "nbconvert_exporter": "python",
   "pygments_lexer": "ipython3",
   "version": "3.8.8"
  }
 },
 "nbformat": 4,
 "nbformat_minor": 5
}
